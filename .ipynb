{
 "cells": [
  {
   "cell_type": "markdown",
   "metadata": {
    "colab_type": "text",
    "id": "view-in-github"
   },
   "source": [
    "<a href=\"https://colab.research.google.com/github/huggingface/blog/blob/notebook_update_may15/notebooks/01_how_to_train.ipynb\" target=\"_parent\"><img src=\"https://colab.research.google.com/assets/colab-badge.svg\" alt=\"Open In Colab\"/></a>"
   ]
  },
  {
   "cell_type": "code",
   "execution_count": null,
   "metadata": {
    "cellView": "form",
    "colab": {
     "base_uri": "https://localhost:8080/",
     "height": 100
    },
    "colab_type": "code",
    "id": "e67Ut53QYEdU",
    "outputId": "437871b8-b8ac-4eaf-c2e1-61d801c5e6b2"
   },
   "outputs": [],
   "source": []
  },
  {
   "cell_type": "markdown",
   "metadata": {
    "colab_type": "text",
    "id": "M1oqh0F6W3ad"
   },
   "source": [
    "# How to train a new language model from scratch using Transformers and Tokenizers\n",
    "\n",
    "### Notebook edition (link to blogpost [link](https://huggingface.co/blog/how-to-train)). Last update May 15, 2020\n",
    "\n",
    "\n",
    "Over the past few months, we made several improvements to our [`transformers`](https://github.com/huggingface/transformers) and [`tokenizers`](https://github.com/huggingface/tokenizers) libraries, with the goal of making it easier than ever to **train a new language model from scratch**.\n",
    "\n",
    "In this post we’ll demo how to train a “small” model (84 M parameters = 6 layers, 768 hidden size, 12 attention heads) – that’s the same number of layers & heads as DistilBERT – on **Esperanto**. We’ll then fine-tune the model on a downstream task of part-of-speech tagging.\n"
   ]
  },
  {
   "cell_type": "markdown",
   "metadata": {
    "colab_type": "text",
    "id": "oK7PPVm2XBgr"
   },
   "source": [
    "## 1. Find a dataset\n",
    "\n",
    "First, let us find a corpus of text in Esperanto. Here we’ll use the Esperanto portion of the [OSCAR corpus](https://traces1.inria.fr/oscar/) from INRIA.\n",
    "OSCAR is a huge multilingual corpus obtained by language classification and filtering of [Common Crawl](https://commoncrawl.org/) dumps of the Web.\n",
    "\n",
    "<img src=\"https://huggingface.co/blog/assets/01_how-to-train/oscar.png\" style=\"margin: auto; display: block; width: 260px;\">\n",
    "\n",
    "The Esperanto portion of the dataset is only 299M, so we’ll concatenate with the Esperanto sub-corpus of the [Leipzig Corpora Collection](https://wortschatz.uni-leipzig.de/en/download), which is comprised of text from diverse sources like news, literature, and wikipedia.\n",
    "\n",
    "The final training corpus has a size of 3 GB, which is still small – for your model, you will get better results the more data you can get to pretrain on. \n",
    "\n"
   ]
  },
  {
   "cell_type": "code",
   "execution_count": 1,
   "metadata": {
    "colab": {},
    "colab_type": "code",
    "id": "HOk4iZ9YZvec"
   },
   "outputs": [],
   "source": [
    "# in this notebook we'll only get one of the files (the Oscar one) for the sake of simplicity and performance\n",
    "#!wget -c https://cdn-datasets.huggingface.co/EsperBERTo/data/oscar.eo.txt"
   ]
  },
  {
   "cell_type": "code",
   "execution_count": 2,
   "metadata": {},
   "outputs": [],
   "source": [
    "# import transformers\n",
    "# transformers.AutoModelForCausalLM"
   ]
  },
  {
   "cell_type": "markdown",
   "metadata": {
    "colab_type": "text",
    "id": "G-kkz81OY6xH"
   },
   "source": [
    "## 2. Train a tokenizer\n",
    "\n",
    "We choose to train a byte-level Byte-pair encoding tokenizer (the same as GPT-2), with the same special tokens as RoBERTa. Let’s arbitrarily pick its size to be 52,000.\n",
    "\n",
    "We recommend training a byte-level BPE (rather than let’s say, a WordPiece tokenizer like BERT) because it will start building its vocabulary from an alphabet of single bytes, so all words will be decomposable into tokens (no more `<unk>` tokens!).\n"
   ]
  },
  {
   "cell_type": "code",
   "execution_count": 3,
   "metadata": {
    "colab": {},
    "colab_type": "code",
    "id": "5duRggBRZKvP"
   },
   "outputs": [
    {
     "name": "stdout",
     "output_type": "stream",
     "text": [
      "Collecting git+https://github.com/huggingface/transformers\n",
      "  Cloning https://github.com/huggingface/transformers to /tmp/pip-req-build-4sqk6m0t\n",
      "  Running command git clone -q https://github.com/huggingface/transformers /tmp/pip-req-build-4sqk6m0t\n",
      "Requirement already satisfied (use --upgrade to upgrade): transformers==3.0.2 from git+https://github.com/huggingface/transformers in /home/taylor/anaconda3/lib/python3.7/site-packages\n",
      "Requirement already satisfied: numpy in /home/taylor/anaconda3/lib/python3.7/site-packages (from transformers==3.0.2) (1.18.1)\n",
      "Requirement already satisfied: tokenizers==0.8.1.rc2 in /home/taylor/anaconda3/lib/python3.7/site-packages (from transformers==3.0.2) (0.8.1rc2)\n",
      "Requirement already satisfied: packaging in /home/taylor/anaconda3/lib/python3.7/site-packages (from transformers==3.0.2) (20.3)\n",
      "Requirement already satisfied: filelock in /home/taylor/anaconda3/lib/python3.7/site-packages (from transformers==3.0.2) (3.0.12)\n",
      "Requirement already satisfied: requests in /home/taylor/anaconda3/lib/python3.7/site-packages (from transformers==3.0.2) (2.21.0)\n",
      "Requirement already satisfied: tqdm>=4.27 in /home/taylor/anaconda3/lib/python3.7/site-packages (from transformers==3.0.2) (4.46.0)\n",
      "Requirement already satisfied: regex!=2019.12.17 in /home/taylor/anaconda3/lib/python3.7/site-packages (from transformers==3.0.2) (2020.7.14)\n",
      "Requirement already satisfied: sentencepiece!=0.1.92 in /home/taylor/anaconda3/lib/python3.7/site-packages (from transformers==3.0.2) (0.1.91)\n",
      "Requirement already satisfied: sacremoses in /home/taylor/anaconda3/lib/python3.7/site-packages (from transformers==3.0.2) (0.0.43)\n",
      "Requirement already satisfied: pyparsing>=2.0.2 in /home/taylor/anaconda3/lib/python3.7/site-packages (from packaging->transformers==3.0.2) (2.4.7)\n",
      "Requirement already satisfied: six in /home/taylor/anaconda3/lib/python3.7/site-packages (from packaging->transformers==3.0.2) (1.14.0)\n",
      "Requirement already satisfied: chardet<3.1.0,>=3.0.2 in /home/taylor/anaconda3/lib/python3.7/site-packages (from requests->transformers==3.0.2) (3.0.4)\n",
      "Requirement already satisfied: certifi>=2017.4.17 in /home/taylor/anaconda3/lib/python3.7/site-packages (from requests->transformers==3.0.2) (2020.6.20)\n",
      "Requirement already satisfied: idna<2.9,>=2.5 in /home/taylor/anaconda3/lib/python3.7/site-packages (from requests->transformers==3.0.2) (2.8)\n",
      "Requirement already satisfied: urllib3<1.25,>=1.21.1 in /home/taylor/anaconda3/lib/python3.7/site-packages (from requests->transformers==3.0.2) (1.24.3)\n",
      "Requirement already satisfied: joblib in /home/taylor/anaconda3/lib/python3.7/site-packages (from sacremoses->transformers==3.0.2) (0.14.1)\n",
      "Requirement already satisfied: click in /home/taylor/anaconda3/lib/python3.7/site-packages (from sacremoses->transformers==3.0.2) (7.0)\n",
      "Building wheels for collected packages: transformers\n",
      "  Building wheel for transformers (setup.py) ... \u001b[?25ldone\n",
      "\u001b[?25h  Created wheel for transformers: filename=transformers-3.0.2-py3-none-any.whl size=810726 sha256=91b44485b333ef849f4f35eff34c286b158e543a897bf95df7caf72167a14877\n",
      "  Stored in directory: /tmp/pip-ephem-wheel-cache-5sgdnm9z/wheels/35/2e/a7/d819e3310040329f0f47e57c9e3e7a7338aa5e74c49acfe522\n",
      "Successfully built transformers\n",
      "tokenizers                         0.8.1rc2           \n",
      "transformers                       3.0.2              \n"
     ]
    }
   ],
   "source": [
    "# We won't need TensorFlow here\n",
    "#!pip uninstall -y tensorflow\n",
    "# Install `transformers` from master\n",
    "!pip install git+https://github.com/huggingface/transformers\n",
    "!pip list | grep -E 'transformers|tokenizers'\n",
    "# transformers version at notebook update --- 2.11.0\n",
    "# tokenizers version at notebook update --- 0.8.0rc1"
   ]
  },
  {
   "cell_type": "code",
   "execution_count": 4,
   "metadata": {},
   "outputs": [
    {
     "name": "stderr",
     "output_type": "stream",
     "text": [
      "[nltk_data] Downloading package stopwords to /home/taylor/nltk_data...\n",
      "[nltk_data]   Package stopwords is already up-to-date!\n"
     ]
    }
   ],
   "source": [
    "import pandas as pd\n",
    "from tqdm import tqdm\n",
    "import nltk\n",
    "from nltk.corpus import stopwords\n",
    "nltk.download('stopwords')\n",
    "from nltk.tokenize import word_tokenize"
   ]
  },
  {
   "cell_type": "code",
   "execution_count": null,
   "metadata": {},
   "outputs": [],
   "source": [
    "\n",
    "    "
   ]
  },
  {
   "cell_type": "code",
   "execution_count": 5,
   "metadata": {},
   "outputs": [
    {
     "name": "stdout",
     "output_type": "stream",
     "text": [
      "['1', ' ner, hub f cvl cu., (/r/plc/wk/nex#wk__cvl)n generl,  ceu  r., ebe/cu/rgue r  e, n ck peple., perl nul, h  r ccun, he peech, **n** vcng  whng eh/phcl hr, r rule vln cn ul n pernen bn., f  ee cn n vln   rule, plee p ., f    quen grng n ule ng pe  hub, plee clck (hp://www..c/r/plc/wk/whel)  w  el   whel le cr., ****  b, hcn  perf uc., plee cc er  hub(/ge/cpe/?=/r/plc) f   n quen  ccern., *', 'l v  ge  fr.', 'en  el!, ..   funn!', 'elee', 'rup 100% l h   h w blck   ben', 'rcn(hp://hp.rpp.c/hg-pr.3.zw.c/ge/pen-elec-nl-rup-n-kne--n-ger-new-ph-1586966279.jpg?ze=768:*)', 'ee lughng ju lke ee lug wn rup fr nunce', '’ gb?,  wer wn ng blck  f ben?', 'r ler wn   rup  publc un., ju pr  hlbu lee.', 'ler gg  g    w   f h.', 'r  nee!', ' he her.', 'kne   g w ’ ju cl', 'h., gne kne  pen..’ ke h  rup.', 'cue  fuck   hp., l fuck h krhn.', '  ju le 40 er l whe hper   ben.', 'nl egne  rw blck  ng  w  ben  lp rup.', 'n  ju    vng f r-n-cf., kne  gnl   f nl rup n 2020:  kw   vng (hp://www.bunener.c/kne--gnl---f-nl-rup-n-2020-2020-4)', 'cncl pl n hpe  pung n   ecr  lp hb rup?,  hnk .', 'hee lke w  f hng lke h.,   ’ exl h-ghe  kne,  w  pr-rup pl  ke ben’ frcn-rcn r.,   fn  h lke kne', 'c  le grn', 'g r hw rch gu  hnk  qulfe  le cunr., cerng   ene rce 4h h fe elecn  clerl eru b cng pen.', 'hgnfuck  ben.,  he kne en e w.', ' hlne?,  f  ju c lke hn’ hppen cpleel gne ?', '🌹 wer’ new f cne 🙄🙄', '* ju kw kln jenner gg   vp., *', ' le hn  er  ben n’ geng elece🤷🏽\\\\u200♂️', '’ curu  ee  new hnle h.,  blew rng  prperl c celebr n plc n 2016 wh rup,  ’ nee  ee f  lerne nhng h run', '  gn  b n  e, en f  eru.', 'hr?', ' n blue .', ' f kne  f rup.', 'lw ng  h f enn.', '  l kne.....', '’ vng kne  ben le’ g.,  ju fun  n  fn gr ch, eb hpe w., n w g   kne  ben!', '  *h* cle  fuckng g   hlne., hnkfu, hw g nw.', ' fuckng .', 'h,  cn fn cck hng f  2020 bng cr', 'h   jke, rgh?, cue  r f  ke  w  ben  ge 4 e er  hh!', 'n’ kne  lghl n ?,  e  er rup   n   clerl 100% vbl n unble,    en nne pr  h geng fce  w  hcpgn.', ' hnk  l   ugu  run  hr pr cne?, eh hn’ rcn 🤦\\\\u200♂️', 'l hng kne nee  l      er elu hul.', '  hul rr r krhn, ', ' g hcunr nef  ub., 2020 chnge .,  genunel he hcunr w.,  jke.', ' lke kne,  hrculu.,  n’ wn nb ele rng   peple  hul  ke chrge  fce', 'kne rup fn., hnene  lp rup.,  peple w bluel e r   kne ., n  e w  ng n r  w ke ffence.', '  rchwl c ', 'b e., hcunr en’ wn hr pr le le hr pr cne.', 'en f   eru, whch  hghl, hghl ub,  p uch   .,    r  pu ger le cpgn  quck r  ge  b,  whch   pe   b ., unle  wng  pen blrg-pe e rgh w,  publc un., ee  f flng e    b, cr wn  nepenen cne., (hp://bpe.g/pn_e_n__2020_penl_rce) elne  l pe f nc, x, n, n, , n., n , k, c, fl cle n le hn 2 ek.,  163 ev l f ble r e l cle n ugu.', ' nee gnu n e e  ge  b  cern e.,  ub f   gnzn   peple cec gnu n e e.,  hnk hpublc un f nex lbu lee.', 'p bvu (epe) pl  nege ben’ blck .', ' er run  n nepenen l', 'n !,  prbbl en  kng  w  rn  h efnel her', ' funel  l e  pperng  penl b hn eclrng  cnc  wer., kne cn g  leep ngh hpp wh enn  gen ,   u cn g  leep kwng   w cu pper  b nw.', ' lke  nee r  n fce.', ' rc gnn  u  blck peple w  f n blck fce  b.,     nee  cck el.', 'eh  he h', ' c ple w-n ', 'll., hnuncen w ge b    jeu kng.', '  hf er hlf w.,  clerl  hppenng.', 'fuck ', ' fuu fr le ju keep geng rr rr', ' g   7', 'hfuckng gu.', 'cn  ju g bck  gnng kne', 'f h pu rup  ben n r, hcunr eer e h,  hng  hppen  .', 'gu  p en hugh kne  uggee  h g   wul   f rup l  hppene nce plu n  ence c   gh’ en fkng hp f pr f.,    uch ub kne hurng hfce n er  el   ben f rup., eugh wh  .,  lkel ’ ng hf lbu hpe., l  nee   lze  plc cplee h.', '.', 'hwul 100% lecn  rup.,  w c rup zer r w c ben eugh  er., hhuge vn pl  gg  fuck ne, rgnlze, ’ lef  le cl rcn generl publc f 4  e er h n er  ke cunr  c.', '   ucceful  blrg.', 'hnk  eezu 🙏', 'eh l ben   p  ge blck  : b., kne  hng cp  bwn  c  ppulr   ju g frcn rcn r.', 'cn  ju ppce fc  n’ hck ne?, lke f h l er  wul’ l  n  n 2020 ’  ju lke “eh hke ene, ’ r,  er”', 'l.,   kw  hr   ge  b n n e  n nepenen cne?, flng elne f e  l clng n l  plce., hnk hvn prjec en  n g  gnzn  , prbbl n l hng., ll e.', ' u n w  lk    wul run gn rup...  bue ne?', 'cue  wn rup  wn f  nne .', 'pen  ?', '.', 'fuck hh., rup  hgh fl  fr  hbe., lw 40’., f    ke en cle  p  ben’    w n cne n blegrun e   eeng 4 e er  rup., ng peple  l  enhue   f ben hju epcble.', 'en    penl elecn?', 'lk lke rup ke hbu f fv.', '   g   fuckng kng .', '', ' cul,   cler,  lk b h.,  cul ju  engge wh hprculr e/.,   ng  huln engge.,  hul f  wn .,  ju hnk peple  fge   r pn., l, new ker ce : hp://wer.c/newker/u/1279593485583159296', 'crcke chrpng', ' wn  e.', ' ge , ’ nex   chnce e  **n’** ecr  publcn wul wn n rcn plc,  kne’ prbbl gg  er fl hr, g helf  ccle  lk bck ,   lkel ubr   wul’ n f je ben / gen & lrrn, gvng nl rup n eer chnce  -elecn.,  hpe  plcl e cn f n fuu  g e ele chnce, ’ l n h ble ’    exl lh hn “pcke”  lb / bg $ n er   feble chnce n erl pr  rce.', 'n  lk lke  vn  kng f r k rgh w.', ' ju wh  run  gen cne., peple w b hnee    runnng  n evngelcl chrn.,  n kw   ke  .,  gh run  rgh  rl gn., ,  cul cu wn!', 'bng cr  geng crwe  hp.', '’ 2020.,  ce', 'w,   ge chrn gp ?, gu lkng b ng bn gn chrn, pung  n en lbu b jeu,  whe gu?', 'fn., /', '', 'e  gn  en  cvlzn.,     ee plcl ce  rune eg wh nene celeb e gn.', 'huge kne n ., ju n n...', 'hr p.', 'jeu wlk, kne run., #e2020', 'ne  flr wh e kne w erc ubnl un  blck r  ben be, clerl  n blck cun.', 'b g h hp.', '/r/_e', 'wne unn ew elz cch 2020', 'kng h', 'ww., hw  rp blck rcn   ben., g jb f cunnng publcn g.', 'ee ng plng blck ,   hnk hcu gnpl hper .,  feel lke 40%  rup r wul flp f kne uk', ' fuckng , u  f hpch  gn.', 'g ’   f hlne  en., hel., cn  ju g   2021  ne wh hh w?', ' ju  , wchng cble new ng h h4h  jul,   c  ngulr  url?', 'fc  peple  en e ccerne b h   (jufbl) lw pn  n rcn r.', 'fuck kne.', ' hnk ng n l v  enernn hul qulf n e  cng pen., lk   er “celeb”  brugh  cunr.', ' h  pu h blck  w  ben., gu rgh   gh   l  chce.', '...e   hnk  cn  blck  f rup?', '’ cul   rne w  ge kne e2020', '’ vng f kne ne   fer cn chnge  n', 'kne bvul  feel *crz* ubgr  r lck penn.', 'hee lke   e   rup, cue l  wul   b kne he  blck peple  e l  er.', 'g fuck elf, 2020., h hppenng.', ' e n hul    p.,  wrne u.', 'k  qul e  kne     pln  ge  b?, ?,    hugh', 'ke rccr gn', 'eez f pez', 'h g, le  2 rch nrcc celeb runnng f fce h plng   er cener.', '’ ju rng  e n lbu gu  nce.', ' w   bzr url f  elece h.', ' n   kw  n lke er chce    ', '2020 rng,    l hlf .', 'w  gger   😳', 'fuckng puke', '  u hlp  hur rup., l  crze  wul   rup w wch  kne,     w’ ke uch  ffence.', ' g h, p gvng h enn', 'ner hugh rup wul wn  w   rc nrc n whe hue., gn  wul ner hnk kne cul wn  f    wul  bplr nrc n whe hue., wuln’  lg fe  fn  ’ l rc   r en., en   .', ' uch  rup/gper ge hcunr?, huch', 'une e  rc', 'fn  v  rr', '’ lke  n’ lerne nhng n p 4 er wh n gnn, nexpence celebr  pen  hcunr', 'whle    gh   ge  celeb  run., ,   ke v   ., ce, kne, prh,  nng hle lke glr gf, r., juge  wcn frr.', 'el wn rup  wn.,  er  uch  phlnhrp  ke helf   ,  ju r rch hle, rch hle prpe  rup wh  x cu een fe e  gnn.,  cn le peple   nrrw-ne  n h ju cue  p  wc pewepe.', '>  er cne hn rup.,  prbbl wke  pln ger... f  runnng  n nepenen, n  f h  ken w  ben.', 'e hrce nrc  h  nex.', 'elee', 'whle ’  blck, cn n blck per e    feel b ben, pecfc fer    b “f  n’  f  ’  blck”?', '', '*blck celebr    eg  en lkng b runnng f pen f ler er run f pen*h e, u cue whe gu l h ', ' wn  keep r hgr erner cpe x cu', '  n’., kne 100% wn publc f hnew lbu  e   runnng f pen', '   ng .,   blue bgge wr.', ' w’  pl nrc  hur rup?', ' fuckng he lne  2020.', 'elee', 'kne ppe png rup 2 er g', 'hlke 30 rck wn jck h rc  ue blck r.', 'ne cn nunce., le ee f  ge  n e b.', 'g fuckng p  ll.', 'n gb erl crfce f pnl vnge.,  crfce ?', ' g new lbu rppng...', 'prbbl publc un ’ ee  fr  ke ., f  ju wn  ge hn n f hlbu  gh nunce rp  n ek.,  ce  gh cu  n  f lg hul whch cr.', '’ wng   ?, .', ' f rug', 'fuck ?,  ju r rup blcker burgee f.', '  ner gn nw.,  n’ g g h b hcunr.', 'elee', '>ler gg  e  ff', ' ., fuck 2020.', 'fuck., gn.,  wnnexp.', 'er u  n enence', '125,000+ rcn  e  cv hfuckng  hnk hperfec   run r cpgn  wul l lp cnue hu nrn., fuck 2020', 'f  f ehng   ke,  l  ee ele ebe en rup kne.', 'h   n ep  pl   ben, rgh?, l wnner bln, cue   e  w n  n rup  ben :(', '  een hwfe?', 'hnk .,  hugh excl', ' lw ucke.', '  l kne, rgh  g knechp  ul kne, e  hgl kne', 'eh   ng uch h...,  ke n nne crb r  nne', ' c,  wul  n enernng pen', ' lkel.', '40 er l hper len  gen-x crp., kne ennl pn.', '’ egne  w  w prbbl  ppe ll50 er blck church-ger n’ vng f kne  ben., blck cerv  wul  f rup wul prbbl  f kne h.', '  le  ce b ben vp ge hh   wh.', 'h f rup.', ' hng cul  cc.,  wn   f rup *n* run  ph  gurnee rup vc.', '.,    kw  \\\\ vng ., f  kw nhng b kne ,  p cler    ng   pln  vng f kne ', 'ww(hp://u./chcuz-0)', ' hnk  ez rgh.', 'h k publcl    l “pr-rup”  ge wrgfu p ne fe.', '  u  n’ jke?', 'rup n’ hb.,  le urng gege fl p    ju uckng   rup  ge peple   pr  huln’  .', 'ep h c u rfuckng wn   ', ' wul n r pl  f kne r pe  r?', ' hnk(bg clr ) kne  cu que  ng  we  gh  w  gn fnhp wh rup n ue  fnhp  fe ncen blck peple   jle  wrgful cvcn.', 'jke  h, whe peple lke huff .', 'elee', 'p lkng h.,  wn  lp rup cue rup cn crl lp h.', 'kne fuckng  peple hul p png enn  h.', 'er w,  ck   kne.', 'l ge !', 'kne cpgn w   uful rk we fn.', ' lkel w en ke b n  e, f n.,  ub hw  lke b en n nex ek.', ' qu   lerne r le  2016.,  w    fr pge rw.', ' ce  ,  he ecr e hn ne', 'glee ’ een er   lne wh hgung., hehe   fuckng l', 'keep ng pl.', 'hnk g.', '   lerne  j en l ,   ke  hu n hnful  e.', ' feel lke peple gh  ub eugh   w n', 'nzer un  peple w  hrw r  w  w n f kne,    peple w  n plce lke wcn fl', 'en n, ’ **fr**  le f kne  ke n pc   (e  ng “ken” hr pr cne  grb e neurl r).,  n’ hnk gen  lrrn cn fel rg cne ( lw)  fel g cener v clc ecr v publcn r, le le e ’ “pr-rup” wn “equl f ” lke kne   en ung nce pen k fce nerl 4 er g., ’  b wh n eg ’ l  fng  uble  n un ruhe, l  plen  peple & fu celeb, kne’ gg  run h  enn & p', ' ke   ?, ee lke  e qu  en  hun gnu  ge  b., hng rch crz per cn’ ccplh', ' e n er., wng e ., f  run  nepenen  cn  ge  fg wng e: cl, h, pennlvn, vrgn, nev,  elne  ger ugu 2020.,   b 2 ek  ge  fl/chgn.,  ju nee    hun     lp rup.,  hpe peple lze he hn cncl pl,  wn r 4 er  rup., f e er  e l e, e pful fegn ene, e chln n cge, e ck  lhc e, e er  cl fe ne, 7-2  we  c., h kne  wn f   fl.,  hwfe,  p h 100% n nev  wn  enu rup wn elecn.', 'hnk f  lgc urng h., b e kne.', '  blck  n f blck lfe, whch   rup p.', 'w,   ge chrn gp ?, gu lkng b ng bn gn chrn, pung  n en lbu b jeu,  whe gu?', ' kw ’ g,   kw hvlue l.', ' f kne  f uce', ' ler n.', ' wn  lp rup.', 'chp  hul kne, e  hgl kne.,  he new kne....', 'nerne erch genc cng peple n wk erl ,  ee', 'eh  errble e.', 'e png n rup ub wn  pen   wlkng w  ben?', ' en   ng .', 'lghl n en., kne brken  pr.', ' bplr  ex.', '   pene  lke rup  ge peple   pr.', 'ehng   rgh.,  e pprchng quen  f  eru b wnnng.,  .,  l eru b rwng   ben  lp hpfer cne,  rup.,  cu en en nee    b   .,  ge  w-n.,  l w ge l  publc, whch   ulel ue  p rup.', 'en ,   fuckng rpble.', '  en   w n cne.,  nee eru e gnzng  ge gnu  en   b.,   n nrcc   hnk   w  ken erul.', 'l   e rn    bl n r n .,  ppng, c .', 'rc cerng je ben   hvp pck w bluel  n.', ' n hnk  eru er.,  cn febl bul  gnzn n   e.,  nee en  hun  wker., pen n ungl u  e   n hnk   ch f.,  gg  c   hpcke.,   nnl cee  lp h fun.', ' n ., whch,  l     rup per, b  lgcl e  cn hnk .', '~163 ec   bc l   pl f h., pble f h  wn.', ' r gp hnk ucker crl gg  run n 2024?', '   fgu ?,  r b r grn pke rng urng p.', '’ efnel gg   e blck urn  f ben hn f rup., e   ecr fun ben nn  ncng  cue e frcn rcn pe h hn n r ecrc cne runnng (l cue   b’ vp)', 'nger e  u n  enhue    h.,  pn grnpn  h le  expence.,  fr ne   fn  fl   ge lke h  ', 'll.,   ng  f ben rc n fce   rc nnl per  er  elece  fce?', '>blck r fv ben  rup  n wlng rgn (89%  7%)., per pew erch png(hp://www.pewerch.g/plc/2020/06/30/publc--urn-gr-rup-rl-ben---perl-r-j-ue/)', 'n j u  ben  vp f fr er frcn rcn u pen.,   lke pen  .,  cn ge er enn hn bf e rng  ecu blck ., kne ucl genu   l cplee ., l peple  n   el pble eenger p peple  lze lh rpper.', ' n, hle n g, cn  en ge  b n e e?', 'prn  gnnce; cul  e   hn u f?', 'elee', 'kne’ l l   gw  p  er.,   wn h  ge bck  h p ng  g crz  g .', 'eh  feel lke l hun kng cle  ng  he.', '’ u?', ' hnk  en  ee un  plc unnf r   ( lkng b ee  -  blck peple).,  urln,   kw nne  peple  wul  f e lke kne cue  funn  jke,   wuln ee bl  kne  ke  w  e.', ' cr n rgh   ', 'excep kne l rup,   wul    f h  run n 2020?', ' cenl e hp f rup., hp://www.bunener.c/kne--gnl---f-nl-rup-n-2020-2020-4', 'whle  n ge wh  enn kne huge rup per xcl hng rup hnler (e fegn c) wul ugge kne ', 'hgu  lke 9 plnu lbu n rw., fc  el ju en h, fucker  f .', '    gg  run n 2016    ge  kne kwn   wl hng f p rgh fe  rp n lbu  he', 'kne kne.,  e  nee  pu un lke fke penl run  hpe  hlbu.,  rgubl n p 5  fu lvng r n wl., hn nl rup crc2016  lkng b .', 'l  e rn 100% f publc  ene  pen.', 'elee', 'e   new lbu cng ?,  feel uch er b hf   ju r e  hbvu pr un fe new lbu.,  w hn ep  gp hbu rup  pu   ben.', ' n kne n fu g(hp://pb.wg.c//eccquvuuw8?f=jpg&n=)., ee er rnpn   ju rng  lue ben nur wh blck peple.', '  eugh lerl ube vng f hr n 2016., hggnc ler   kne.', 'h   hnel rc cn    .', ' cn l ge   w-n cne,  nee hun  gnu n *ech e*  en qulf f .', 'n', ' h?, e.', ' l hnk vng lp ll.,    ele rch hle.', ' n el rc?, ?', 'rc???, wf??, ?', ' rr e   hn prcpe n e  bul  evl., fuck e,  w  cplcen g gnn  .,  fuckng he he ee nvl.', '?, hfnc new.,  zer chnce  ke ngle   ben.', 'lkng bck fl w  2019...', '’ publc f hlbu n’  neur b ', 'br f ben cn wn cue kne run   g chce ll', 'ncen v ncen.', ' ce  .,   chnce  wn hle cue ecr w ccep h   plcng rup.', ',  ger cl?', ' rue', '’ excl  g u n h ’ n rgh w.', 'cue ’  b enernn  fuckng cl., ’ b peple l., g wch l v f  wn   enerne., le plc  ul.', '50 er l blck r w r r fle ng lcke   ben   efnel w  vng f h', 'eh... e rgh., fer  pe,  lze kne wn  el   ben hrw elecn  r n cf', ' hnk  wrg', 'buh  gu n fu g.,  n c bck  fu g', 'u, jn.', 'perhp,   hp  n c uch f gvng gh r nef  ub.', '   f  jke pen f hcenur.', ' we f  jke., fuck jke cne, hcunr burnng en   f buh lke h.', ' u hpe ', 'll  n kne gl n f   pene   wke gn n er  ke e f p.', ' g   kne?', ' ’ ju ng peple  gh   f ben pl cue  n’ lke rup,  w w ju w n kne’ n., r hr?', 'p nl  ng peple  n’ lke rup  gh  ben, w w ju w n kne’ n., hu 4 e er  nne', 'whe cerv   ckng wh rup    b f lef', ' ** hpe hcn en’ en   /r/gelkelk n er.', 'f n nepenen, elne n  e n unl  n ugu l qu  hugnu.,  hnk  cul el ke b n  e f   wne ., hp://bpe.g/b_cce_f_penl_cne', ' cue   ju  uhrn  curn cerv,  ju n lze  e', 'h n  u  e e   , hng pe  f e hn  fc ll.', ' e ke  epec ffcul f nepenen wh j  n pr bckng  ge b cce,  hpublc un hng e', '', 'flng elne  l pe n n e, wh j  nng flng elne cng ue n nex 2-4 ek., kne wul   cec en  hun  gnu n  e  gn b cce, wh le hn h   .,  fuckng publc un.', 'cu ., gn  gr jhn lpe clnn n  le 4-5 e.', '  peple wul er  f rup, lrrn,  fuckng cke ue f  n vng kne,   ju wuln   ., n blck n   vng f kne n gg   vng f n ecr nw.,  gg  ge fuckng  hep  hng e.', 'n hnk  peple  vng f ben nw f  gg  c n   jke.', ' cn bu pen gnu lke e gu bu wer g f', '1)  cn bu pen gnu,  cec  lne,  lengh n-per prce.,   e  nne qu en  hun  cerfe gnu,  qu gnu   peple ge  ., r,  n ee  hppenng n  e., 2)  fuck gg  wch   ben  kne?, b, \\\\  gg  ke   ne excep   n percenge  rup-png blck n.', ' e  f blck l.,  n   blck flk w whe c  wn, cue whe c l  wn blck flk ng nce.', ' ne e f blck l hn n cen pen., hc blck cege, ppun ze, crnl f, c lw unepln.', 'whe gu,  ce.', 'whe ue ll', 'ge', 'kne ne  ecr l elecn., erch.,  ue rup  fe ncen blck peple   pr', 'fn ck ger.', ' kne n’ cer plcn lke ben., rr  h., hlf peple n’ en lke ben, ’ ju  lrgh., kne pecl., cn’ p h., kne 2020 bhnk b  cuz ’ e hn plen.,  br rn kne 2020., e: l  b   ll., kne 2020', '  wh rup fe  ben.,    fn  ben fn fe kne rn.,  hhng   c ger ., kne 2020, l   e., ju   nunce  ’ hng  eb cn p -une  e  plcl pecru', 'fuck h.', ' ’  c rne  ke  g ’ ke  b.,  wer  rn chrcer w run nex f l fe.,   hpe  gu  n ker frg., ☕️', 'h., bplr  ffcul ne  l wh    .', '  l  h.', '    ccune rn n vl...   nex lel cr.', ' n’ c lke   penng wn  g fu nerw elng hruggle  rup per., hp://u./rzxpjcwqgfnl nue  pr.', ' r  e ng,  ge   wul  necerl  rng  wn., h, w-n cpgn  p uch uele,   lg   n  b, n ge  cul  wul   le.,  bgger el f  eru b geng  b gp   lp h  rfuck ecr.', ' b...', '....e fuckng e  w nne ccpl qulfe.,  rc   ep  kng p   bvul perce  cler clerl    e  peple  nee  cck el.', '   en l, plee cc  f  wrg,   ler r  blck cun   ecu cfble lfele f el  een en neg n u qu.', '’ ,   n’ lke ben   rc er', '  rup r eengl urp  hwn  j fr rc prle enn?', 'h  ee rcn ppulce., f  cpgn n nner ce brng  ben cr b nce  eggn,  cn   ge.', '“’ jck,” - pen brck b2009', '  fr, rup n  e b blck r., ’  hbe.', ' n, cplee  en hur run f pz w', ' n ncplee .', '  lrger e  cul   wul c $20-30 gnu  hp.', 'unfunel  hnk ., flng elne f nepenen cne ler hn f r cnehp://bpe.g/elne__run_f_pen#nepenen_cne', 'uncle hue, hh', ' e gern kw b r  blck cun n rc?, pr e que r cue \\\\ bvul ung  n b fh f  e  w/e  wn  buh b', 'p rng  crl kne', '’  jup el  whe gu l h  run?', 'kne n’ l rup n whle., le g  lee n’  pr-rup.,  n’ hnk ’ rup pl, ’ e lkel  hn eg hng.', '  en’ ... le  n’ *hnk*   hp...', ' ’ bvul gnpuh bck  e kne wuln’  hhelf f n enn eg ll cue ne  kw e kw excl    hh., f   knew b h  hpr rup h hng ele ’  hpn', 'el lw jkng run  wer., kne lw ng hng  ng hng rgeu fe n lbu rp.,   n’  eep e ’ g peple lng r h cng lke blck peple w ju  f er  kn cl    lk  cne fr.', ' c b enn e hn nhng.,  n\\\\ ub   l wn  lp rup ge elece hugh, epec fer el\\\\ ke  p nene.,  h n crn.', ' lw e bunch  exrh ll, ’ kne.,  echnc en’ nee   nhng  ge hl  enn.,  e  c ’ kne', 'kne lw  hng crz  ge publc fe n lbu rp.,  n’ ee  kw h   f e  cl “kne kne”', '’ cpleel ffen., 1., f   cu runnng  wul  ffen  rup   wuln’   n  w bg p., 2.,  n’ cu runnng e  gn enn fe hlbu rp.', 'rup rn f j pr nn., n  bue.', '’ cpleel ffen., 1., \\\\u2060f   cu runnng  wul  ffen  rup   wuln’   n  w bg p., 2., \\\\u2060 n’ cu runnng e  gn enn fe hlbu rp.', 'eh  e.,  wuln’ wr  n’ gg  en  runnng.,  n’ hnk   fnl wh rup ne f  len  hle ng ’  hng rup wul lke.', '  wn  ke   kne  cu runnng f pen?', 'e.,  ., ’   g.', '/', ' fuckng rnwck', ' zer chnce  run ’ publc f hnew lbu  e     he  wuln’  cue u lke  lw ke  wk.', 'kne lke n blck flk e c cerv hn ben.', 'r f  n hnk  2020 penl elecn fuckng jke   ucn cn r  w  e lbu., geng rup   fce w  pn f buh lke h.', ' hbb.', 'e.', 'wh   pu n., e.', '’ 18    n ul,   fn cege k w  vng f h., kne2020', ' hpe  ju r cl lkng f plgh     hfce  hwfe .,   ju .', '  n’', '  hr  le  celebr ’  pl wler cul  nvl n kf?, kne plng chrcer., f  n’ le  wch   he er cle nerw., ’ cpeen percep  .', 'll n  en    r n eb  cenl  l er?, n bggle  f u', ' n .  kpr qu.', 'elee', 'e  errfng., ’  rcn    cn     ncen peple  gg  e fe hng ge er .,  l  hpeful cue hng w nevbl ge er ., fe grw bck lr, e luh fer f; rcw ee grwh n hun ce f burn .', 'g new  n l un  peple   lke wer  fr en', '  rup cnc, lk w  g u.', '  hugh rup  publcl un.', ' ee nce ecrc', ' w   rue  .', ' lk lke  l 6 e(hp://bpe.g/elne__run_f_pen) f whch elne  l pe.', 'ww w    kw .,  e  n  r   blck peple.,   peple  bung hg n!!, !', ' ler ju en gerge fl ugher  cege rc   e.,  ppe blck wn  egn c  hnew clhng brn.,  lk b lng blck  blck cr  ., p rng  pn kne  e  en c f blck peple', '>c lw unepln., l   kw  hgh unepln w?,   ju c    cpule?', ' r gu ju uggee  e  f blck l.,   wul   e g hng   ., f  wne   blck peple w whe c  wn,  wul n n crcunce kne w  e g ee   uggee.', 'ju png w fuckng ke .', ' een   hvng cer plcn n vl fce  en lke.,  wn  nlc.', 'h e, cer plcn huln  pen, whch  wn  g n f urger  n prceu  ne  jn fr ek cepnfuck f', 'que  peple lke ben cu.,  een urng hpnec  plc cer -- rup  en b  pen leer  e cn ,  cler  hnexpence pnng nrn  ng   effec.', 'publc un n gg  une nhng.', 'b /bb r pnng 2024', 'lke ng  runnng f pen.', '   ... ’ rppng new lbu   wn   ge j enn.', '  n’ wn  enern e kne runnng,  f   run w-n cpgn,  l nee  ke w  n  elec e  rc hf rce  rup.,  p w  ben cn c h elecn.', 'e   uch ch  el lque?, r per pen nne un  e n hb f penc.,   e  run cpgn.,  nee peple, fce le gnzn., kne l h helf n f  rng gh n  eng wh rup., f  eru  wul gne  ge blze wh  ng  ph  ., hkne hpng h lbu.', ' ccl cerng je n le wh hnen  pck qulfe vp., ne  pe  vrue gnl e be  ng  hvp wul n fc  n., whch ee    wul  je ben  nee  cck helf be   nr.', ' hnk  gvng er elquen cvncng up peec  ppuln  cu ?, blck peple wlngl pe ben n pr epe    hng ng en  eh.,    le  w chnge., ler blck peple  l bgge blc  p   cu ;  frl bvu  w  wchng r   ben.', '   xe ge  wul  hugh., wne eggn en cr b,  w runnng  plf  f plce er cl  fr blck u pen.,     hng e nng hn nque b nce f kne wn    ge.', ' nr e en le ene', ' publc kwlege  kne  whe hue  e wh rup r eng  cble.,   l   .,   ple  whe gu l h    lke \\\\ nnung.,  wul efnel p rup   kne ener rce,  unlkel   wul .', 'per b  lnke  hrcle prbbl whle   png., knlk lke   ehp://www.bunener.c/kne--gnl---f-nl-rup-n-2020-2020-4', ' l feelng ’ ju fuckng crz., f h crz.,  w’   n f n e b, ’  le n g., e e: ’ ne wh el uk , ’ ju  fuckng crz  kne.', '?,    c ?', ',  n ng   f u wrg.,    pluble explnn,   e eez he kw hrue vn.', '.,  .,  ex n ncbl lrge un., en f vng ke,  vng en  peple., pckng leer  w evl n rue chce.,  fue   f rup  ben.,  ler enble e  uck  uch  vng f le evl.,  ju be f   kw.,  fuckng nne    n peple bun chce  h  bluel  chce.,   ccep  gvng chl w chce n  kwng  chce gunee  w., \\\\ plcl equvlen  e  ., r   w l  fuckng e.,  er  hr  fuck ., #kne2020', 'b wh w brn ce  rub ger ng r   w-n cne, whch    f  cn en ge eugh gnu.', ' w’ en  runnng fer hlbu rp he w  fgen b.,  gg  en  ppe wn elecng je fuckng ben en’ gc  wl.', 'je er', '  18... bg hcker., wn   18   f buh jr. ’ nce pue      ,  hpe  f   fn.', '   vng  keep rup n wh n., kne  0% chnce  wnnng,   ng pung   ben  lp rup vng   wn  equl   f rup ke  rup per', '    wrg.,  pr  lbu r', 'rup rn f j pr nn., n  bue.', 'rup rn f j pr nn., n  bue.', '  unecrc   e cec pen  r gnu  run f fce?, n\\\\  ecrc  efnn?', ' kne 2020  pr  n rc n', '37 e  r flng elne n jul  ugu.', ' n kw b r., f whe n cul   hr  blck peple,  wul  wrg    epe  ng blck.,  w r e  ppl.,  wul  ung hppulr  ke w  f eru cnc,  whch  l e n 2020.', '>  peple  bung hg n!!!, cue kne ke ecen uc  kne e  ke ecen hun.', ' ju 18 er l  w  ffece  r rup er', 'nphrngel wb f ene 2022', ' ju lkng   pble pc  cul  f  eru., f c,  n hnk   .', 'rup w  77,000  n 3 e., rgn er., en f  chp f 1-2%  cn lp h wn elecl cege., l, f  run 4& fe cege plf  cn ge prg., e blck peple   f blck peple.,  knew peple   f bn 2008 cue   blck.,  l knew peple   f hr ju cue  wne  ee 1 wn pen.', 'f g  new k, ’ fuckng le f  cn’ wk    n.', 'per n hue n-w uncle * n  w cue   u f  ge cugh n u-bn fler.', ' rcl lur', '  rue.,   .,   kne n  ce--ce un, cue hn cn chnge l., &#x200b; hp://www.kpler.c/uc/kne--ke-rc-g-gn-h-glc---p-pc-wh-vn-lhn.hl(hp://www.kpler.c/uc/kne--ke-rc-g-gn-h-glc---p-pc-wh-vn-lhn.hl)', ' w’ en run ce hlbu rp  w  fgen   ee h', 'll gne ng e per  crz f r fferng w, epec wn ; ulrucceful., e crz e br', ' n’ hnk  en kw hrue vn bh', ' kw peple  exc  h b rup rgh?, fuck jke cne,    eru f h.', '  lw peple n hgr/per cl  w n hrww cne?', 'bluel .', ' hpe   rgh n.', ' kw kne n’ gg    n  bg w p f  e run (whch  n’)   wul  cpleel ffen  rup.,    eru?,  f e cn’ w f rup  le ju f hng  chnge expec   new pge n’ fe wh uff b rup.', ' w ']\n"
     ]
    }
   ],
   "source": [
    "stop = stopwords.words('english')\n",
    "#custom\n",
    "Remove= ['and ','the ','is ','this ','a ', '\\n', '[', ']', \"'\", \"\\\\n\", '\"','he']\n",
    "Remove= Remove + stop\n",
    "\n",
    "data = pd.read_csv('reddit.csv', error_bad_lines=False);\n",
    "# We only need the Headlines text column from the data\n",
    "\n",
    "# data_text['index'] = data_text.index\n",
    "data_text = []\n",
    "for key, value in data[['text']].T.to_dict().items():\n",
    "    value['text'] = value['text'].lower()\n",
    "    \n",
    "    for rep in Remove:\n",
    "        value['text']=value['text'].replace(rep, \"\")\n",
    "        \n",
    "    if len(value['text']) <=512:\n",
    "        data_text.append(value['text'])\n",
    "\n",
    "# for element in data_text:\n",
    "#     for thing in Remove:\n",
    "#         element = element.replace(thing,\"\")\n",
    "\n",
    "\n",
    "\n",
    "# data = data_text..tolist()\n",
    "# data = data.replace(\"\\n\",\" \")\n",
    "# data = data.replace(\"[\",\" \")\n",
    "# \n",
    "# data = data.replace(\"]\",\" \")\n",
    "# data = data.replace(\"]\",\" \")\n",
    "# data = data.apply(lambda x: [item for item in x if item not in stop])\n",
    "# data = data.apply(lambda x: [item for item in x if item not in Remove])\n",
    "# data = data.replace(Remove,\"\")\n",
    "\n",
    "# print (data)\n",
    "print(data_text)\n",
    "\n",
    "\n",
    "\n"
   ]
  },
  {
   "cell_type": "code",
   "execution_count": 6,
   "metadata": {},
   "outputs": [],
   "source": [
    "\n",
    "\n",
    "# data['text']\n",
    "# temp = [] \n",
    "# for key, value in data.T.to_dict().items():\n",
    "# #     print(element)\n",
    "#     if len(value['text']) <= 512:\n",
    "#         temp.append(value)\n",
    "    \n",
    "# temp\n",
    "\n",
    "with open(\"RedditText.txt\", \"w\") as output:\n",
    "    for element in data_text:\n",
    "        output.write(element + \"\\n\")\n"
   ]
  },
  {
   "cell_type": "code",
   "execution_count": 7,
   "metadata": {},
   "outputs": [
    {
     "name": "stdout",
     "output_type": "stream",
     "text": [
      "1\n",
      " ner, hub f cvl cu., (/r/plc/wk/nex#wk__cvl)n generl,  ceu  r., ebe/cu/rgue r  e, n ck peple., perl nul, h  r ccun, he peech, **n** vcng  whng eh/phcl hr, r rule vln cn ul n pernen bn., f  ee cn n vln   rule, plee p ., f    quen grng n ule ng pe  hub, plee clck (hp://www..c/r/plc/wk/whel)  w  el   whel le cr., ****  b, hcn  perf uc., plee cc er  hub(/ge/cpe/?=/r/plc) f   n quen  ccern., *\n",
      "l v  ge  fr.\n",
      "en  el!, ..   funn!\n",
      "elee\n",
      "rup 100% l h   h w blck   ben\n",
      "rcn(hp://hp.rpp.c/hg-pr.3.zw.c/ge/pen-elec-nl-rup-n-kne--n-ger-new-ph-1586966279.jpg?ze=768:*)\n",
      "ee lughng ju lke ee lug wn rup fr nunce\n",
      "’ gb?,  wer wn ng blck  f ben?\n",
      "r ler wn   rup  publc un., ju pr  hlbu lee.\n",
      "ler gg  g    w   f h.\n",
      "r  nee!\n",
      " he her.\n",
      "kne   g w ’ ju cl\n",
      "h., gne kne  pen..’ ke h  rup.\n",
      "cue  fuck   hp., l fuck h krhn.\n",
      "  ju le 40 er l whe hper   ben.\n",
      "nl egne  rw blck  ng  w  ben  lp rup.\n",
      "n  ju    vng f r-n-cf., kne  gnl   f nl rup n 2020:  kw   vng (hp://www.bunener.c/kne--gnl---f-nl-rup-n-2020-2020-4)\n",
      "cncl pl n hpe  pung n   ecr  lp hb rup?,  hnk .\n",
      "hee lke w  f hng lke h.,   ’ exl h-ghe  kne,  w  pr-rup pl  ke ben’ frcn-rcn r.,   fn  h lke kne\n",
      "c  le grn\n",
      "g r hw rch gu  hnk  qulfe  le cunr., cerng   ene rce 4h h fe elecn  clerl eru b cng pen.\n",
      "hgnfuck  ben.,  he kne en e w.\n",
      " hlne?,  f  ju c lke hn’ hppen cpleel gne ?\n",
      "🌹 wer’ new f cne 🙄🙄\n",
      "* ju kw kln jenner gg   vp., *\n",
      " le hn  er  ben n’ geng elece🤷🏽\\u200♂️\n",
      "’ curu  ee  new hnle h.,  blew rng  prperl c celebr n plc n 2016 wh rup,  ’ nee  ee f  lerne nhng h run\n",
      "  gn  b n  e, en f  eru.\n",
      "hr?\n",
      " n blue .\n",
      " f kne  f rup.\n",
      "lw ng  h f enn.\n",
      "  l kne.....\n",
      "’ vng kne  ben le’ g.,  ju fun  n  fn gr ch, eb hpe w., n w g   kne  ben!\n",
      "  *h* cle  fuckng g   hlne., hnkfu, hw g nw.\n",
      " fuckng .\n",
      "h,  cn fn cck hng f  2020 bng cr\n",
      "h   jke, rgh?, cue  r f  ke  w  ben  ge 4 e er  hh!\n",
      "n’ kne  lghl n ?,  e  er rup   n   clerl 100% vbl n unble,    en nne pr  h geng fce  w  hcpgn.\n",
      " hnk  l   ugu  run  hr pr cne?, eh hn’ rcn 🤦\\u200♂️\n",
      "l hng kne nee  l      er elu hul.\n",
      "  hul rr r krhn, \n",
      " g hcunr nef  ub., 2020 chnge .,  genunel he hcunr w.,  jke.\n",
      " lke kne,  hrculu.,  n’ wn nb ele rng   peple  hul  ke chrge  fce\n",
      "kne rup fn., hnene  lp rup.,  peple w bluel e r   kne ., n  e w  ng n r  w ke ffence.\n",
      "  rchwl c \n",
      "b e., hcunr en’ wn hr pr le le hr pr cne.\n",
      "en f   eru, whch  hghl, hghl ub,  p uch   .,    r  pu ger le cpgn  quck r  ge  b,  whch   pe   b ., unle  wng  pen blrg-pe e rgh w,  publc un., ee  f flng e    b, cr wn  nepenen cne., (hp://bpe.g/pn_e_n__2020_penl_rce) elne  l pe f nc, x, n, n, , n., n , k, c, fl cle n le hn 2 ek.,  163 ev l f ble r e l cle n ugu.\n",
      " nee gnu n e e  ge  b  cern e.,  ub f   gnzn   peple cec gnu n e e.,  hnk hpublc un f nex lbu lee.\n",
      "p bvu (epe) pl  nege ben’ blck .\n",
      " er run  n nepenen l\n",
      "n !,  prbbl en  kng  w  rn  h efnel her\n",
      " funel  l e  pperng  penl b hn eclrng  cnc  wer., kne cn g  leep ngh hpp wh enn  gen ,   u cn g  leep kwng   w cu pper  b nw.\n",
      " lke  nee r  n fce.\n",
      " rc gnn  u  blck peple w  f n blck fce  b.,     nee  cck el.\n",
      "eh  he h\n",
      " c ple w-n \n",
      "ll., hnuncen w ge b    jeu kng.\n",
      "  hf er hlf w.,  clerl  hppenng.\n",
      "fuck \n",
      " fuu fr le ju keep geng rr rr\n",
      " g   7\n",
      "hfuckng gu.\n",
      "cn  ju g bck  gnng kne\n",
      "f h pu rup  ben n r, hcunr eer e h,  hng  hppen  .\n",
      "gu  p en hugh kne  uggee  h g   wul   f rup l  hppene nce plu n  ence c   gh’ en fkng hp f pr f.,    uch ub kne hurng hfce n er  el   ben f rup., eugh wh  .,  lkel ’ ng hf lbu hpe., l  nee   lze  plc cplee h.\n",
      ".\n",
      "hwul 100% lecn  rup.,  w c rup zer r w c ben eugh  er., hhuge vn pl  gg  fuck ne, rgnlze, ’ lef  le cl rcn generl publc f 4  e er h n er  ke cunr  c.\n",
      "   ucceful  blrg.\n",
      "hnk  eezu 🙏\n",
      "eh l ben   p  ge blck  : b., kne  hng cp  bwn  c  ppulr   ju g frcn rcn r.\n",
      "cn  ju ppce fc  n’ hck ne?, lke f h l er  wul’ l  n  n 2020 ’  ju lke “eh hke ene, ’ r,  er”\n",
      "l.,   kw  hr   ge  b n n e  n nepenen cne?, flng elne f e  l clng n l  plce., hnk hvn prjec en  n g  gnzn  , prbbl n l hng., ll e.\n",
      " u n w  lk    wul run gn rup...  bue ne?\n",
      "cue  wn rup  wn f  nne .\n",
      "pen  ?\n",
      ".\n",
      "fuck hh., rup  hgh fl  fr  hbe., lw 40’., f    ke en cle  p  ben’    w n cne n blegrun e   eeng 4 e er  rup., ng peple  l  enhue   f ben hju epcble.\n",
      "en    penl elecn?\n",
      "lk lke rup ke hbu f fv.\n",
      "   g   fuckng kng .\n",
      "\n",
      " cul,   cler,  lk b h.,  cul ju  engge wh hprculr e/.,   ng  huln engge.,  hul f  wn .,  ju hnk peple  fge   r pn., l, new ker ce : hp://wer.c/newker/u/1279593485583159296\n",
      "crcke chrpng\n",
      " wn  e.\n",
      " ge , ’ nex   chnce e  **n’** ecr  publcn wul wn n rcn plc,  kne’ prbbl gg  er fl hr, g helf  ccle  lk bck ,   lkel ubr   wul’ n f je ben / gen & lrrn, gvng nl rup n eer chnce  -elecn.,  hpe  plcl e cn f n fuu  g e ele chnce, ’ l n h ble ’    exl lh hn “pcke”  lb / bg $ n er   feble chnce n erl pr  rce.\n",
      "n  lk lke  vn  kng f r k rgh w.\n",
      " ju wh  run  gen cne., peple w b hnee    runnng  n evngelcl chrn.,  n kw   ke  .,  gh run  rgh  rl gn., ,  cul cu wn!\n",
      "bng cr  geng crwe  hp.\n",
      "’ 2020.,  ce\n",
      "w,   ge chrn gp ?, gu lkng b ng bn gn chrn, pung  n en lbu b jeu,  whe gu?\n",
      "fn., /\n",
      "\n",
      "e  gn  en  cvlzn.,     ee plcl ce  rune eg wh nene celeb e gn.\n",
      "huge kne n ., ju n n...\n",
      "hr p.\n",
      "jeu wlk, kne run., #e2020\n",
      "ne  flr wh e kne w erc ubnl un  blck r  ben be, clerl  n blck cun.\n",
      "b g h hp.\n",
      "/r/_e\n",
      "wne unn ew elz cch 2020\n",
      "kng h\n",
      "ww., hw  rp blck rcn   ben., g jb f cunnng publcn g.\n",
      "ee ng plng blck ,   hnk hcu gnpl hper .,  feel lke 40%  rup r wul flp f kne uk\n",
      " fuckng , u  f hpch  gn.\n",
      "g ’   f hlne  en., hel., cn  ju g   2021  ne wh hh w?\n",
      " ju  , wchng cble new ng h h4h  jul,   c  ngulr  url?\n",
      "fc  peple  en e ccerne b h   (jufbl) lw pn  n rcn r.\n",
      "fuck kne.\n",
      " hnk ng n l v  enernn hul qulf n e  cng pen., lk   er “celeb”  brugh  cunr.\n",
      " h  pu h blck  w  ben., gu rgh   gh   l  chce.\n",
      "...e   hnk  cn  blck  f rup?\n",
      "’ cul   rne w  ge kne e2020\n",
      "’ vng f kne ne   fer cn chnge  n\n",
      "kne bvul  feel *crz* ubgr  r lck penn.\n",
      "hee lke   e   rup, cue l  wul   b kne he  blck peple  e l  er.\n",
      "g fuck elf, 2020., h hppenng.\n",
      " e n hul    p.,  wrne u.\n",
      "k  qul e  kne     pln  ge  b?, ?,    hugh\n",
      "ke rccr gn\n",
      "eez f pez\n",
      "h g, le  2 rch nrcc celeb runnng f fce h plng   er cener.\n",
      "’ ju rng  e n lbu gu  nce.\n",
      " w   bzr url f  elece h.\n",
      " n   kw  n lke er chce    \n",
      "2020 rng,    l hlf .\n",
      "w  gger   😳\n",
      "fuckng puke\n",
      "  u hlp  hur rup., l  crze  wul   rup w wch  kne,     w’ ke uch  ffence.\n",
      " g h, p gvng h enn\n",
      "ner hugh rup wul wn  w   rc nrc n whe hue., gn  wul ner hnk kne cul wn  f    wul  bplr nrc n whe hue., wuln’  lg fe  fn  ’ l rc   r en., en   .\n",
      " uch  rup/gper ge hcunr?, huch\n",
      "une e  rc\n",
      "fn  v  rr\n",
      "’ lke  n’ lerne nhng n p 4 er wh n gnn, nexpence celebr  pen  hcunr\n",
      "whle    gh   ge  celeb  run., ,   ke v   ., ce, kne, prh,  nng hle lke glr gf, r., juge  wcn frr.\n",
      "el wn rup  wn.,  er  uch  phlnhrp  ke helf   ,  ju r rch hle, rch hle prpe  rup wh  x cu een fe e  gnn.,  cn le peple   nrrw-ne  n h ju cue  p  wc pewepe.\n",
      ">  er cne hn rup.,  prbbl wke  pln ger... f  runnng  n nepenen, n  f h  ken w  ben.\n",
      "e hrce nrc  h  nex.\n",
      "elee\n",
      "whle ’  blck, cn n blck per e    feel b ben, pecfc fer    b “f  n’  f  ’  blck”?\n",
      "\n",
      "*blck celebr    eg  en lkng b runnng f pen f ler er run f pen*h e, u cue whe gu l h \n",
      " wn  keep r hgr erner cpe x cu\n",
      "  n’., kne 100% wn publc f hnew lbu  e   runnng f pen\n",
      "   ng .,   blue bgge wr.\n",
      " w’  pl nrc  hur rup?\n",
      " fuckng he lne  2020.\n",
      "elee\n",
      "kne ppe png rup 2 er g\n",
      "hlke 30 rck wn jck h rc  ue blck r.\n",
      "ne cn nunce., le ee f  ge  n e b.\n",
      "g fuckng p  ll.\n",
      "n gb erl crfce f pnl vnge.,  crfce ?\n",
      " g new lbu rppng...\n",
      "prbbl publc un ’ ee  fr  ke ., f  ju wn  ge hn n f hlbu  gh nunce rp  n ek.,  ce  gh cu  n  f lg hul whch cr.\n",
      "’ wng   ?, .\n",
      " f rug\n",
      "fuck ?,  ju r rup blcker burgee f.\n",
      "  ner gn nw.,  n’ g g h b hcunr.\n",
      "elee\n",
      ">ler gg  e  ff\n",
      " ., fuck 2020.\n",
      "fuck., gn.,  wnnexp.\n",
      "er u  n enence\n",
      "125,000+ rcn  e  cv hfuckng  hnk hperfec   run r cpgn  wul l lp cnue hu nrn., fuck 2020\n",
      "f  f ehng   ke,  l  ee ele ebe en rup kne.\n",
      "h   n ep  pl   ben, rgh?, l wnner bln, cue   e  w n  n rup  ben :(\n",
      "  een hwfe?\n",
      "hnk .,  hugh excl\n",
      " lw ucke.\n",
      "  l kne, rgh  g knechp  ul kne, e  hgl kne\n",
      "eh   ng uch h...,  ke n nne crb r  nne\n",
      " c,  wul  n enernng pen\n",
      " lkel.\n",
      "40 er l hper len  gen-x crp., kne ennl pn.\n",
      "’ egne  w  w prbbl  ppe ll50 er blck church-ger n’ vng f kne  ben., blck cerv  wul  f rup wul prbbl  f kne h.\n",
      "  le  ce b ben vp ge hh   wh.\n",
      "h f rup.\n",
      " hng cul  cc.,  wn   f rup *n* run  ph  gurnee rup vc.\n",
      ".,    kw  \\ vng ., f  kw nhng b kne ,  p cler    ng   pln  vng f kne \n",
      "ww(hp://u./chcuz-0)\n",
      " hnk  ez rgh.\n",
      "h k publcl    l “pr-rup”  ge wrgfu p ne fe.\n",
      "  u  n’ jke?\n",
      "rup n’ hb.,  le urng gege fl p    ju uckng   rup  ge peple   pr  huln’  .\n",
      "ep h c u rfuckng wn   \n",
      " wul n r pl  f kne r pe  r?\n",
      " hnk(bg clr ) kne  cu que  ng  we  gh  w  gn fnhp wh rup n ue  fnhp  fe ncen blck peple   jle  wrgful cvcn.\n",
      "jke  h, whe peple lke huff .\n",
      "elee\n",
      "p lkng h.,  wn  lp rup cue rup cn crl lp h.\n",
      "kne fuckng  peple hul p png enn  h.\n",
      "er w,  ck   kne.\n",
      "l ge !\n",
      "kne cpgn w   uful rk we fn.\n",
      " lkel w en ke b n  e, f n.,  ub hw  lke b en n nex ek.\n",
      " qu   lerne r le  2016.,  w    fr pge rw.\n",
      " ce  ,  he ecr e hn ne\n",
      "glee ’ een er   lne wh hgung., hehe   fuckng l\n",
      "keep ng pl.\n",
      "hnk g.\n",
      "   lerne  j en l ,   ke  hu n hnful  e.\n",
      " feel lke peple gh  ub eugh   w n\n",
      "nzer un  peple w  hrw r  w  w n f kne,    peple w  n plce lke wcn fl\n",
      "en n, ’ **fr**  le f kne  ke n pc   (e  ng “ken” hr pr cne  grb e neurl r).,  n’ hnk gen  lrrn cn fel rg cne ( lw)  fel g cener v clc ecr v publcn r, le le e ’ “pr-rup” wn “equl f ” lke kne   en ung nce pen k fce nerl 4 er g., ’  b wh n eg ’ l  fng  uble  n un ruhe, l  plen  peple & fu celeb, kne’ gg  run h  enn & p\n",
      " ke   ?, ee lke  e qu  en  hun gnu  ge  b., hng rch crz per cn’ ccplh\n",
      " e n er., wng e ., f  run  nepenen  cn  ge  fg wng e: cl, h, pennlvn, vrgn, nev,  elne  ger ugu 2020.,   b 2 ek  ge  fl/chgn.,  ju nee    hun     lp rup.,  hpe peple lze he hn cncl pl,  wn r 4 er  rup., f e er  e l e, e pful fegn ene, e chln n cge, e ck  lhc e, e er  cl fe ne, 7-2  we  c., h kne  wn f   fl.,  hwfe,  p h 100% n nev  wn  enu rup wn elecn.\n",
      "hnk f  lgc urng h., b e kne.\n",
      "  blck  n f blck lfe, whch   rup p.\n",
      "w,   ge chrn gp ?, gu lkng b ng bn gn chrn, pung  n en lbu b jeu,  whe gu?\n",
      " kw ’ g,   kw hvlue l.\n",
      " f kne  f uce\n",
      " ler n.\n",
      " wn  lp rup.\n",
      "chp  hul kne, e  hgl kne.,  he new kne....\n",
      "nerne erch genc cng peple n wk erl ,  ee\n",
      "eh  errble e.\n",
      "e png n rup ub wn  pen   wlkng w  ben?\n",
      " en   ng .\n",
      "lghl n en., kne brken  pr.\n",
      " bplr  ex.\n",
      "   pene  lke rup  ge peple   pr.\n",
      "ehng   rgh.,  e pprchng quen  f  eru b wnnng.,  .,  l eru b rwng   ben  lp hpfer cne,  rup.,  cu en en nee    b   .,  ge  w-n.,  l w ge l  publc, whch   ulel ue  p rup.\n",
      "en ,   fuckng rpble.\n",
      "  en   w n cne.,  nee eru e gnzng  ge gnu  en   b.,   n nrcc   hnk   w  ken erul.\n",
      "l   e rn    bl n r n .,  ppng, c .\n",
      "rc cerng je ben   hvp pck w bluel  n.\n",
      " n hnk  eru er.,  cn febl bul  gnzn n   e.,  nee en  hun  wker., pen n ungl u  e   n hnk   ch f.,  gg  c   hpcke.,   nnl cee  lp h fun.\n",
      " n ., whch,  l     rup per, b  lgcl e  cn hnk .\n",
      "~163 ec   bc l   pl f h., pble f h  wn.\n",
      " r gp hnk ucker crl gg  run n 2024?\n",
      "   fgu ?,  r b r grn pke rng urng p.\n",
      "’ efnel gg   e blck urn  f ben hn f rup., e   ecr fun ben nn  ncng  cue e frcn rcn pe h hn n r ecrc cne runnng (l cue   b’ vp)\n",
      "nger e  u n  enhue    h.,  pn grnpn  h le  expence.,  fr ne   fn  fl   ge lke h  \n",
      "ll.,   ng  f ben rc n fce   rc nnl per  er  elece  fce?\n",
      ">blck r fv ben  rup  n wlng rgn (89%  7%)., per pew erch png(hp://www.pewerch.g/plc/2020/06/30/publc--urn-gr-rup-rl-ben---perl-r-j-ue/)\n",
      "n j u  ben  vp f fr er frcn rcn u pen.,   lke pen  .,  cn ge er enn hn bf e rng  ecu blck ., kne ucl genu   l cplee ., l peple  n   el pble eenger p peple  lze lh rpper.\n",
      " n, hle n g, cn  en ge  b n e e?\n",
      "prn  gnnce; cul  e   hn u f?\n",
      "elee\n",
      "kne’ l l   gw  p  er.,   wn h  ge bck  h p ng  g crz  g .\n",
      "eh  feel lke l hun kng cle  ng  he.\n",
      "’ u?\n",
      " hnk  en  ee un  plc unnf r   ( lkng b ee  -  blck peple).,  urln,   kw nne  peple  wul  f e lke kne cue  funn  jke,   wuln ee bl  kne  ke  w  e.\n",
      " cr n rgh   \n",
      "excep kne l rup,   wul    f h  run n 2020?\n",
      " cenl e hp f rup., hp://www.bunener.c/kne--gnl---f-nl-rup-n-2020-2020-4\n",
      "whle  n ge wh  enn kne huge rup per xcl hng rup hnler (e fegn c) wul ugge kne \n",
      "hgu  lke 9 plnu lbu n rw., fc  el ju en h, fucker  f .\n",
      "    gg  run n 2016    ge  kne kwn   wl hng f p rgh fe  rp n lbu  he\n",
      "kne kne.,  e  nee  pu un lke fke penl run  hpe  hlbu.,  rgubl n p 5  fu lvng r n wl., hn nl rup crc2016  lkng b .\n",
      "l  e rn 100% f publc  ene  pen.\n",
      "elee\n",
      "e   new lbu cng ?,  feel uch er b hf   ju r e  hbvu pr un fe new lbu.,  w hn ep  gp hbu rup  pu   ben.\n",
      " n kne n fu g(hp://pb.wg.c//eccquvuuw8?f=jpg&n=)., ee er rnpn   ju rng  lue ben nur wh blck peple.\n",
      "  eugh lerl ube vng f hr n 2016., hggnc ler   kne.\n",
      "h   hnel rc cn    .\n",
      " cn l ge   w-n cne,  nee hun  gnu n *ech e*  en qulf f .\n",
      "n\n",
      " h?, e.\n",
      " l hnk vng lp ll.,    ele rch hle.\n",
      " n el rc?, ?\n",
      "rc???, wf??, ?\n",
      " rr e   hn prcpe n e  bul  evl., fuck e,  w  cplcen g gnn  .,  fuckng he he ee nvl.\n",
      "?, hfnc new.,  zer chnce  ke ngle   ben.\n",
      "lkng bck fl w  2019...\n",
      "’ publc f hlbu n’  neur b \n",
      "br f ben cn wn cue kne run   g chce ll\n",
      "ncen v ncen.\n",
      " ce  .,   chnce  wn hle cue ecr w ccep h   plcng rup.\n",
      ",  ger cl?\n",
      " rue\n",
      "’ excl  g u n h ’ n rgh w.\n",
      "cue ’  b enernn  fuckng cl., ’ b peple l., g wch l v f  wn   enerne., le plc  ul.\n",
      "50 er l blck r w r r fle ng lcke   ben   efnel w  vng f h\n",
      "eh... e rgh., fer  pe,  lze kne wn  el   ben hrw elecn  r n cf\n",
      " hnk  wrg\n",
      "buh  gu n fu g.,  n c bck  fu g\n",
      "u, jn.\n",
      "perhp,   hp  n c uch f gvng gh r nef  ub.\n",
      "   f  jke pen f hcenur.\n",
      " we f  jke., fuck jke cne, hcunr burnng en   f buh lke h.\n",
      " u hpe \n",
      "ll  n kne gl n f   pene   wke gn n er  ke e f p.\n",
      " g   kne?\n",
      " ’ ju ng peple  gh   f ben pl cue  n’ lke rup,  w w ju w n kne’ n., r hr?\n",
      "p nl  ng peple  n’ lke rup  gh  ben, w w ju w n kne’ n., hu 4 e er  nne\n",
      "whe cerv   ckng wh rup    b f lef\n",
      " ** hpe hcn en’ en   /r/gelkelk n er.\n",
      "f n nepenen, elne n  e n unl  n ugu l qu  hugnu.,  hnk  cul el ke b n  e f   wne ., hp://bpe.g/b_cce_f_penl_cne\n",
      " cue   ju  uhrn  curn cerv,  ju n lze  e\n",
      "h n  u  e e   , hng pe  f e hn  fc ll.\n",
      " e ke  epec ffcul f nepenen wh j  n pr bckng  ge b cce,  hpublc un hng e\n",
      "\n",
      "flng elne  l pe n n e, wh j  nng flng elne cng ue n nex 2-4 ek., kne wul   cec en  hun  gnu n  e  gn b cce, wh le hn h   .,  fuckng publc un.\n",
      "cu ., gn  gr jhn lpe clnn n  le 4-5 e.\n",
      "  peple wul er  f rup, lrrn,  fuckng cke ue f  n vng kne,   ju wuln   ., n blck n   vng f kne n gg   vng f n ecr nw.,  gg  ge fuckng  hep  hng e.\n",
      "n hnk  peple  vng f ben nw f  gg  c n   jke.\n",
      " cn bu pen gnu lke e gu bu wer g f\n",
      "1)  cn bu pen gnu,  cec  lne,  lengh n-per prce.,   e  nne qu en  hun  cerfe gnu,  qu gnu   peple ge  ., r,  n ee  hppenng n  e., 2)  fuck gg  wch   ben  kne?, b, \\  gg  ke   ne excep   n percenge  rup-png blck n.\n",
      " e  f blck l.,  n   blck flk w whe c  wn, cue whe c l  wn blck flk ng nce.\n",
      " ne e f blck l hn n cen pen., hc blck cege, ppun ze, crnl f, c lw unepln.\n",
      "whe gu,  ce.\n",
      "whe ue ll\n",
      "ge\n",
      "kne ne  ecr l elecn., erch.,  ue rup  fe ncen blck peple   pr\n",
      "fn ck ger.\n",
      " kne n’ cer plcn lke ben., rr  h., hlf peple n’ en lke ben, ’ ju  lrgh., kne pecl., cn’ p h., kne 2020 bhnk b  cuz ’ e hn plen.,  br rn kne 2020., e: l  b   ll., kne 2020\n",
      "  wh rup fe  ben.,    fn  ben fn fe kne rn.,  hhng   c ger ., kne 2020, l   e., ju   nunce  ’ hng  eb cn p -une  e  plcl pecru\n",
      "fuck h.\n",
      " ’  c rne  ke  g ’ ke  b.,  wer  rn chrcer w run nex f l fe.,   hpe  gu  n ker frg., ☕️\n",
      "h., bplr  ffcul ne  l wh    .\n",
      "  l  h.\n",
      "    ccune rn n vl...   nex lel cr.\n",
      " n’ c lke   penng wn  g fu nerw elng hruggle  rup per., hp://u./rzxpjcwqgfnl nue  pr.\n",
      " r  e ng,  ge   wul  necerl  rng  wn., h, w-n cpgn  p uch uele,   lg   n  b, n ge  cul  wul   le.,  bgger el f  eru b geng  b gp   lp h  rfuck ecr.\n",
      " b...\n",
      "....e fuckng e  w nne ccpl qulfe.,  rc   ep  kng p   bvul perce  cler clerl    e  peple  nee  cck el.\n",
      "   en l, plee cc  f  wrg,   ler r  blck cun   ecu cfble lfele f el  een en neg n u qu.\n",
      "’ ,   n’ lke ben   rc er\n",
      "  rup r eengl urp  hwn  j fr rc prle enn?\n",
      "h  ee rcn ppulce., f  cpgn n nner ce brng  ben cr b nce  eggn,  cn   ge.\n",
      "“’ jck,” - pen brck b2009\n",
      "  fr, rup n  e b blck r., ’  hbe.\n",
      " n, cplee  en hur run f pz w\n",
      " n ncplee .\n",
      "  lrger e  cul   wul c $20-30 gnu  hp.\n",
      "unfunel  hnk ., flng elne f nepenen cne ler hn f r cnehp://bpe.g/elne__run_f_pen#nepenen_cne\n",
      "uncle hue, hh\n",
      " e gern kw b r  blck cun n rc?, pr e que r cue \\ bvul ung  n b fh f  e  w/e  wn  buh b\n",
      "p rng  crl kne\n",
      "’  jup el  whe gu l h  run?\n",
      "kne n’ l rup n whle., le g  lee n’  pr-rup.,  n’ hnk ’ rup pl, ’ e lkel  hn eg hng.\n",
      "  en’ ... le  n’ *hnk*   hp...\n",
      " ’ bvul gnpuh bck  e kne wuln’  hhelf f n enn eg ll cue ne  kw e kw excl    hh., f   knew b h  hpr rup h hng ele ’  hpn\n",
      "el lw jkng run  wer., kne lw ng hng  ng hng rgeu fe n lbu rp.,   n’  eep e ’ g peple lng r h cng lke blck peple w ju  f er  kn cl    lk  cne fr.\n",
      " c b enn e hn nhng.,  n\\ ub   l wn  lp rup ge elece hugh, epec fer el\\ ke  p nene.,  h n crn.\n",
      " lw e bunch  exrh ll, ’ kne.,  echnc en’ nee   nhng  ge hl  enn.,  e  c ’ kne\n",
      "kne lw  hng crz  ge publc fe n lbu rp.,  n’ ee  kw h   f e  cl “kne kne”\n",
      "’ cpleel ffen., 1., f   cu runnng  wul  ffen  rup   wuln’   n  w bg p., 2.,  n’ cu runnng e  gn enn fe hlbu rp.\n",
      "rup rn f j pr nn., n  bue.\n",
      "’ cpleel ffen., 1., \\u2060f   cu runnng  wul  ffen  rup   wuln’   n  w bg p., 2., \\u2060 n’ cu runnng e  gn enn fe hlbu rp.\n",
      "eh  e.,  wuln’ wr  n’ gg  en  runnng.,  n’ hnk   fnl wh rup ne f  len  hle ng ’  hng rup wul lke.\n",
      "  wn  ke   kne  cu runnng f pen?\n",
      "e.,  ., ’   g.\n",
      "/\n",
      " fuckng rnwck\n",
      " zer chnce  run ’ publc f hnew lbu  e     he  wuln’  cue u lke  lw ke  wk.\n",
      "kne lke n blck flk e c cerv hn ben.\n",
      "r f  n hnk  2020 penl elecn fuckng jke   ucn cn r  w  e lbu., geng rup   fce w  pn f buh lke h.\n",
      " hbb.\n",
      "e.\n",
      "wh   pu n., e.\n",
      "’ 18    n ul,   fn cege k w  vng f h., kne2020\n",
      " hpe  ju r cl lkng f plgh     hfce  hwfe .,   ju .\n",
      "  n’\n",
      "  hr  le  celebr ’  pl wler cul  nvl n kf?, kne plng chrcer., f  n’ le  wch   he er cle nerw., ’ cpeen percep  .\n",
      "ll n  en    r n eb  cenl  l er?, n bggle  f u\n",
      " n .  kpr qu.\n",
      "elee\n",
      "e  errfng., ’  rcn    cn     ncen peple  gg  e fe hng ge er .,  l  hpeful cue hng w nevbl ge er ., fe grw bck lr, e luh fer f; rcw ee grwh n hun ce f burn .\n",
      "g new  n l un  peple   lke wer  fr en\n",
      "  rup cnc, lk w  g u.\n",
      "  hugh rup  publcl un.\n",
      " ee nce ecrc\n",
      " w   rue  .\n",
      " lk lke  l 6 e(hp://bpe.g/elne__run_f_pen) f whch elne  l pe.\n",
      "ww w    kw .,  e  n  r   blck peple.,   peple  bung hg n!!, !\n",
      " ler ju en gerge fl ugher  cege rc   e.,  ppe blck wn  egn c  hnew clhng brn.,  lk b lng blck  blck cr  ., p rng  pn kne  e  en c f blck peple\n",
      ">c lw unepln., l   kw  hgh unepln w?,   ju c    cpule?\n",
      " r gu ju uggee  e  f blck l.,   wul   e g hng   ., f  wne   blck peple w whe c  wn,  wul n n crcunce kne w  e g ee   uggee.\n",
      "ju png w fuckng ke .\n",
      " een   hvng cer plcn n vl fce  en lke.,  wn  nlc.\n",
      "h e, cer plcn huln  pen, whch  wn  g n f urger  n prceu  ne  jn fr ek cepnfuck f\n",
      "que  peple lke ben cu.,  een urng hpnec  plc cer -- rup  en b  pen leer  e cn ,  cler  hnexpence pnng nrn  ng   effec.\n",
      "publc un n gg  une nhng.\n",
      "b /bb r pnng 2024\n",
      "lke ng  runnng f pen.\n",
      "   ... ’ rppng new lbu   wn   ge j enn.\n",
      "  n’ wn  enern e kne runnng,  f   run w-n cpgn,  l nee  ke w  n  elec e  rc hf rce  rup.,  p w  ben cn c h elecn.\n",
      "e   uch ch  el lque?, r per pen nne un  e n hb f penc.,   e  run cpgn.,  nee peple, fce le gnzn., kne l h helf n f  rng gh n  eng wh rup., f  eru  wul gne  ge blze wh  ng  ph  ., hkne hpng h lbu.\n",
      " ccl cerng je n le wh hnen  pck qulfe vp., ne  pe  vrue gnl e be  ng  hvp wul n fc  n., whch ee    wul  je ben  nee  cck helf be   nr.\n",
      " hnk  gvng er elquen cvncng up peec  ppuln  cu ?, blck peple wlngl pe ben n pr epe    hng ng en  eh.,    le  w chnge., ler blck peple  l bgge blc  p   cu ;  frl bvu  w  wchng r   ben.\n",
      "   xe ge  wul  hugh., wne eggn en cr b,  w runnng  plf  f plce er cl  fr blck u pen.,     hng e nng hn nque b nce f kne wn    ge.\n",
      " nr e en le ene\n",
      " publc kwlege  kne  whe hue  e wh rup r eng  cble.,   l   .,   ple  whe gu l h    lke \\ nnung.,  wul efnel p rup   kne ener rce,  unlkel   wul .\n",
      "per b  lnke  hrcle prbbl whle   png., knlk lke   ehp://www.bunener.c/kne--gnl---f-nl-rup-n-2020-2020-4\n",
      " l feelng ’ ju fuckng crz., f h crz.,  w’   n f n e b, ’  le n g., e e: ’ ne wh el uk , ’ ju  fuckng crz  kne.\n",
      "?,    c ?\n",
      ",  n ng   f u wrg.,    pluble explnn,   e eez he kw hrue vn.\n",
      ".,  .,  ex n ncbl lrge un., en f vng ke,  vng en  peple., pckng leer  w evl n rue chce.,  fue   f rup  ben.,  ler enble e  uck  uch  vng f le evl.,  ju be f   kw.,  fuckng nne    n peple bun chce  h  bluel  chce.,   ccep  gvng chl w chce n  kwng  chce gunee  w., \\ plcl equvlen  e  ., r   w l  fuckng e.,  er  hr  fuck ., #kne2020\n",
      "b wh w brn ce  rub ger ng r   w-n cne, whch    f  cn en ge eugh gnu.\n",
      " w’ en  runnng fer hlbu rp he w  fgen b.,  gg  en  ppe wn elecng je fuckng ben en’ gc  wl.\n",
      "je er\n",
      "  18... bg hcker., wn   18   f buh jr. ’ nce pue      ,  hpe  f   fn.\n",
      "   vng  keep rup n wh n., kne  0% chnce  wnnng,   ng pung   ben  lp rup vng   wn  equl   f rup ke  rup per\n",
      "    wrg.,  pr  lbu r\n",
      "rup rn f j pr nn., n  bue.\n",
      "rup rn f j pr nn., n  bue.\n",
      "  unecrc   e cec pen  r gnu  run f fce?, n\\  ecrc  efnn?\n",
      " kne 2020  pr  n rc n\n",
      "37 e  r flng elne n jul  ugu.\n",
      " n kw b r., f whe n cul   hr  blck peple,  wul  wrg    epe  ng blck.,  w r e  ppl.,  wul  ung hppulr  ke w  f eru cnc,  whch  l e n 2020.\n",
      ">  peple  bung hg n!!!, cue kne ke ecen uc  kne e  ke ecen hun.\n",
      " ju 18 er l  w  ffece  r rup er\n",
      "nphrngel wb f ene 2022\n",
      " ju lkng   pble pc  cul  f  eru., f c,  n hnk   .\n",
      "rup w  77,000  n 3 e., rgn er., en f  chp f 1-2%  cn lp h wn elecl cege., l, f  run 4& fe cege plf  cn ge prg., e blck peple   f blck peple.,  knew peple   f bn 2008 cue   blck.,  l knew peple   f hr ju cue  wne  ee 1 wn pen.\n",
      "f g  new k, ’ fuckng le f  cn’ wk    n.\n",
      "per n hue n-w uncle * n  w cue   u f  ge cugh n u-bn fler.\n",
      " rcl lur\n",
      "  rue.,   .,   kne n  ce--ce un, cue hn cn chnge l., &#x200b; hp://www.kpler.c/uc/kne--ke-rc-g-gn-h-glc---p-pc-wh-vn-lhn.hl(hp://www.kpler.c/uc/kne--ke-rc-g-gn-h-glc---p-pc-wh-vn-lhn.hl)\n",
      " w’ en run ce hlbu rp  w  fgen   ee h\n",
      "ll gne ng e per  crz f r fferng w, epec wn ; ulrucceful., e crz e br\n",
      " n’ hnk  en kw hrue vn bh\n",
      " kw peple  exc  h b rup rgh?, fuck jke cne,    eru f h.\n",
      "  lw peple n hgr/per cl  w n hrww cne?\n",
      "bluel .\n",
      " hpe   rgh n.\n",
      " kw kne n’ gg    n  bg w p f  e run (whch  n’)   wul  cpleel ffen  rup.,    eru?,  f e cn’ w f rup  le ju f hng  chnge expec   new pge n’ fe wh uff b rup.\n",
      " w \n"
     ]
    }
   ],
   "source": [
    "%%bash \n",
    "# ls\n",
    "cat RedditText.txt"
   ]
  },
  {
   "cell_type": "code",
   "execution_count": 8,
   "metadata": {
    "colab": {
     "base_uri": "https://localhost:8080/",
     "height": 52
    },
    "colab_type": "code",
    "id": "IMnymRDLe0hi",
    "outputId": "4d26476f-e6b5-475a-a0c1-41b6fcdc041a"
   },
   "outputs": [
    {
     "name": "stdout",
     "output_type": "stream",
     "text": [
      "CPU times: user 1.74 s, sys: 486 ms, total: 2.22 s\n",
      "Wall time: 116 ms\n"
     ]
    }
   ],
   "source": [
    "%%time \n",
    "from pathlib import Path\n",
    "\n",
    "from tokenizers import ByteLevelBPETokenizer\n",
    "\n",
    "paths = [str(x) for x in Path(\".\").glob(\"**/*.txt\")]\n",
    "\n",
    "# Initialize a tokenizer\n",
    "tokenizer = ByteLevelBPETokenizer()\n",
    "\n",
    "# Customize training\n",
    "tokenizer.train(files=paths, vocab_size=52_000, min_frequency=2, special_tokens=[\n",
    "    \"<s>\",\n",
    "    \"<pad>\",\n",
    "    \"</s>\",\n",
    "    \"<unk>\",\n",
    "    \"<mask>\",\n",
    "])"
   ]
  },
  {
   "cell_type": "markdown",
   "metadata": {
    "colab_type": "text",
    "id": "6Ei7bqpRf1LH"
   },
   "source": [
    "Now let's save files to disk"
   ]
  },
  {
   "cell_type": "code",
   "execution_count": 9,
   "metadata": {
    "colab": {
     "base_uri": "https://localhost:8080/",
     "height": 34
    },
    "colab_type": "code",
    "id": "EIS-irI0f32P",
    "outputId": "e86c4a24-eb65-4f0a-aa58-ed1931a05ac9"
   },
   "outputs": [
    {
     "data": {
      "text/plain": [
       "['RedditText/vocab.json', 'RedditText/merges.txt']"
      ]
     },
     "execution_count": 9,
     "metadata": {},
     "output_type": "execute_result"
    }
   ],
   "source": [
    "!rm -rf RedditText\n",
    "!mkdir RedditText\n",
    "tokenizer.save_model(\"RedditText\")"
   ]
  },
  {
   "cell_type": "markdown",
   "metadata": {
    "colab_type": "text",
    "id": "lOOfYSuQhSqT"
   },
   "source": [
    "🔥🔥 Wow, that was fast! ⚡️🔥\n",
    "\n",
    "We now have both a `vocab.json`, which is a list of the most frequent tokens ranked by frequency, and a `merges.txt` list of merges.\n",
    "\n",
    "Here’s  how you can use it in `tokenizers`, including handling the RoBERTa special tokens – of course, you’ll also be able to use it directly from `transformers`.\n"
   ]
  },
  {
   "cell_type": "code",
   "execution_count": 11,
   "metadata": {
    "colab": {},
    "colab_type": "code",
    "id": "hO5M3vrAhcuj"
   },
   "outputs": [
    {
     "ename": "NameError",
     "evalue": "name 'BertProcessing' is not defined",
     "output_type": "error",
     "traceback": [
      "\u001b[0;31m---------------------------------------------------------------------------\u001b[0m",
      "\u001b[0;31mNameError\u001b[0m                                 Traceback (most recent call last)",
      "\u001b[0;32m<ipython-input-11-1374043cd7c9>\u001b[0m in \u001b[0;36m<module>\u001b[0;34m\u001b[0m\n\u001b[0;32m----> 1\u001b[0;31m tokenizer._tokenizer.post_processor = BertProcessing(\n\u001b[0m\u001b[1;32m      2\u001b[0m     \u001b[0;34m(\u001b[0m\u001b[0;34m\"</s>\"\u001b[0m\u001b[0;34m,\u001b[0m \u001b[0mtokenizer\u001b[0m\u001b[0;34m.\u001b[0m\u001b[0mtoken_to_id\u001b[0m\u001b[0;34m(\u001b[0m\u001b[0;34m\"</s>\"\u001b[0m\u001b[0;34m)\u001b[0m\u001b[0;34m)\u001b[0m\u001b[0;34m,\u001b[0m\u001b[0;34m\u001b[0m\u001b[0;34m\u001b[0m\u001b[0m\n\u001b[1;32m      3\u001b[0m     \u001b[0;34m(\u001b[0m\u001b[0;34m\"<s>\"\u001b[0m\u001b[0;34m,\u001b[0m \u001b[0mtokenizer\u001b[0m\u001b[0;34m.\u001b[0m\u001b[0mtoken_to_id\u001b[0m\u001b[0;34m(\u001b[0m\u001b[0;34m\"<s>\"\u001b[0m\u001b[0;34m)\u001b[0m\u001b[0;34m)\u001b[0m\u001b[0;34m,\u001b[0m\u001b[0;34m\u001b[0m\u001b[0;34m\u001b[0m\u001b[0m\n\u001b[1;32m      4\u001b[0m )\n\u001b[1;32m      5\u001b[0m \u001b[0mtokenizer\u001b[0m\u001b[0;34m.\u001b[0m\u001b[0menable_truncation\u001b[0m\u001b[0;34m(\u001b[0m\u001b[0mmax_length\u001b[0m\u001b[0;34m=\u001b[0m\u001b[0;36m512\u001b[0m\u001b[0;34m)\u001b[0m\u001b[0;34m\u001b[0m\u001b[0;34m\u001b[0m\u001b[0m\n",
      "\u001b[0;31mNameError\u001b[0m: name 'BertProcessing' is not defined"
     ]
    }
   ],
   "source": [
    "tokenizer._tokenizer.post_processor = BertProcessing(\n",
    "    (\"</s>\", tokenizer.token_to_id(\"</s>\")),\n",
    "    (\"<s>\", tokenizer.token_to_id(\"<s>\")),\n",
    ")\n",
    "tokenizer.enable_truncation(max_length=512)"
   ]
  },
  {
   "cell_type": "code",
   "execution_count": 12,
   "metadata": {
    "colab": {},
    "colab_type": "code",
    "id": "tKVWB8WShT-z"
   },
   "outputs": [],
   "source": [
    "from tokenizers.implementations import ByteLevelBPETokenizer\n",
    "from tokenizers.processors import BertProcessing\n",
    "\n",
    "\n",
    "tokenizer = ByteLevelBPETokenizer(\n",
    "    \"./RedditText/vocab.json\",\n",
    "    \"./RedditText/merges.txt\",\n",
    ")"
   ]
  },
  {
   "cell_type": "markdown",
   "metadata": {
    "colab_type": "text",
    "id": "WQpUC_CDhnWW"
   },
   "source": [
    "## 3. Train a language model from scratch\n",
    "\n",
    "**Update:** This section follows along the [`run_language_modeling.py`](https://github.com/huggingface/transformers/blob/master/examples/language-modeling/run_language_modeling.py) script, using our new [`Trainer`](https://github.com/huggingface/transformers/blob/master/src/transformers/trainer.py) directly. Feel free to pick the approach you like best.\n",
    "\n",
    "> We’ll train a RoBERTa-like model, which is a BERT-like with a couple of changes (check the [documentation](https://huggingface.co/transformers/model_doc/roberta.html) for more details).\n",
    "\n",
    "As the model is BERT-like, we’ll train it on a task of *Masked language modeling*, i.e. the predict how to fill arbitrary tokens that we randomly mask in the dataset. This is taken care of by the example script.\n"
   ]
  },
  {
   "cell_type": "code",
   "execution_count": 13,
   "metadata": {
    "colab": {
     "base_uri": "https://localhost:8080/",
     "height": 318
    },
    "colab_type": "code",
    "id": "kD140sFjh0LQ",
    "outputId": "0bab1f9e-bf7a-4f13-82d3-07fe5866ce78"
   },
   "outputs": [
    {
     "name": "stdout",
     "output_type": "stream",
     "text": [
      "Sat Aug  1 23:01:14 2020       \r\n",
      "+-----------------------------------------------------------------------------+\r\n",
      "| NVIDIA-SMI 440.33.01    Driver Version: 440.33.01    CUDA Version: 10.2     |\r\n",
      "|-------------------------------+----------------------+----------------------+\r\n",
      "| GPU  Name        Persistence-M| Bus-Id        Disp.A | Volatile Uncorr. ECC |\r\n",
      "| Fan  Temp  Perf  Pwr:Usage/Cap|         Memory-Usage | GPU-Util  Compute M. |\r\n",
      "|===============================+======================+======================|\r\n",
      "|   0  Tesla K80           Off  | 00000000:06:00.0 Off |                    0 |\r\n",
      "| N/A   62C    P0    57W / 149W |      0MiB / 11441MiB |      0%      Default |\r\n",
      "+-------------------------------+----------------------+----------------------+\r\n",
      "|   1  Tesla K80           Off  | 00000000:07:00.0 Off |                    0 |\r\n",
      "| N/A   45C    P0    73W / 149W |      0MiB / 11441MiB |     99%      Default |\r\n",
      "+-------------------------------+----------------------+----------------------+\r\n",
      "                                                                               \r\n",
      "+-----------------------------------------------------------------------------+\r\n",
      "| Processes:                                                       GPU Memory |\r\n",
      "|  GPU       PID   Type   Process name                             Usage      |\r\n",
      "|=============================================================================|\r\n",
      "|  No running processes found                                                 |\r\n",
      "+-----------------------------------------------------------------------------+\r\n"
     ]
    }
   ],
   "source": [
    "# Check that we have a GPU\n",
    "!nvidia-smi"
   ]
  },
  {
   "cell_type": "code",
   "execution_count": 14,
   "metadata": {
    "colab": {
     "base_uri": "https://localhost:8080/",
     "height": 34
    },
    "colab_type": "code",
    "id": "VNZZs-r6iKAV",
    "outputId": "c8404d6c-7662-4240-c8da-ee89edfaf51b"
   },
   "outputs": [
    {
     "data": {
      "text/plain": [
       "True"
      ]
     },
     "execution_count": 14,
     "metadata": {},
     "output_type": "execute_result"
    }
   ],
   "source": [
    "# Check that PyTorch sees it\n",
    "import torch\n",
    "torch.cuda.is_available()"
   ]
  },
  {
   "cell_type": "markdown",
   "metadata": {
    "colab_type": "text",
    "id": "u0qQzgrBi1OX"
   },
   "source": [
    "### We'll define the following config for the model"
   ]
  },
  {
   "cell_type": "code",
   "execution_count": 15,
   "metadata": {
    "colab": {},
    "colab_type": "code",
    "id": "LTXXutqeDzPi"
   },
   "outputs": [],
   "source": [
    "from transformers import RobertaConfig\n",
    "\n",
    "config = RobertaConfig(\n",
    "    vocab_size=52_000,\n",
    "    max_position_embeddings=514,\n",
    "    num_attention_heads=12,\n",
    "    num_hidden_layers=6,\n",
    "    type_vocab_size=1,\n",
    ")"
   ]
  },
  {
   "cell_type": "markdown",
   "metadata": {
    "colab_type": "text",
    "id": "yAwQ82JiE5pi"
   },
   "source": [
    "Now let's re-create our tokenizer in transformers"
   ]
  },
  {
   "cell_type": "code",
   "execution_count": 16,
   "metadata": {
    "colab": {},
    "colab_type": "code",
    "id": "4keFBUjQFOD1"
   },
   "outputs": [],
   "source": [
    "from transformers import RobertaTokenizerFast\n",
    "\n",
    "tokenizer = RobertaTokenizerFast.from_pretrained(\"./RedditText\", max_len=512)"
   ]
  },
  {
   "cell_type": "markdown",
   "metadata": {
    "colab_type": "text",
    "id": "6yNCw-3hFv9h"
   },
   "source": [
    "Finally let's initialize our model.\n",
    "\n",
    "**Important:**\n",
    "\n",
    "As we are training from scratch, we only initialize from a config, not from an existing pretrained model or checkpoint."
   ]
  },
  {
   "cell_type": "code",
   "execution_count": 17,
   "metadata": {},
   "outputs": [],
   "source": [
    "from transformers import RobertaForMaskedLM\n",
    "\n",
    "model = RobertaForMaskedLM(config=config)"
   ]
  },
  {
   "cell_type": "code",
   "execution_count": 18,
   "metadata": {
    "colab": {
     "base_uri": "https://localhost:8080/",
     "height": 34
    },
    "colab_type": "code",
    "id": "jU6JhBSTKiaM",
    "outputId": "35879a60-2915-4894-f702-2d649cfa398a"
   },
   "outputs": [
    {
     "data": {
      "text/plain": [
       "84095008"
      ]
     },
     "execution_count": 18,
     "metadata": {},
     "output_type": "execute_result"
    }
   ],
   "source": [
    "model.num_parameters()\n",
    "# => 84 million parameters"
   ]
  },
  {
   "cell_type": "markdown",
   "metadata": {
    "colab_type": "text",
    "id": "jBtUHRMliOLM"
   },
   "source": [
    "### Now let's build our training Dataset\n",
    "\n",
    "We'll build our dataset by applying our tokenizer to our text file.\n",
    "\n",
    "Here, as we only have one text file, we don't even need to customize our `Dataset`. We'll just use the `LineByLineDataset` out-of-the-box."
   ]
  },
  {
   "cell_type": "code",
   "execution_count": 19,
   "metadata": {
    "colab": {
     "base_uri": "https://localhost:8080/",
     "height": 52
    },
    "colab_type": "code",
    "id": "GlvP_A-THEEl",
    "outputId": "e0510a33-7937-4a04-fa1c-d4e20b758bb2"
   },
   "outputs": [
    {
     "name": "stdout",
     "output_type": "stream",
     "text": [
      "CPU times: user 207 ms, sys: 33.6 ms, total: 240 ms\n",
      "Wall time: 18.8 ms\n"
     ]
    }
   ],
   "source": [
    "%%time\n",
    "from transformers import LineByLineTextDataset\n",
    "\n",
    "dataset = LineByLineTextDataset(\n",
    "    tokenizer=tokenizer,\n",
    "    file_path=\"RedditText.txt\",\n",
    "    block_size=64,\n",
    ")"
   ]
  },
  {
   "cell_type": "markdown",
   "metadata": {
    "colab_type": "text",
    "id": "hDLs73HcIHk5"
   },
   "source": [
    "Like in the [`run_language_modeling.py`](https://github.com/huggingface/transformers/blob/master/examples/language-modeling/run_language_modeling.py) script, we need to define a data_collator.\n",
    "\n",
    "This is just a small helper that will help us batch different samples of the dataset together into an object that PyTorch knows how to perform backprop on."
   ]
  },
  {
   "cell_type": "code",
   "execution_count": 20,
   "metadata": {
    "colab": {},
    "colab_type": "code",
    "id": "zTgWPa9Dipk2"
   },
   "outputs": [],
   "source": [
    "from transformers import DataCollatorForLanguageModeling\n",
    "\n",
    "data_collator = DataCollatorForLanguageModeling(\n",
    "    tokenizer=tokenizer, mlm=True, mlm_probability=0.15\n",
    ")"
   ]
  },
  {
   "cell_type": "markdown",
   "metadata": {
    "colab_type": "text",
    "id": "ri2BIQKqjfHm"
   },
   "source": [
    "### Finally, we are all set to initialize our Trainer"
   ]
  },
  {
   "cell_type": "code",
   "execution_count": 21,
   "metadata": {
    "colab": {},
    "colab_type": "code",
    "id": "YpvnFFmZJD-N"
   },
   "outputs": [],
   "source": [
    "from transformers import Trainer, TrainingArguments\n",
    "\n",
    "training_args = TrainingArguments(\n",
    "    output_dir=\"./EsperBERTo\",\n",
    "    overwrite_output_dir=True,\n",
    "    num_train_epochs=40,\n",
    "    per_gpu_train_batch_size=64,\n",
    "    save_steps=10_000,\n",
    "    save_total_limit=2,\n",
    ")\n",
    "\n",
    "trainer = Trainer(\n",
    "    model=model,\n",
    "    args=training_args,\n",
    "    data_collator=data_collator,\n",
    "    train_dataset=dataset,\n",
    "    prediction_loss_only=True,\n",
    ")"
   ]
  },
  {
   "cell_type": "markdown",
   "metadata": {
    "colab_type": "text",
    "id": "o6sASa36Nf-N"
   },
   "source": [
    "### Start training"
   ]
  },
  {
   "cell_type": "code",
   "execution_count": 22,
   "metadata": {
    "colab": {
     "base_uri": "https://localhost:8080/",
     "height": 738,
     "referenced_widgets": [
      "a58a66392b644b1384661e850c077a6c",
      "a491e8caa0a048beb3b5259f14eb233f",
      "837c9ddc3d594e088891874560c646b8",
      "dbf50873d62c4ba39321faefbed0cca5",
      "40bf955ba0284e84b198da6be8654219",
      "fe20a8dae6e84628b5076d02183090f5",
      "93b3f9eae3cb4e3e859cf456e3547c6d",
      "6feb10aeb43147e6aba028d065947ae8",
      "0989d41a4da24e9ebff377e02127642c",
      "42c6061ef7e44f179db5a6e3551c0f17",
      "d295dd80550447d88da0f04ce36a22ff",
      "04e7e6d291da49d5816dc98a2904e95c",
      "e7d8c3a4fecd40778e32966b29ea65a1",
      "016d7c8318f742c1943464b08232a510",
      "8388e9da9da4492c98c19235ca5fc1b5",
      "39c23c6a972b419eb2eeeebafeaedc22"
     ]
    },
    "colab_type": "code",
    "id": "VmaHZXzmkNtJ",
    "outputId": "a19880cb-bcc6-4885-bf24-c2c6d0f56d1e"
   },
   "outputs": [
    {
     "name": "stderr",
     "output_type": "stream",
     "text": [
      "Using deprecated `--per_gpu_train_batch_size` argument which will be removed in a future version. Using `--per_device_train_batch_size` is preferred.\n",
      "Using deprecated `--per_gpu_train_batch_size` argument which will be removed in a future version. Using `--per_device_train_batch_size` is preferred.\n"
     ]
    },
    {
     "data": {
      "application/vnd.jupyter.widget-view+json": {
       "model_id": "ccddcda64a2e4915ba8e1e696aafdffc",
       "version_major": 2,
       "version_minor": 0
      },
      "text/plain": [
       "HBox(children=(FloatProgress(value=0.0, description='Epoch', max=40.0, style=ProgressStyle(description_width='…"
      ]
     },
     "metadata": {},
     "output_type": "display_data"
    },
    {
     "data": {
      "application/vnd.jupyter.widget-view+json": {
       "model_id": "40c7a643a5ee49119ced33bb84daab25",
       "version_major": 2,
       "version_minor": 0
      },
      "text/plain": [
       "HBox(children=(FloatProgress(value=0.0, description='Iteration', max=4.0, style=ProgressStyle(description_widt…"
      ]
     },
     "metadata": {},
     "output_type": "display_data"
    },
    {
     "name": "stderr",
     "output_type": "stream",
     "text": [
      "/home/taylor/anaconda3/lib/python3.7/site-packages/torch/nn/parallel/_functions.py:61: UserWarning: Was asked to gather along dimension 0, but all input tensors were scalars; will instead unsqueeze and return a vector.\n",
      "  warnings.warn('Was asked to gather along dimension 0, but all '\n"
     ]
    },
    {
     "name": "stdout",
     "output_type": "stream",
     "text": [
      "\n"
     ]
    },
    {
     "data": {
      "application/vnd.jupyter.widget-view+json": {
       "model_id": "d45f898d52b34536b8f0ee9f2d10616c",
       "version_major": 2,
       "version_minor": 0
      },
      "text/plain": [
       "HBox(children=(FloatProgress(value=0.0, description='Iteration', max=4.0, style=ProgressStyle(description_widt…"
      ]
     },
     "metadata": {},
     "output_type": "display_data"
    },
    {
     "name": "stdout",
     "output_type": "stream",
     "text": [
      "\n"
     ]
    },
    {
     "data": {
      "application/vnd.jupyter.widget-view+json": {
       "model_id": "09515dafbeb5474195b3f1b26688d4c0",
       "version_major": 2,
       "version_minor": 0
      },
      "text/plain": [
       "HBox(children=(FloatProgress(value=0.0, description='Iteration', max=4.0, style=ProgressStyle(description_widt…"
      ]
     },
     "metadata": {},
     "output_type": "display_data"
    },
    {
     "name": "stdout",
     "output_type": "stream",
     "text": [
      "\n"
     ]
    },
    {
     "data": {
      "application/vnd.jupyter.widget-view+json": {
       "model_id": "458c8ec0c7a544498c86e53429feabd5",
       "version_major": 2,
       "version_minor": 0
      },
      "text/plain": [
       "HBox(children=(FloatProgress(value=0.0, description='Iteration', max=4.0, style=ProgressStyle(description_widt…"
      ]
     },
     "metadata": {},
     "output_type": "display_data"
    },
    {
     "name": "stdout",
     "output_type": "stream",
     "text": [
      "\n"
     ]
    },
    {
     "data": {
      "application/vnd.jupyter.widget-view+json": {
       "model_id": "e451e8249d8f4f6fbb737ceec3d8b39d",
       "version_major": 2,
       "version_minor": 0
      },
      "text/plain": [
       "HBox(children=(FloatProgress(value=0.0, description='Iteration', max=4.0, style=ProgressStyle(description_widt…"
      ]
     },
     "metadata": {},
     "output_type": "display_data"
    },
    {
     "name": "stdout",
     "output_type": "stream",
     "text": [
      "\n"
     ]
    },
    {
     "data": {
      "application/vnd.jupyter.widget-view+json": {
       "model_id": "9eb55c06b1e942ebb510fa871bd60952",
       "version_major": 2,
       "version_minor": 0
      },
      "text/plain": [
       "HBox(children=(FloatProgress(value=0.0, description='Iteration', max=4.0, style=ProgressStyle(description_widt…"
      ]
     },
     "metadata": {},
     "output_type": "display_data"
    },
    {
     "name": "stdout",
     "output_type": "stream",
     "text": [
      "\n"
     ]
    },
    {
     "data": {
      "application/vnd.jupyter.widget-view+json": {
       "model_id": "9fa96bc01f614f3abe6572f7e132ed1d",
       "version_major": 2,
       "version_minor": 0
      },
      "text/plain": [
       "HBox(children=(FloatProgress(value=0.0, description='Iteration', max=4.0, style=ProgressStyle(description_widt…"
      ]
     },
     "metadata": {},
     "output_type": "display_data"
    },
    {
     "name": "stdout",
     "output_type": "stream",
     "text": [
      "\n"
     ]
    },
    {
     "data": {
      "application/vnd.jupyter.widget-view+json": {
       "model_id": "50f0ab42040b46458f0e22a1f04851eb",
       "version_major": 2,
       "version_minor": 0
      },
      "text/plain": [
       "HBox(children=(FloatProgress(value=0.0, description='Iteration', max=4.0, style=ProgressStyle(description_widt…"
      ]
     },
     "metadata": {},
     "output_type": "display_data"
    },
    {
     "name": "stdout",
     "output_type": "stream",
     "text": [
      "\n"
     ]
    },
    {
     "data": {
      "application/vnd.jupyter.widget-view+json": {
       "model_id": "f4ff33ba7dae437a998782e4ab46d0c6",
       "version_major": 2,
       "version_minor": 0
      },
      "text/plain": [
       "HBox(children=(FloatProgress(value=0.0, description='Iteration', max=4.0, style=ProgressStyle(description_widt…"
      ]
     },
     "metadata": {},
     "output_type": "display_data"
    },
    {
     "name": "stdout",
     "output_type": "stream",
     "text": [
      "\n"
     ]
    },
    {
     "data": {
      "application/vnd.jupyter.widget-view+json": {
       "model_id": "c07ad6d7c91c4d109364f9eabe18093c",
       "version_major": 2,
       "version_minor": 0
      },
      "text/plain": [
       "HBox(children=(FloatProgress(value=0.0, description='Iteration', max=4.0, style=ProgressStyle(description_widt…"
      ]
     },
     "metadata": {},
     "output_type": "display_data"
    },
    {
     "name": "stdout",
     "output_type": "stream",
     "text": [
      "\n"
     ]
    },
    {
     "data": {
      "application/vnd.jupyter.widget-view+json": {
       "model_id": "a935fadf440c45d1ba655be30eca1b5b",
       "version_major": 2,
       "version_minor": 0
      },
      "text/plain": [
       "HBox(children=(FloatProgress(value=0.0, description='Iteration', max=4.0, style=ProgressStyle(description_widt…"
      ]
     },
     "metadata": {},
     "output_type": "display_data"
    },
    {
     "name": "stdout",
     "output_type": "stream",
     "text": [
      "\n"
     ]
    },
    {
     "data": {
      "application/vnd.jupyter.widget-view+json": {
       "model_id": "e108b83b478541a38b036b61953f9fc2",
       "version_major": 2,
       "version_minor": 0
      },
      "text/plain": [
       "HBox(children=(FloatProgress(value=0.0, description='Iteration', max=4.0, style=ProgressStyle(description_widt…"
      ]
     },
     "metadata": {},
     "output_type": "display_data"
    },
    {
     "name": "stdout",
     "output_type": "stream",
     "text": [
      "\n"
     ]
    },
    {
     "data": {
      "application/vnd.jupyter.widget-view+json": {
       "model_id": "749e31ad89fa4c04bef2d148f796550f",
       "version_major": 2,
       "version_minor": 0
      },
      "text/plain": [
       "HBox(children=(FloatProgress(value=0.0, description='Iteration', max=4.0, style=ProgressStyle(description_widt…"
      ]
     },
     "metadata": {},
     "output_type": "display_data"
    },
    {
     "name": "stdout",
     "output_type": "stream",
     "text": [
      "\n"
     ]
    },
    {
     "data": {
      "application/vnd.jupyter.widget-view+json": {
       "model_id": "baf0bfca30a04076a0311da3dbadaa1c",
       "version_major": 2,
       "version_minor": 0
      },
      "text/plain": [
       "HBox(children=(FloatProgress(value=0.0, description='Iteration', max=4.0, style=ProgressStyle(description_widt…"
      ]
     },
     "metadata": {},
     "output_type": "display_data"
    },
    {
     "name": "stdout",
     "output_type": "stream",
     "text": [
      "\n"
     ]
    },
    {
     "data": {
      "application/vnd.jupyter.widget-view+json": {
       "model_id": "d9af1c8f2ce54382976b3951d34b38ac",
       "version_major": 2,
       "version_minor": 0
      },
      "text/plain": [
       "HBox(children=(FloatProgress(value=0.0, description='Iteration', max=4.0, style=ProgressStyle(description_widt…"
      ]
     },
     "metadata": {},
     "output_type": "display_data"
    },
    {
     "name": "stdout",
     "output_type": "stream",
     "text": [
      "\n"
     ]
    },
    {
     "data": {
      "application/vnd.jupyter.widget-view+json": {
       "model_id": "8c8f526e6187483e9cd01bd9b25d887c",
       "version_major": 2,
       "version_minor": 0
      },
      "text/plain": [
       "HBox(children=(FloatProgress(value=0.0, description='Iteration', max=4.0, style=ProgressStyle(description_widt…"
      ]
     },
     "metadata": {},
     "output_type": "display_data"
    },
    {
     "name": "stdout",
     "output_type": "stream",
     "text": [
      "\n"
     ]
    },
    {
     "data": {
      "application/vnd.jupyter.widget-view+json": {
       "model_id": "2c16209aa67f4132a8283320b5267e30",
       "version_major": 2,
       "version_minor": 0
      },
      "text/plain": [
       "HBox(children=(FloatProgress(value=0.0, description='Iteration', max=4.0, style=ProgressStyle(description_widt…"
      ]
     },
     "metadata": {},
     "output_type": "display_data"
    },
    {
     "name": "stdout",
     "output_type": "stream",
     "text": [
      "\n"
     ]
    },
    {
     "data": {
      "application/vnd.jupyter.widget-view+json": {
       "model_id": "ceaac8fb213f408292c3d072374c5349",
       "version_major": 2,
       "version_minor": 0
      },
      "text/plain": [
       "HBox(children=(FloatProgress(value=0.0, description='Iteration', max=4.0, style=ProgressStyle(description_widt…"
      ]
     },
     "metadata": {},
     "output_type": "display_data"
    },
    {
     "name": "stdout",
     "output_type": "stream",
     "text": [
      "\n"
     ]
    },
    {
     "data": {
      "application/vnd.jupyter.widget-view+json": {
       "model_id": "b724cc7b533449c8beefa2ce69016491",
       "version_major": 2,
       "version_minor": 0
      },
      "text/plain": [
       "HBox(children=(FloatProgress(value=0.0, description='Iteration', max=4.0, style=ProgressStyle(description_widt…"
      ]
     },
     "metadata": {},
     "output_type": "display_data"
    },
    {
     "name": "stdout",
     "output_type": "stream",
     "text": [
      "\n"
     ]
    },
    {
     "data": {
      "application/vnd.jupyter.widget-view+json": {
       "model_id": "b8d8f806ed0543dcbd5cdfbd20a97644",
       "version_major": 2,
       "version_minor": 0
      },
      "text/plain": [
       "HBox(children=(FloatProgress(value=0.0, description='Iteration', max=4.0, style=ProgressStyle(description_widt…"
      ]
     },
     "metadata": {},
     "output_type": "display_data"
    },
    {
     "name": "stdout",
     "output_type": "stream",
     "text": [
      "\n"
     ]
    },
    {
     "data": {
      "application/vnd.jupyter.widget-view+json": {
       "model_id": "a18b0d371616438bb64410a932a0566f",
       "version_major": 2,
       "version_minor": 0
      },
      "text/plain": [
       "HBox(children=(FloatProgress(value=0.0, description='Iteration', max=4.0, style=ProgressStyle(description_widt…"
      ]
     },
     "metadata": {},
     "output_type": "display_data"
    },
    {
     "name": "stdout",
     "output_type": "stream",
     "text": [
      "\n"
     ]
    },
    {
     "data": {
      "application/vnd.jupyter.widget-view+json": {
       "model_id": "a5741945c8d84f2096b3ecb55b21ccf9",
       "version_major": 2,
       "version_minor": 0
      },
      "text/plain": [
       "HBox(children=(FloatProgress(value=0.0, description='Iteration', max=4.0, style=ProgressStyle(description_widt…"
      ]
     },
     "metadata": {},
     "output_type": "display_data"
    },
    {
     "name": "stdout",
     "output_type": "stream",
     "text": [
      "\n"
     ]
    },
    {
     "data": {
      "application/vnd.jupyter.widget-view+json": {
       "model_id": "56c8905b8b5349ab962b9936a1b69511",
       "version_major": 2,
       "version_minor": 0
      },
      "text/plain": [
       "HBox(children=(FloatProgress(value=0.0, description='Iteration', max=4.0, style=ProgressStyle(description_widt…"
      ]
     },
     "metadata": {},
     "output_type": "display_data"
    },
    {
     "name": "stdout",
     "output_type": "stream",
     "text": [
      "\n"
     ]
    },
    {
     "data": {
      "application/vnd.jupyter.widget-view+json": {
       "model_id": "716ef32f501a44d18772ca3fb97c90e7",
       "version_major": 2,
       "version_minor": 0
      },
      "text/plain": [
       "HBox(children=(FloatProgress(value=0.0, description='Iteration', max=4.0, style=ProgressStyle(description_widt…"
      ]
     },
     "metadata": {},
     "output_type": "display_data"
    },
    {
     "name": "stdout",
     "output_type": "stream",
     "text": [
      "\n"
     ]
    },
    {
     "data": {
      "application/vnd.jupyter.widget-view+json": {
       "model_id": "a893348ddf804bd19a1183e00ba8fd1f",
       "version_major": 2,
       "version_minor": 0
      },
      "text/plain": [
       "HBox(children=(FloatProgress(value=0.0, description='Iteration', max=4.0, style=ProgressStyle(description_widt…"
      ]
     },
     "metadata": {},
     "output_type": "display_data"
    },
    {
     "name": "stdout",
     "output_type": "stream",
     "text": [
      "\n"
     ]
    },
    {
     "data": {
      "application/vnd.jupyter.widget-view+json": {
       "model_id": "92dc4e523bfb484b887d68697eae8e2e",
       "version_major": 2,
       "version_minor": 0
      },
      "text/plain": [
       "HBox(children=(FloatProgress(value=0.0, description='Iteration', max=4.0, style=ProgressStyle(description_widt…"
      ]
     },
     "metadata": {},
     "output_type": "display_data"
    },
    {
     "name": "stdout",
     "output_type": "stream",
     "text": [
      "\n"
     ]
    },
    {
     "data": {
      "application/vnd.jupyter.widget-view+json": {
       "model_id": "f245ace9ff36471ea26913b0ecbf7cb7",
       "version_major": 2,
       "version_minor": 0
      },
      "text/plain": [
       "HBox(children=(FloatProgress(value=0.0, description='Iteration', max=4.0, style=ProgressStyle(description_widt…"
      ]
     },
     "metadata": {},
     "output_type": "display_data"
    },
    {
     "name": "stdout",
     "output_type": "stream",
     "text": [
      "\n"
     ]
    },
    {
     "data": {
      "application/vnd.jupyter.widget-view+json": {
       "model_id": "6437f9c895fe4f65adfcc73709215bd5",
       "version_major": 2,
       "version_minor": 0
      },
      "text/plain": [
       "HBox(children=(FloatProgress(value=0.0, description='Iteration', max=4.0, style=ProgressStyle(description_widt…"
      ]
     },
     "metadata": {},
     "output_type": "display_data"
    },
    {
     "name": "stdout",
     "output_type": "stream",
     "text": [
      "\n"
     ]
    },
    {
     "data": {
      "application/vnd.jupyter.widget-view+json": {
       "model_id": "4ba78868d42e4937a957521b6c2073da",
       "version_major": 2,
       "version_minor": 0
      },
      "text/plain": [
       "HBox(children=(FloatProgress(value=0.0, description='Iteration', max=4.0, style=ProgressStyle(description_widt…"
      ]
     },
     "metadata": {},
     "output_type": "display_data"
    },
    {
     "name": "stdout",
     "output_type": "stream",
     "text": [
      "\n"
     ]
    },
    {
     "data": {
      "application/vnd.jupyter.widget-view+json": {
       "model_id": "8bbd725a039443fbad08d51f7b35a23a",
       "version_major": 2,
       "version_minor": 0
      },
      "text/plain": [
       "HBox(children=(FloatProgress(value=0.0, description='Iteration', max=4.0, style=ProgressStyle(description_widt…"
      ]
     },
     "metadata": {},
     "output_type": "display_data"
    },
    {
     "name": "stdout",
     "output_type": "stream",
     "text": [
      "\n"
     ]
    },
    {
     "data": {
      "application/vnd.jupyter.widget-view+json": {
       "model_id": "553a9a3a16274809b85b64623d840066",
       "version_major": 2,
       "version_minor": 0
      },
      "text/plain": [
       "HBox(children=(FloatProgress(value=0.0, description='Iteration', max=4.0, style=ProgressStyle(description_widt…"
      ]
     },
     "metadata": {},
     "output_type": "display_data"
    },
    {
     "name": "stdout",
     "output_type": "stream",
     "text": [
      "\n"
     ]
    },
    {
     "data": {
      "application/vnd.jupyter.widget-view+json": {
       "model_id": "2186871c714f4d30b521f74f4bb23b8c",
       "version_major": 2,
       "version_minor": 0
      },
      "text/plain": [
       "HBox(children=(FloatProgress(value=0.0, description='Iteration', max=4.0, style=ProgressStyle(description_widt…"
      ]
     },
     "metadata": {},
     "output_type": "display_data"
    },
    {
     "name": "stdout",
     "output_type": "stream",
     "text": [
      "\n"
     ]
    },
    {
     "data": {
      "application/vnd.jupyter.widget-view+json": {
       "model_id": "bc7b836a0802445795b10b402585d05c",
       "version_major": 2,
       "version_minor": 0
      },
      "text/plain": [
       "HBox(children=(FloatProgress(value=0.0, description='Iteration', max=4.0, style=ProgressStyle(description_widt…"
      ]
     },
     "metadata": {},
     "output_type": "display_data"
    },
    {
     "name": "stdout",
     "output_type": "stream",
     "text": [
      "\n"
     ]
    },
    {
     "data": {
      "application/vnd.jupyter.widget-view+json": {
       "model_id": "ea6667ad61af46a29a941c828d8a1a87",
       "version_major": 2,
       "version_minor": 0
      },
      "text/plain": [
       "HBox(children=(FloatProgress(value=0.0, description='Iteration', max=4.0, style=ProgressStyle(description_widt…"
      ]
     },
     "metadata": {},
     "output_type": "display_data"
    },
    {
     "name": "stdout",
     "output_type": "stream",
     "text": [
      "\n"
     ]
    },
    {
     "data": {
      "application/vnd.jupyter.widget-view+json": {
       "model_id": "897d115494794ce1bd74c3e80f815a51",
       "version_major": 2,
       "version_minor": 0
      },
      "text/plain": [
       "HBox(children=(FloatProgress(value=0.0, description='Iteration', max=4.0, style=ProgressStyle(description_widt…"
      ]
     },
     "metadata": {},
     "output_type": "display_data"
    },
    {
     "name": "stdout",
     "output_type": "stream",
     "text": [
      "\n"
     ]
    },
    {
     "data": {
      "application/vnd.jupyter.widget-view+json": {
       "model_id": "0bbf1ae491d7408ea61680e8ca234f43",
       "version_major": 2,
       "version_minor": 0
      },
      "text/plain": [
       "HBox(children=(FloatProgress(value=0.0, description='Iteration', max=4.0, style=ProgressStyle(description_widt…"
      ]
     },
     "metadata": {},
     "output_type": "display_data"
    },
    {
     "name": "stdout",
     "output_type": "stream",
     "text": [
      "\n"
     ]
    },
    {
     "data": {
      "application/vnd.jupyter.widget-view+json": {
       "model_id": "f3ac1d97f7e3458a8c28e5e2570cec07",
       "version_major": 2,
       "version_minor": 0
      },
      "text/plain": [
       "HBox(children=(FloatProgress(value=0.0, description='Iteration', max=4.0, style=ProgressStyle(description_widt…"
      ]
     },
     "metadata": {},
     "output_type": "display_data"
    },
    {
     "name": "stdout",
     "output_type": "stream",
     "text": [
      "\n"
     ]
    },
    {
     "data": {
      "application/vnd.jupyter.widget-view+json": {
       "model_id": "0f50bb627cde4295b4f8c63f7f2d337f",
       "version_major": 2,
       "version_minor": 0
      },
      "text/plain": [
       "HBox(children=(FloatProgress(value=0.0, description='Iteration', max=4.0, style=ProgressStyle(description_widt…"
      ]
     },
     "metadata": {},
     "output_type": "display_data"
    },
    {
     "name": "stdout",
     "output_type": "stream",
     "text": [
      "\n"
     ]
    },
    {
     "data": {
      "application/vnd.jupyter.widget-view+json": {
       "model_id": "3b12722bc57c4761b999eb33cb0ec7ac",
       "version_major": 2,
       "version_minor": 0
      },
      "text/plain": [
       "HBox(children=(FloatProgress(value=0.0, description='Iteration', max=4.0, style=ProgressStyle(description_widt…"
      ]
     },
     "metadata": {},
     "output_type": "display_data"
    },
    {
     "name": "stdout",
     "output_type": "stream",
     "text": [
      "\n"
     ]
    },
    {
     "data": {
      "application/vnd.jupyter.widget-view+json": {
       "model_id": "fc0c11b33e3f4bfb854e12b307e91d44",
       "version_major": 2,
       "version_minor": 0
      },
      "text/plain": [
       "HBox(children=(FloatProgress(value=0.0, description='Iteration', max=4.0, style=ProgressStyle(description_widt…"
      ]
     },
     "metadata": {},
     "output_type": "display_data"
    },
    {
     "name": "stdout",
     "output_type": "stream",
     "text": [
      "\n",
      "\n",
      "CPU times: user 3min 45s, sys: 2min 4s, total: 5min 49s\n",
      "Wall time: 3min 10s\n"
     ]
    },
    {
     "data": {
      "text/plain": [
       "TrainOutput(global_step=160, training_loss=6.817177161574364)"
      ]
     },
     "execution_count": 22,
     "metadata": {},
     "output_type": "execute_result"
    }
   ],
   "source": [
    "%%time\n",
    "trainer.train()"
   ]
  },
  {
   "cell_type": "markdown",
   "metadata": {
    "colab_type": "text",
    "id": "_ZkooHz1-_2h"
   },
   "source": [
    "#### 🎉 Save final model (+ tokenizer + config) to disk"
   ]
  },
  {
   "cell_type": "code",
   "execution_count": 23,
   "metadata": {
    "colab": {},
    "colab_type": "code",
    "id": "QDNgPls7_l13"
   },
   "outputs": [],
   "source": [
    "trainer.save_model(\"./EsperBERTo\")"
   ]
  },
  {
   "cell_type": "code",
   "execution_count": 24,
   "metadata": {},
   "outputs": [
    {
     "data": {
      "text/plain": [
       "('./EsperBERTo/vocab.json',\n",
       " './EsperBERTo/merges.txt',\n",
       " './EsperBERTo/special_tokens_map.json',\n",
       " './EsperBERTo/added_tokens.json')"
      ]
     },
     "execution_count": 24,
     "metadata": {},
     "output_type": "execute_result"
    }
   ],
   "source": [
    "tokenizer.save_pretrained(\"./EsperBERTo\")"
   ]
  },
  {
   "cell_type": "markdown",
   "metadata": {
    "colab_type": "text",
    "id": "d0caceCy_p1-"
   },
   "source": [
    "## 4. Check that the LM actually trained"
   ]
  },
  {
   "cell_type": "markdown",
   "metadata": {
    "colab_type": "text",
    "id": "iIQJ8ND_AEhl"
   },
   "source": [
    "Aside from looking at the training and eval losses going down, the easiest way to check whether our language model is learning anything interesting is via the `FillMaskPipeline`.\n",
    "\n",
    "Pipelines are simple wrappers around tokenizers and models, and the 'fill-mask' one will let you input a sequence containing a masked token (here, `<mask>`) and return a list of the most probable filled sequences, with their probabilities.\n",
    "\n"
   ]
  },
  {
   "cell_type": "code",
   "execution_count": 25,
   "metadata": {
    "colab": {},
    "colab_type": "code",
    "id": "ltXgXyCbAJLY"
   },
   "outputs": [
    {
     "name": "stderr",
     "output_type": "stream",
     "text": [
      "/home/taylor/anaconda3/lib/python3.7/site-packages/transformers/modeling_auto.py:805: FutureWarning: The class `AutoModelWithLMHead` is deprecated and will be removed in a future version. Please use `AutoModelForCausalLM` for causal language models, `AutoModelForMaskedLM` for masked language models and `AutoModelForSeq2SeqLM` for encoder-decoder models.\n",
      "  FutureWarning,\n"
     ]
    }
   ],
   "source": [
    "from transformers import pipeline\n",
    "\n",
    "fill_mask = pipeline(\n",
    "    \"fill-mask\",\n",
    "    model=\"./EsperBERTo\",\n",
    "    tokenizer=\"./EsperBERTo\"\n",
    ")"
   ]
  },
  {
   "cell_type": "code",
   "execution_count": 26,
   "metadata": {
    "colab": {
     "base_uri": "https://localhost:8080/",
     "height": 283
    },
    "colab_type": "code",
    "id": "UIvgZ3S6AO0z",
    "outputId": "5f3d2f00-abdc-44a9-9c1b-75e3ec328576"
   },
   "outputs": [
    {
     "data": {
      "text/plain": [
       "[{'sequence': '<s>I will vote for.</s>',\n",
       "  'score': 0.1515866369009018,\n",
       "  'token': 225,\n",
       "  'token_str': 'Ġ'},\n",
       " {'sequence': '<s>I will vote for n.</s>',\n",
       "  'score': 0.03599032387137413,\n",
       "  'token': 268,\n",
       "  'token_str': 'Ġn'},\n",
       " {'sequence': '<s>I will vote for .</s>',\n",
       "  'score': 0.03144724294543266,\n",
       "  'token': 274,\n",
       "  'token_str': 'ĠĠ'},\n",
       " {'sequence': '<s>I will vote for.,.</s>',\n",
       "  'score': 0.03131469711661339,\n",
       "  'token': 286,\n",
       "  'token_str': '.,'},\n",
       " {'sequence': '<s>I will vote for f.</s>',\n",
       "  'score': 0.029994426295161247,\n",
       "  'token': 275,\n",
       "  'token_str': 'Ġf'}]"
      ]
     },
     "execution_count": 26,
     "metadata": {},
     "output_type": "execute_result"
    }
   ],
   "source": [
    "# The sun <mask>.\n",
    "# =>\n",
    "\n",
    "fill_mask(\"I will vote for <mask>.\")"
   ]
  },
  {
   "cell_type": "markdown",
   "metadata": {
    "colab_type": "text",
    "id": "i0qCyyhNAWZi"
   },
   "source": [
    "Ok, simple syntax/grammar works. Let’s try a slightly more interesting prompt:\n",
    "\n"
   ]
  },
  {
   "cell_type": "code",
   "execution_count": 27,
   "metadata": {
    "colab": {
     "base_uri": "https://localhost:8080/",
     "height": 283
    },
    "colab_type": "code",
    "id": "YZ9HSQxAAbme",
    "outputId": "aabfeedc-b1d0-4837-b01d-cd42726a5a3d"
   },
   "outputs": [
    {
     "data": {
      "text/plain": [
       "[{'sequence': '<s>  is the president</s>',\n",
       "  'score': 0.12730830907821655,\n",
       "  'token': 225,\n",
       "  'token_str': 'Ġ'},\n",
       " {'sequence': '<s> n is the president</s>',\n",
       "  'score': 0.04005299508571625,\n",
       "  'token': 268,\n",
       "  'token_str': 'Ġn'},\n",
       " {'sequence': '<s>   is the president</s>',\n",
       "  'score': 0.037378400564193726,\n",
       "  'token': 274,\n",
       "  'token_str': 'ĠĠ'},\n",
       " {'sequence': '<s>., is the president</s>',\n",
       "  'score': 0.020558584481477737,\n",
       "  'token': 286,\n",
       "  'token_str': '.,'},\n",
       " {'sequence': '<s> f is the president</s>',\n",
       "  'score': 0.019908567890524864,\n",
       "  'token': 275,\n",
       "  'token_str': 'Ġf'}]"
      ]
     },
     "execution_count": 27,
     "metadata": {},
     "output_type": "execute_result"
    }
   ],
   "source": [
    "fill_mask(\"<mask> is the president\")\n",
    "\n",
    "# This is the beginning of a beautiful <mask>.\n",
    "# =>"
   ]
  },
  {
   "cell_type": "markdown",
   "metadata": {
    "colab_type": "text",
    "id": "6RsGaD1qAfLP"
   },
   "source": [
    "## 5. Share your model 🎉"
   ]
  },
  {
   "cell_type": "markdown",
   "metadata": {
    "colab_type": "text",
    "id": "5oESe8djApQw"
   },
   "source": [
    "Finally, when you have a nice model, please think about sharing it with the community:\n",
    "\n",
    "- upload your model using the CLI: `transformers-cli upload`\n",
    "- write a README.md model card and add it to the repository under `model_cards/`. Your model card should ideally include:\n",
    "    - a model description,\n",
    "    - training params (dataset, preprocessing, hyperparameters), \n",
    "    - evaluation results,\n",
    "    - intended uses & limitations\n",
    "    - whatever else is helpful! 🤓\n",
    "\n",
    "### **TADA!**\n",
    "\n",
    "➡️ Your model has a page on http://huggingface.co/models and everyone can load it using `AutoModel.from_pretrained(\"username/model_name\")`.\n",
    "\n",
    "[![tb](https://huggingface.co/blog/assets/01_how-to-train/model_page.png)](https://huggingface.co/julien-c/EsperBERTo-small)\n"
   ]
  },
  {
   "cell_type": "markdown",
   "metadata": {
    "colab_type": "text",
    "id": "aw9ifsgqBI2o"
   },
   "source": [
    "If you want to take a look at models in different languages, check https://huggingface.co/models\n",
    "\n",
    "[![all models](https://huggingface.co/front/thumbnails/models.png)](https://huggingface.co/models)\n"
   ]
  }
 ],
 "metadata": {
  "accelerator": "GPU",
  "colab": {
   "collapsed_sections": [],
   "include_colab_link": true,
   "machine_shape": "hm",
   "name": "01_how-to-train.ipynb",
   "provenance": [],
   "toc_visible": true
  },
  "kernelspec": {
   "display_name": "Python 3",
   "language": "python",
   "name": "python3"
  },
  "language_info": {
   "codemirror_mode": {
    "name": "ipython",
    "version": 3
   },
   "file_extension": ".py",
   "mimetype": "text/x-python",
   "name": "python",
   "nbconvert_exporter": "python",
   "pygments_lexer": "ipython3",
   "version": "3.7.4"
  },
  "widgets": {
   "application/vnd.jupyter.widget-state+json": {
    "016d7c8318f742c1943464b08232a510": {
     "model_module": "@jupyter-widgets/base",
     "model_name": "LayoutModel",
     "state": {
      "_model_module": "@jupyter-widgets/base",
      "_model_module_version": "1.2.0",
      "_model_name": "LayoutModel",
      "_view_count": null,
      "_view_module": "@jupyter-widgets/base",
      "_view_module_version": "1.2.0",
      "_view_name": "LayoutView",
      "align_content": null,
      "align_items": null,
      "align_self": null,
      "border": null,
      "bottom": null,
      "display": null,
      "flex": null,
      "flex_flow": null,
      "grid_area": null,
      "grid_auto_columns": null,
      "grid_auto_flow": null,
      "grid_auto_rows": null,
      "grid_column": null,
      "grid_gap": null,
      "grid_row": null,
      "grid_template_areas": null,
      "grid_template_columns": null,
      "grid_template_rows": null,
      "height": null,
      "justify_content": null,
      "justify_items": null,
      "left": null,
      "margin": null,
      "max_height": null,
      "max_width": null,
      "min_height": null,
      "min_width": null,
      "object_fit": null,
      "object_position": null,
      "order": null,
      "overflow": null,
      "overflow_x": null,
      "overflow_y": null,
      "padding": null,
      "right": null,
      "top": null,
      "visibility": null,
      "width": null
     }
    },
    "04e7e6d291da49d5816dc98a2904e95c": {
     "model_module": "@jupyter-widgets/controls",
     "model_name": "HTMLModel",
     "state": {
      "_dom_classes": [],
      "_model_module": "@jupyter-widgets/controls",
      "_model_module_version": "1.5.0",
      "_model_name": "HTMLModel",
      "_view_count": null,
      "_view_module": "@jupyter-widgets/controls",
      "_view_module_version": "1.5.0",
      "_view_name": "HTMLView",
      "description": "",
      "description_tooltip": null,
      "layout": "IPY_MODEL_39c23c6a972b419eb2eeeebafeaedc22",
      "placeholder": "​",
      "style": "IPY_MODEL_8388e9da9da4492c98c19235ca5fc1b5",
      "value": " 15228/15228 [2:46:46&lt;00:00,  1.52it/s]"
     }
    },
    "0989d41a4da24e9ebff377e02127642c": {
     "model_module": "@jupyter-widgets/controls",
     "model_name": "HBoxModel",
     "state": {
      "_dom_classes": [],
      "_model_module": "@jupyter-widgets/controls",
      "_model_module_version": "1.5.0",
      "_model_name": "HBoxModel",
      "_view_count": null,
      "_view_module": "@jupyter-widgets/controls",
      "_view_module_version": "1.5.0",
      "_view_name": "HBoxView",
      "box_style": "",
      "children": [
       "IPY_MODEL_d295dd80550447d88da0f04ce36a22ff",
       "IPY_MODEL_04e7e6d291da49d5816dc98a2904e95c"
      ],
      "layout": "IPY_MODEL_42c6061ef7e44f179db5a6e3551c0f17"
     }
    },
    "39c23c6a972b419eb2eeeebafeaedc22": {
     "model_module": "@jupyter-widgets/base",
     "model_name": "LayoutModel",
     "state": {
      "_model_module": "@jupyter-widgets/base",
      "_model_module_version": "1.2.0",
      "_model_name": "LayoutModel",
      "_view_count": null,
      "_view_module": "@jupyter-widgets/base",
      "_view_module_version": "1.2.0",
      "_view_name": "LayoutView",
      "align_content": null,
      "align_items": null,
      "align_self": null,
      "border": null,
      "bottom": null,
      "display": null,
      "flex": null,
      "flex_flow": null,
      "grid_area": null,
      "grid_auto_columns": null,
      "grid_auto_flow": null,
      "grid_auto_rows": null,
      "grid_column": null,
      "grid_gap": null,
      "grid_row": null,
      "grid_template_areas": null,
      "grid_template_columns": null,
      "grid_template_rows": null,
      "height": null,
      "justify_content": null,
      "justify_items": null,
      "left": null,
      "margin": null,
      "max_height": null,
      "max_width": null,
      "min_height": null,
      "min_width": null,
      "object_fit": null,
      "object_position": null,
      "order": null,
      "overflow": null,
      "overflow_x": null,
      "overflow_y": null,
      "padding": null,
      "right": null,
      "top": null,
      "visibility": null,
      "width": null
     }
    },
    "40bf955ba0284e84b198da6be8654219": {
     "model_module": "@jupyter-widgets/controls",
     "model_name": "ProgressStyleModel",
     "state": {
      "_model_module": "@jupyter-widgets/controls",
      "_model_module_version": "1.5.0",
      "_model_name": "ProgressStyleModel",
      "_view_count": null,
      "_view_module": "@jupyter-widgets/base",
      "_view_module_version": "1.2.0",
      "_view_name": "StyleView",
      "bar_color": null,
      "description_width": "initial"
     }
    },
    "42c6061ef7e44f179db5a6e3551c0f17": {
     "model_module": "@jupyter-widgets/base",
     "model_name": "LayoutModel",
     "state": {
      "_model_module": "@jupyter-widgets/base",
      "_model_module_version": "1.2.0",
      "_model_name": "LayoutModel",
      "_view_count": null,
      "_view_module": "@jupyter-widgets/base",
      "_view_module_version": "1.2.0",
      "_view_name": "LayoutView",
      "align_content": null,
      "align_items": null,
      "align_self": null,
      "border": null,
      "bottom": null,
      "display": null,
      "flex": null,
      "flex_flow": null,
      "grid_area": null,
      "grid_auto_columns": null,
      "grid_auto_flow": null,
      "grid_auto_rows": null,
      "grid_column": null,
      "grid_gap": null,
      "grid_row": null,
      "grid_template_areas": null,
      "grid_template_columns": null,
      "grid_template_rows": null,
      "height": null,
      "justify_content": null,
      "justify_items": null,
      "left": null,
      "margin": null,
      "max_height": null,
      "max_width": null,
      "min_height": null,
      "min_width": null,
      "object_fit": null,
      "object_position": null,
      "order": null,
      "overflow": null,
      "overflow_x": null,
      "overflow_y": null,
      "padding": null,
      "right": null,
      "top": null,
      "visibility": null,
      "width": null
     }
    },
    "6feb10aeb43147e6aba028d065947ae8": {
     "model_module": "@jupyter-widgets/base",
     "model_name": "LayoutModel",
     "state": {
      "_model_module": "@jupyter-widgets/base",
      "_model_module_version": "1.2.0",
      "_model_name": "LayoutModel",
      "_view_count": null,
      "_view_module": "@jupyter-widgets/base",
      "_view_module_version": "1.2.0",
      "_view_name": "LayoutView",
      "align_content": null,
      "align_items": null,
      "align_self": null,
      "border": null,
      "bottom": null,
      "display": null,
      "flex": null,
      "flex_flow": null,
      "grid_area": null,
      "grid_auto_columns": null,
      "grid_auto_flow": null,
      "grid_auto_rows": null,
      "grid_column": null,
      "grid_gap": null,
      "grid_row": null,
      "grid_template_areas": null,
      "grid_template_columns": null,
      "grid_template_rows": null,
      "height": null,
      "justify_content": null,
      "justify_items": null,
      "left": null,
      "margin": null,
      "max_height": null,
      "max_width": null,
      "min_height": null,
      "min_width": null,
      "object_fit": null,
      "object_position": null,
      "order": null,
      "overflow": null,
      "overflow_x": null,
      "overflow_y": null,
      "padding": null,
      "right": null,
      "top": null,
      "visibility": null,
      "width": null
     }
    },
    "837c9ddc3d594e088891874560c646b8": {
     "model_module": "@jupyter-widgets/controls",
     "model_name": "FloatProgressModel",
     "state": {
      "_dom_classes": [],
      "_model_module": "@jupyter-widgets/controls",
      "_model_module_version": "1.5.0",
      "_model_name": "FloatProgressModel",
      "_view_count": null,
      "_view_module": "@jupyter-widgets/controls",
      "_view_module_version": "1.5.0",
      "_view_name": "ProgressView",
      "bar_style": "success",
      "description": "Epoch: 100%",
      "description_tooltip": null,
      "layout": "IPY_MODEL_fe20a8dae6e84628b5076d02183090f5",
      "max": 1,
      "min": 0,
      "orientation": "horizontal",
      "style": "IPY_MODEL_40bf955ba0284e84b198da6be8654219",
      "value": 1
     }
    },
    "8388e9da9da4492c98c19235ca5fc1b5": {
     "model_module": "@jupyter-widgets/controls",
     "model_name": "DescriptionStyleModel",
     "state": {
      "_model_module": "@jupyter-widgets/controls",
      "_model_module_version": "1.5.0",
      "_model_name": "DescriptionStyleModel",
      "_view_count": null,
      "_view_module": "@jupyter-widgets/base",
      "_view_module_version": "1.2.0",
      "_view_name": "StyleView",
      "description_width": ""
     }
    },
    "93b3f9eae3cb4e3e859cf456e3547c6d": {
     "model_module": "@jupyter-widgets/controls",
     "model_name": "DescriptionStyleModel",
     "state": {
      "_model_module": "@jupyter-widgets/controls",
      "_model_module_version": "1.5.0",
      "_model_name": "DescriptionStyleModel",
      "_view_count": null,
      "_view_module": "@jupyter-widgets/base",
      "_view_module_version": "1.2.0",
      "_view_name": "StyleView",
      "description_width": ""
     }
    },
    "a491e8caa0a048beb3b5259f14eb233f": {
     "model_module": "@jupyter-widgets/base",
     "model_name": "LayoutModel",
     "state": {
      "_model_module": "@jupyter-widgets/base",
      "_model_module_version": "1.2.0",
      "_model_name": "LayoutModel",
      "_view_count": null,
      "_view_module": "@jupyter-widgets/base",
      "_view_module_version": "1.2.0",
      "_view_name": "LayoutView",
      "align_content": null,
      "align_items": null,
      "align_self": null,
      "border": null,
      "bottom": null,
      "display": null,
      "flex": null,
      "flex_flow": null,
      "grid_area": null,
      "grid_auto_columns": null,
      "grid_auto_flow": null,
      "grid_auto_rows": null,
      "grid_column": null,
      "grid_gap": null,
      "grid_row": null,
      "grid_template_areas": null,
      "grid_template_columns": null,
      "grid_template_rows": null,
      "height": null,
      "justify_content": null,
      "justify_items": null,
      "left": null,
      "margin": null,
      "max_height": null,
      "max_width": null,
      "min_height": null,
      "min_width": null,
      "object_fit": null,
      "object_position": null,
      "order": null,
      "overflow": null,
      "overflow_x": null,
      "overflow_y": null,
      "padding": null,
      "right": null,
      "top": null,
      "visibility": null,
      "width": null
     }
    },
    "a58a66392b644b1384661e850c077a6c": {
     "model_module": "@jupyter-widgets/controls",
     "model_name": "HBoxModel",
     "state": {
      "_dom_classes": [],
      "_model_module": "@jupyter-widgets/controls",
      "_model_module_version": "1.5.0",
      "_model_name": "HBoxModel",
      "_view_count": null,
      "_view_module": "@jupyter-widgets/controls",
      "_view_module_version": "1.5.0",
      "_view_name": "HBoxView",
      "box_style": "",
      "children": [
       "IPY_MODEL_837c9ddc3d594e088891874560c646b8",
       "IPY_MODEL_dbf50873d62c4ba39321faefbed0cca5"
      ],
      "layout": "IPY_MODEL_a491e8caa0a048beb3b5259f14eb233f"
     }
    },
    "d295dd80550447d88da0f04ce36a22ff": {
     "model_module": "@jupyter-widgets/controls",
     "model_name": "FloatProgressModel",
     "state": {
      "_dom_classes": [],
      "_model_module": "@jupyter-widgets/controls",
      "_model_module_version": "1.5.0",
      "_model_name": "FloatProgressModel",
      "_view_count": null,
      "_view_module": "@jupyter-widgets/controls",
      "_view_module_version": "1.5.0",
      "_view_name": "ProgressView",
      "bar_style": "success",
      "description": "Iteration: 100%",
      "description_tooltip": null,
      "layout": "IPY_MODEL_016d7c8318f742c1943464b08232a510",
      "max": 15228,
      "min": 0,
      "orientation": "horizontal",
      "style": "IPY_MODEL_e7d8c3a4fecd40778e32966b29ea65a1",
      "value": 15228
     }
    },
    "dbf50873d62c4ba39321faefbed0cca5": {
     "model_module": "@jupyter-widgets/controls",
     "model_name": "HTMLModel",
     "state": {
      "_dom_classes": [],
      "_model_module": "@jupyter-widgets/controls",
      "_model_module_version": "1.5.0",
      "_model_name": "HTMLModel",
      "_view_count": null,
      "_view_module": "@jupyter-widgets/controls",
      "_view_module_version": "1.5.0",
      "_view_name": "HTMLView",
      "description": "",
      "description_tooltip": null,
      "layout": "IPY_MODEL_6feb10aeb43147e6aba028d065947ae8",
      "placeholder": "​",
      "style": "IPY_MODEL_93b3f9eae3cb4e3e859cf456e3547c6d",
      "value": " 1/1 [2:46:46&lt;00:00, 10006.17s/it]"
     }
    },
    "e7d8c3a4fecd40778e32966b29ea65a1": {
     "model_module": "@jupyter-widgets/controls",
     "model_name": "ProgressStyleModel",
     "state": {
      "_model_module": "@jupyter-widgets/controls",
      "_model_module_version": "1.5.0",
      "_model_name": "ProgressStyleModel",
      "_view_count": null,
      "_view_module": "@jupyter-widgets/base",
      "_view_module_version": "1.2.0",
      "_view_name": "StyleView",
      "bar_color": null,
      "description_width": "initial"
     }
    },
    "fe20a8dae6e84628b5076d02183090f5": {
     "model_module": "@jupyter-widgets/base",
     "model_name": "LayoutModel",
     "state": {
      "_model_module": "@jupyter-widgets/base",
      "_model_module_version": "1.2.0",
      "_model_name": "LayoutModel",
      "_view_count": null,
      "_view_module": "@jupyter-widgets/base",
      "_view_module_version": "1.2.0",
      "_view_name": "LayoutView",
      "align_content": null,
      "align_items": null,
      "align_self": null,
      "border": null,
      "bottom": null,
      "display": null,
      "flex": null,
      "flex_flow": null,
      "grid_area": null,
      "grid_auto_columns": null,
      "grid_auto_flow": null,
      "grid_auto_rows": null,
      "grid_column": null,
      "grid_gap": null,
      "grid_row": null,
      "grid_template_areas": null,
      "grid_template_columns": null,
      "grid_template_rows": null,
      "height": null,
      "justify_content": null,
      "justify_items": null,
      "left": null,
      "margin": null,
      "max_height": null,
      "max_width": null,
      "min_height": null,
      "min_width": null,
      "object_fit": null,
      "object_position": null,
      "order": null,
      "overflow": null,
      "overflow_x": null,
      "overflow_y": null,
      "padding": null,
      "right": null,
      "top": null,
      "visibility": null,
      "width": null
     }
    }
   }
  }
 },
 "nbformat": 4,
 "nbformat_minor": 1
}
