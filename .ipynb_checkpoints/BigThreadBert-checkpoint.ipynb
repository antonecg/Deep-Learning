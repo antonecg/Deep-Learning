{
 "cells": [
  {
   "cell_type": "markdown",
   "metadata": {
    "colab_type": "text",
    "id": "view-in-github"
   },
   "source": [
    "<a href=\"https://colab.research.google.com/github/huggingface/blog/blob/notebook_update_may15/notebooks/01_how_to_train.ipynb\" target=\"_parent\"><img src=\"https://colab.research.google.com/assets/colab-badge.svg\" alt=\"Open In Colab\"/></a>"
   ]
  },
  {
   "cell_type": "code",
   "execution_count": 3,
   "metadata": {
    "colab": {},
    "colab_type": "code",
    "id": "5duRggBRZKvP"
   },
   "outputs": [
    {
     "name": "stdout",
     "output_type": "stream",
     "text": [
      "Collecting git+https://github.com/huggingface/transformers\n",
      "  Cloning https://github.com/huggingface/transformers to /tmp/pip-req-build-f5iryb41\n",
      "  Running command git clone -q https://github.com/huggingface/transformers /tmp/pip-req-build-f5iryb41\n",
      "Requirement already satisfied (use --upgrade to upgrade): transformers==3.0.2 from git+https://github.com/huggingface/transformers in /home/taylor/anaconda3/lib/python3.7/site-packages\n",
      "Requirement already satisfied: numpy in /home/taylor/anaconda3/lib/python3.7/site-packages (from transformers==3.0.2) (1.18.1)\n",
      "Requirement already satisfied: tokenizers==0.8.1.rc2 in /home/taylor/anaconda3/lib/python3.7/site-packages (from transformers==3.0.2) (0.8.1rc2)\n",
      "Requirement already satisfied: packaging in /home/taylor/anaconda3/lib/python3.7/site-packages (from transformers==3.0.2) (20.3)\n",
      "Requirement already satisfied: filelock in /home/taylor/anaconda3/lib/python3.7/site-packages (from transformers==3.0.2) (3.0.12)\n",
      "Requirement already satisfied: requests in /home/taylor/anaconda3/lib/python3.7/site-packages (from transformers==3.0.2) (2.21.0)\n",
      "Requirement already satisfied: tqdm>=4.27 in /home/taylor/anaconda3/lib/python3.7/site-packages (from transformers==3.0.2) (4.46.0)\n",
      "Requirement already satisfied: regex!=2019.12.17 in /home/taylor/anaconda3/lib/python3.7/site-packages (from transformers==3.0.2) (2020.7.14)\n",
      "Requirement already satisfied: sentencepiece!=0.1.92 in /home/taylor/anaconda3/lib/python3.7/site-packages (from transformers==3.0.2) (0.1.91)\n",
      "Requirement already satisfied: sacremoses in /home/taylor/anaconda3/lib/python3.7/site-packages (from transformers==3.0.2) (0.0.43)\n",
      "Requirement already satisfied: six in /home/taylor/anaconda3/lib/python3.7/site-packages (from packaging->transformers==3.0.2) (1.14.0)\n",
      "Requirement already satisfied: pyparsing>=2.0.2 in /home/taylor/anaconda3/lib/python3.7/site-packages (from packaging->transformers==3.0.2) (2.4.7)\n",
      "Requirement already satisfied: idna<2.9,>=2.5 in /home/taylor/anaconda3/lib/python3.7/site-packages (from requests->transformers==3.0.2) (2.8)\n",
      "Requirement already satisfied: certifi>=2017.4.17 in /home/taylor/anaconda3/lib/python3.7/site-packages (from requests->transformers==3.0.2) (2020.6.20)\n",
      "Requirement already satisfied: chardet<3.1.0,>=3.0.2 in /home/taylor/anaconda3/lib/python3.7/site-packages (from requests->transformers==3.0.2) (3.0.4)\n",
      "Requirement already satisfied: urllib3<1.25,>=1.21.1 in /home/taylor/anaconda3/lib/python3.7/site-packages (from requests->transformers==3.0.2) (1.24.3)\n",
      "Requirement already satisfied: click in /home/taylor/anaconda3/lib/python3.7/site-packages (from sacremoses->transformers==3.0.2) (7.0)\n",
      "Requirement already satisfied: joblib in /home/taylor/anaconda3/lib/python3.7/site-packages (from sacremoses->transformers==3.0.2) (0.14.1)\n",
      "Building wheels for collected packages: transformers\n",
      "  Building wheel for transformers (setup.py) ... \u001b[?25ldone\n",
      "\u001b[?25h  Created wheel for transformers: filename=transformers-3.0.2-py3-none-any.whl size=810726 sha256=45d4934ad42be8cfdae98c361f328971061def6f3c9b8f8cf9b960c76d8fd661\n",
      "  Stored in directory: /tmp/pip-ephem-wheel-cache-by11bkn9/wheels/35/2e/a7/d819e3310040329f0f47e57c9e3e7a7338aa5e74c49acfe522\n",
      "Successfully built transformers\n",
      "tokenizers                         0.8.1rc2           \n",
      "transformers                       3.0.2              \n"
     ]
    }
   ],
   "source": [
    "# We won't need TensorFlow here\n",
    "#!pip uninstall -y tensorflowhttps://colab.research.google.com/github/huggingface/blog/blob/notebook_update_may15/notebooks/01_how_to_train.ipynb\n",
    "# Install `transformers` from master\n",
    "!pip install git+https://github.com/huggingface/transformers\n",
    "!pip list | grep -E 'transformers|tokenizers'\n",
    "# transformers version at notebook update --- 2.11.0\n",
    "# tokenizers version at notebook update --- 0.8.0rc1"
   ]
  },
  {
   "cell_type": "code",
   "execution_count": 4,
   "metadata": {},
   "outputs": [
    {
     "name": "stderr",
     "output_type": "stream",
     "text": [
      "[nltk_data] Downloading package stopwords to /home/taylor/nltk_data...\n",
      "[nltk_data]   Package stopwords is already up-to-date!\n"
     ]
    }
   ],
   "source": [
    "import pandas as pd\n",
    "from tqdm import tqdm\n",
    "import nltk\n",
    "from nltk.corpus import stopwords\n",
    "nltk.download('stopwords')\n",
    "from nltk.tokenize import word_tokenize"
   ]
  },
  {
   "cell_type": "code",
   "execution_count": 5,
   "metadata": {},
   "outputs": [
    {
     "name": "stdout",
     "output_type": "stream",
     "text": [
      "[' i ', ' me ', ' my ', ' myself ', ' we ', ' our ', ' ours ', ' ourselves ', ' you ', \" you're \", \" you've \", \" you'll \", \" you'd \", ' your ', ' yours ', ' yourself ', ' yourselves ', ' he ', ' him ', ' his ', ' himself ', ' she ', \" she's \", ' her ', ' hers ', ' herself ', ' it ', \" it's \", ' its ', ' itself ', ' they ', ' them ', ' their ', ' theirs ', ' themselves ', ' what ', ' which ', ' who ', ' whom ', ' this ', ' that ', \" that'll \", ' these ', ' those ', ' am ', ' is ', ' are ', ' was ', ' were ', ' be ', ' been ', ' being ', ' have ', ' has ', ' had ', ' having ', ' do ', ' does ', ' did ', ' doing ', ' a ', ' an ', ' the ', ' and ', ' but ', ' if ', ' or ', ' because ', ' as ', ' until ', ' while ', ' of ', ' at ', ' by ', ' for ', ' with ', ' about ', ' against ', ' between ', ' into ', ' through ', ' during ', ' before ', ' after ', ' above ', ' below ', ' to ', ' from ', ' up ', ' down ', ' in ', ' out ', ' on ', ' off ', ' over ', ' under ', ' again ', ' further ', ' then ', ' once ', ' here ', ' there ', ' when ', ' where ', ' why ', ' how ', ' all ', ' any ', ' both ', ' each ', ' few ', ' more ', ' most ', ' other ', ' some ', ' such ', ' no ', ' nor ', ' not ', ' only ', ' own ', ' same ', ' so ', ' than ', ' too ', ' very ', ' s ', ' t ', ' can ', ' will ', ' just ', ' don ', \" don't \", ' should ', \" should've \", ' now ', ' d ', ' ll ', ' m ', ' o ', ' re ', ' ve ', ' y ', ' ain ', ' aren ', \" aren't \", ' couldn ', \" couldn't \", ' didn ', \" didn't \", ' doesn ', \" doesn't \", ' hadn ', \" hadn't \", ' hasn ', \" hasn't \", ' haven ', \" haven't \", ' isn ', \" isn't \", ' ma ', ' mightn ', \" mightn't \", ' mustn ', \" mustn't \", ' needn ', \" needn't \", ' shan ', \" shan't \", ' shouldn ', \" shouldn't \", ' wasn ', \" wasn't \", ' weren ', \" weren't \", ' won ', \" won't \", ' wouldn ', \" wouldn't \"]\n",
      "['1', '  reality tv gone far.  ', '  endorsed elon! ,  .. funny!  ', '   deleted   ', '  trump 100% told to sway black vote biden  ', '   distraction (https://hips.hearstapps.com/hmg-prod.s3.amazonaws.com/images/president-elect-donald-trump-and-kanye-west-stand-together-news-photo-1586966279.jpg?resize=768:*)  ', '  everyone laughing like everyone laughed trump first announced  ', '  what’s gambit? ,  water young black vote biden?  ', '  another loser wants trump publicity stunt. ,  prior album release.  ', '  literally going go way vote him.  ', '  hero need!  ', '  hate year.  ', '  kanye great he’s clown  ', '  shit. ,  imagine kanye president..  i’ll take trump.  ', '  fuck point. ,  also fuck kardashians.  ', '  well stole 40 year old white hipster vote biden.  ', '  entirely designed draw black vote young vote away biden help trump.  ', '  say voting traitor-in-chief. ,   kanye west signals vote donald trump 2020:  know voting  (https://www.businessinsider.com/kanye-west-signals-hell-vote-for-donald-trump-in-2020-2020-4)  ', '  cynical ploy hopes pulling minority votes democrats help boy trump? ,  thinks so.  ', '  seems like worst time something like this. ,  best it’s extremely short-sighted kanye, worst pro-trump play take biden’s african-american voters. ,  really fan like kanye  ', '  call late registration  ', '  great another hollywood rich guy thinks qualified lead country. ,  considering entered race 4ish months election clearly serious becoming president.  ', '  gonna fuck biden. ,  hate kanye even now.  ', '  timeline? ,  act like didn’t happen completely ignore it?  ', '  🌹 twitter’s new favorite candidate 🙄🙄  ', '  *you know kaitlin jenner going vp. ,  *  ', '  least means matter biden isn’t getting elected🤷🏽\\\\u200d♂️  ', '  i’m curious see news handles this. ,  blew trying properly cover celebrity politics 2016 trump, i’m interested see learned anything time around  ', '  gonna ballot states, even serious.  ', '  troll?  ', '  absolute moron.  ', '  vote kanye vote trump.  ', '  always stupid shit attention.  ', '  miss old kanye.....  ', '  i’m voting kanye biden let’s gooo. ,  found friends group chat, everybody hyped now. ,  many go vote kanye biden!  ', '  *this* close fucking give timeline. ,  thankfully, go anywhere.  ', '  fucking moron.  ', '  ah, finally check something 2020 bingo card  ', '  joke, right? ,  swear takes votes away biden get 4 years shitshow!  ', '  isn’t kanye still slightly mentally ill? ,  matter trump voted clearly 100% visibly mentally unstable, maybe even mentioned prior getting office way campaign.  ', '  think till august run third party candidate? ,  yeah isn’t distraction 🤦\\\\u200d♂️  ', '  things kanye needs lot meds ever elusive humility.  ', '  maybe marry another kardashian,why  ', '  gave country benefit doubt. ,  2020 changed that. ,  genuinely hate country now. ,  joke.  ', '  like kanye, ridiculous. ,  don’t want anybody else diverting votes people really take charge office  ', '  kanye trump fan. ,  intended help trump. ,  people absolutely waste votes kanye west. ,  many young minority voters make difference.  ', '  america world come  ', '  bad idea. ,  country doesn’t want third party let alone third party candidate.  ', '  even serious, highly, highly doubt, pretty much time. ,  try put together whole campaign quick try get ballots, passed to. ,  unless willing spend bloomberg-type money right now, publicity stunt. ,   see filing dates ballot, scroll  independent candidates. ,    (https://ballotpedia.org/important_dates_in_the_2020_presidential_race) deadline already passed nc, tx, ny, nm, me, in. ,  mi, ok, sc, fl close less 2 weeks. ,  163 ev already table states mostly close august.  ', '  needs signatures every state get ballot certain dates. ,  doubt organization people collect signatures every state. ,  think publicity stunt next album release.  ', '  pretty obvious (and desperate) ploy negate biden’s black vote.  ', '  better run independent lmao  ', '  damn it! ,  probably end taking votes away vermin supreme definitely year  ', '  well fortunately lot appearing presidential ballot declaring candidacy twitter. ,  kanye go sleep tonight happy attention gotten today, rest us go sleep knowing actually appear ballots anywhere.  ', '  like need another idiot office.  ', '  racist ignorant assume black people vote black face ballot. ,  really need check yourselves.  ', '  yeah hate  ', '  come pointless write-in votes  ', '  lol. ,  announcement age well jesus king.  ', '  hes said year half now. ,  clearly happening.  ', '  fuck  ', '  future first ladies keep getting trashier trashier  ', '  got vote o7  ', '  fucking guy.  ', '  go back ignoring kanye  ', '  somehow puts trump biden november, country deserves every shitty, stupid thing happens it.  ', '  guys promise even though kanye suggested months ago would still vote trump lot happened since plus ton evidence came might’ve faking support prison reform. ,  much doubt kanye hurting face order steal votes biden trump. ,  enough theory. ,  likely he’s album hype. ,  also needs realized politics complete shitshow.  ', '  no.  ', '  would 100% hand election trump. ,  cost trump zero voters cost biden enough matter. ,  huge vanity play going fuck minorities, marginalized, what’s left middle class american general public 4  years however many years take country recover.  ', '  successful bloomberg.  ', '  thank yeezus 🙏  ', '  yeah also biden best weapon get black vote : obama. ,  kanye west nothing compared obama comes popularity overall among african american voters.  ', '  appreciate fact doesn’t shock anyone? ,  like last year would’ve lost minds 2020 we’re like “yeah makes sense, it’s weird, whatever”  ', '  lmao. ,  know hard get ballot state independent candidate? ,  filing deadlines states already closing lot places. ,  methinks vanity project strategy organization it, probably real thing. ,  lol bye.  ', '  um way look would run trump... buddies anymore?  ', '  wants trump win insane reason.  ', '  president what?  ', '  no.  ', '  fuck shit. ,  trump high floor far base. ,  low 40’s. ,  take even couple points biden’s vote  write candidate battleground states seeing 4 years trump. ,  young people already enthused vote biden despicable.  ', '  say every presidential election?  ', '  looks like trump asked buddy favor.  ', '   got fucking kidding me.  ', '   removed   ', '  could, clear, talk this. ,  could engage particular tweet/story. ,  saying engage. ,  want to. ,  think people sometimes forget another option. ,  also, new yorker called it: https://twitter.com/newyorker/status/1279593485583159296  ', '   crickets chirping   ', '  want die.  ', '  get it, there’s next chance someone **isn’t** democrat republican would win american politics, kanye’s probably going either fail hard, give accolades look back on, likely subvert votes would’ve went joe biden / greens & libertarians, giving donald trump easier chance re-election. ,  really hope political system reform future give someone else chance, it’s already uphill battle you’d extremely wealthy hand “pocket” lobbyists / big $ order feasible chance early part race.  ', '  man looks like villains taking masks right now.  ', '  wish run green candidate. ,  people worried need understand running evangelical christian. ,  know take votes from. ,  might run right ronald reagan. ,  hell, could actually win!  ', '  bingo card really getting crowded point.  ', '  it’s 2020. ,  course  ', '  wait, get christian gop vote? ,  guy talking born christian, putting entire album jesus, white guy?  ', '  finally. ,  /s  ', '   ', '  signs end civilization. ,  sad see political discourse ruined degraded nonsense celebrities yet again.  ', '  huge kanye stan here. ,  man...  ', '  hard pass.  ', '  jesus walks, kanye runs. ,  #ye2020  ', '  anyone flirts idea kanye detract substantial amount black voters biden base, clearly black community.  ', '  somebody give pills.  ', '  /r/the_ye  ', '  dwayne mountain dew elizondo camacho 2020  ', '  king shit  ', '  wow. ,  way strip black american votes biden. ,  good job cunning republican strategists.  ', '  everyone saying splitting black vote, think actually gonna split shitposter vote. ,  feel like 40% trump voters would flip kanye musk  ', '  fucking idiot, must psych meds again.  ', '  god i’m ready timeline end. ,  honestly. ,  go 2021 done shit now?  ', '  or, watching cable news reading 4th july, reached singularity surreality?  ', '  fact people even little concerned really shows (justifiably) low opinion many american voters.  ', '  fuck kanye.  ', '  think reality tv entertainment disqualify one becoming president. ,  look misery “celebrities” brought country.  ', '  mad dash pull youth black vote away biden. ,  guy straight maga hat said slavery choice.  ', '  ...does really think divide black vote trump?  ', '  y’all could bernie get kanye ye2020  ', '  i’m voting kanye none mfers change mind  ', '  kanye obviously  feels *crazy* subgroup voters lack representation.  ', '  seems like ordered trump, would understand bad kanye hated black people last years.  ', '  go fuck yourself, 2020. ,  happening.  ', '  one man power. ,  warned us.  ', '  ok quality tweet kanye plans get ballot? ,  no? ,  thought  ', '  make america cray  ', '  yeezy preezy  ', '  oh great, lets 2 rich narcissistic celebrities running office time splitting vote better contender.  ', '  he’s trying sell album guys nice.  ', '  bizarre surreal elected him.  ', '  man said know dont like either choice  ', '  2020 rang, says half over.  ', '  gotta register vote 😳  ', '  fucking puke  ', '  sure helps hurts trump. ,  lots crazies would voted trump switch kanye, bet won’t make much difference.  ', '  gives shit, stop giving moron attention  ', '  never thought trump would win racist narcissist white house. ,  would never think kanye could win would bipolar narcissist white house. ,  wouldn’t long find he’s also racist end. ,  end times here.  ', '  much trump/gopers damaged country? ,  much  ', '  united states america meme  ', '  finally saviour arrived  ', '  it’s like haven’t learned anything past 4 years ignorant, inexperienced celebrity president country  ', '  might well get celebrities run. ,  hey, make tv show it. ,  beyonce, kanye, oprah, annoying asshole like gilbert gottfried, others. ,  judged wisconsin farmer.  ', '  elon wants trump win. ,  matter much philanthropist makes be, another rich asshole, rich assholes prospered trump massive tax cuts essentially free money government. ,  believe people narrow-minded stan posts memes watches pewdiepie.  ', '  > still better candidate trump. ,  probably worked plan together... running independent, vote vote taken away biden.  ', '  one hardcore narcissist shitty next.  ', '   deleted   ', '  i’m black, black person tell feel biden, specifically said “if don’t vote you’re black”?  ', '   removed   ', '  *black celebrity massive ego talking running president literally ever runs president*  ah yes, must white guy told  ', '  want keep higher earner corporate tax cuts  ', '  didn’t. ,  kanye 100% wants publicity new album tweets running president  ', '  well young vote. ,  absolute biggest worry.  ', '  won’t split narcissist vote hurt trump?  ', '  fucking hate timeline 2020.  ', '   deleted   ', '  kanye stopped supporting trump 2 years ago  ', '  like 30 rock jack hires tracy dissuade black voters.  ', '  anyone announce. ,  let see gets state ballots.  ', '  god fucking spare lol.  ', '  gambit material sacrificed positional advantage. ,  sacrifice here?  ', '  got new album dropping...  ', '  probably publicity stunt we’ll see far takes it. ,  wants get name media album might announce drop week. ,  course might actually long haul scarier.  ', '  you’re willing admit it? ,  sad.  ', '  stay drugs  ', '  fuck why? ,  another trump bootlicker burgeoise mf.  ', '  never gonna vote anyway. ,  don’t give good shit country.  ', '   deleted   ', '  >literally going waste vote  fify  ', '  too. ,  fuck 2020.  ', '  fuck. ,  goddamn. ,  wanna expatriate.  ', '  year summed sentence  ', '  125,000+ americans dead covid fucking idiot thinks perfect time run troll campaign would help continue distatorous administration. ,  fuck 2020  ', '  everything stake, love see televised debate trump kanye.  ', '  attempt split vote biden, right? ,  winner bolton, someone write trump biden :(  ', '  seen wife?  ', '  thank you. ,  thoughts exactly  ', '  always sucked.  ', '  miss old kanye, straight go kanye chop soul kanye, set goals kanye  ', '  yeah saying much tho... ,  take inanimate carbon rod donnie  ', '  cares, would entertaining president  ', '  likely.  ', '  40 year old hipsters listen gen-x crap. ,  kanye millennial phenomenon.  ', '  it’s designed way probably opposite lol  50 year black church-goers aren’t voting kanye biden. ,  black conservatives would vote trump would probably vote kanye tho.  ', '  time saddle michelle obama biden vp get shit show with.  ', '  vote trump.  ', '  things could correct. ,  wants vote trump *and* run siphon votes guarantee trump victory.  ', '  no. ,  said  know i\\\\ voting . ,  know anything kanye west, pretty clear saying plans voting kanye west  ', '   wow (https://youtu.be/chcuzo-o0to)  ', '  thinks beez right.  ', '  kim publicly said “pro-trump” get wrongfully prisoned inmates free.  ', '  sure isn’t joke?  ', '  trump isn’t boy. ,  revealed george floyd protests sucking trump get people prison shouldn’t there.  ', '  yep  active measures  ratfucking written  ', '  would minority voters simply vote kanye type voters?  ', '  think(big disclaimer there) kanye actually quoted saying wore maga hats way gain friendship trump used friendship free innocent black people jailed wrongful convictions.  ', '  jokes him, white people like stuff too.  ', '   deleted   ', '  stop liking him. ,  wants help trump trump corruptly help him.  ', '  kanye fucking idiot people stop paying attention him.  ', '  either way, dick move kanye.  ', '  lmao get out!  ', '  kanye campaign beautiful dark twisted fantasy.  ', '  likely even make ballot states, any. ,  doubt talked even next week.  ', '  requires media learned lesson 2016. ,  front pages tomorrow.  ', '  course is, hate democrats anyone  ', '  glee i’ve seen erupt timeline disgusting. ,  horseshoe theory fucking real  ', '  keep dreaming pal.  ', '  thank god.  ', '  learned jill stein last time, takes thousand votes handful states.  ', '  feel like people might dumb enough write  ', '  nonzero amount people still throw vote away write kanye, people places like wisconsin florida  ', '  makes say that? ,  seems like states require tens thousands signatures get ballot. ,  nothing rich crazy person can’t accomplish  ', '  thanks logic time. ,  nobody tell kanye.  ', '  black stands black life, trump supports.  ', '  wait, get christian gop vote? ,  guy talking born christian, putting entire album jesus, white guy?  ', '  know he’s maga, know values already.  ', '  vote kanye vote suicide  ', '  literally t.  ', '  wants help trump.  ', '  chop soul kayne, set goals kayne. ,  hate new kanye....  ', '  internet research agency calling people work early today, see  ', '  yeah terrible idea.  ', '  someone posting trump subreddits want pretend walking away biden?  ', '  entire reason it.  ', '  slightly understatement. ,  kanye broken beyond repair.  ', '  bipolar extreme.  ', '  said pretended like trump  get people prison.   ', '  everything said right. ,  approaching question serious winning. ,  not. ,  serious drawing votes biden help preferred candidate, trump. ,  actually even need ballot that. ,  get write-ins. ,  also get lot publicity, may ultimately use promote trump.  ', '  even so, really fucking irresponsible.  ', '  may end write candidate. ,  needs serious money organizing get signatures end ballot. ,  damn narcissistic thinks taken seriously.  ', '  last time ordered vermin supreme barely rat it. ,  disappointing, taco bell.  ', '  ironic considering joe biden said vp pick absolutely minority.  ', '  think serious either. ,  feasibly build organization rest states. ,  needs tens thousands workers. ,  spend ungodly sum money think stomach for. ,  going come pocket. ,  national committee help fundraise.  ', '  mentally ill. ,  which, list reasons trump supporter, logical one think of.  ', '  ~163 ec votes basically already play him. ,  impossible win.  ', '  heard gop thinks tucker carlson going run 2024?  ', '  figure that? ,  heard voter registration spikes arising protests.  ', '  there’s definitely going black turn biden trump. ,  one reasons democrats found biden nomination inciting african americans supported democratic candidate running (mostly obama’s vp)  ', '  younger ones us really enthused him. ,  parents grandparents adore  least experience. ,  fr none friends family thats age likes  ', '  lol. ,  saying biden racist face racist nationalist person ever elected office?  ', '  >black voters favor biden trump overwhelming margin (89% 7%). ,  per  pew research polling (https://www.pewresearch.org/politics/2020/06/30/publics-mood-turns-grim-trump-trails-biden-on-most-personal-traits-major-issues/)  ', '  jon must understand biden vp first ever african american us president. ,  well liked president that. ,  cannot get better endorsement obama trying secure black vote. ,  kanye musical genius also complete meme. ,  people understand easily impressionable teenagers poor people idolize wealthy rappers.  ', '  mean, late game, even get ballot every state?  ', '  pardon ignorance; could tell  hn   ut  stand for?  ', '   deleted   ', '  kanye’s lost lot goodwill past years. ,  want get back meds stop goddam crazy goddam time.  ', '  yeah feel like shaun king close hated.  ', '  what’s ut?  ', '  think tend underestimate amount politically uninformed voters (i talking everyone - black people). ,  australian, know tonnes people would vote someone like kanye funny joke, underestimate ability kanye take votes away dems.  ', '  acronyms went right head  ', '  except kanye loves trump, would reason run 2020?  ', '  recently stated support trump. ,  https://www.businessinsider.com/kanye-west-signals-hell-vote-for-donald-trump-in-2020-2020-4  ', '  normally agree sentiment kanye huge trump supporter exactly something trumps handlers (ie foreign actors) would suggest kanye  ', '  guy like 9 platinum albums row. ,  fact elon endorsed him, fuckery foot here.  ', '  said going run 2016 agree kanye known say wild things press right drops album shoes  ', '  kanye kanye. ,  need pull stunt like fake presidential run hype album. ,  arguably top 5 famous living artists world. ,  donald trump circa 2016 talking here.  ', '  last time someone ran 100% publicity ended president.  ', '   deleted   ', '  new album coming out? ,  feel much better another one obvious pr stunts new album. ,  im worried attempt gop buddy trump pull votes biden.  ', '   mean kanye went full maga (https://pbs.twimg.com/media/ecicquvuyaauw8t?format=jpg&name=small). ,  seems super transparent trying dilute biden numbers black people.  ', '  enough literal dumbasses voting harambe 2016. ,  gigantic loser move kanye.  ', '  may underhandedly racist comment read reddit.  ', '  get write-in candidate, need thousands signatures *each state* even qualify that.  ', '  sanity  ', '  rate? ,  yes.  ', '  stil think voting helps lol. ,  elite rich assholes.  ', '  even remotely racist? ,  ?  ', '  racist??? ,  wtf?? ,  ?  ', '  rather waste vote participate system built evil. ,  fuck yes, wont complacent give government vote. ,  fucking hate system everyone involved.  ', '  what? ,  fantastic news. ,  zero chance takes single vote biden.  ', '  looking back fondly 2019...  ', '  it’s publicity album don’t aneurism  ', '  bro biden win kanye runs good choice lol  ', '  incoherent vs incoherent.  ', '  course is. ,  chance wins late democrats accept replacing trump.  ', '  why, greater clown?  ', '  true  ', '  that’s exactly got us shit we’re right now.  ', '  it’s entertainment fucking clown. ,  it’s people lives. ,  go watch reality tv want entertained. ,  leave politics adults.  ', '  50 year old black voters remember families locked biden definitely voting  ', '  yeah... right. ,  responded, realized kanye wants steal votes biden throw election traitor chief  ', '  thinks wrong  ', '  bullshit guy went full maga. ,  come back full maga  ', '  sure, jan.  ', '  perhaps, point care much giving maga hat wearers benefit doubt.  ', '  fill  joke presidents  century.  ', '  worse joke. ,  fuck joke candidates, country burning time bullshit like this.  ', '  sure hope  ', '  lol mean kanye maga love fit moment pretended woke order make money protests.  ', '  got kanye?  ', '  really it’s young people might voted biden simply don’t like trump, write kanye’s name. ,  remember harambe?  ', '  point mainly young people don’t like trump might biden, write kanye’s name. ,  thus 4 years donnie  ', '  white conservatives still sticking trump still bad leftists  ', '  *really* hope comment doesn’t end /r/agedlikemilk year.  ', '  independent, deadline states sometime august require thousand signatures. ,  think could easily make ballot states really wanted to. ,  https://ballotpedia.org/ballot_access_for_presidential_candidates  ', '  thats becouse authoritarian current conservatives, realized yet  ', '  oh man sure tell one that, nothing pisses fact lol.  ', '  states make especially difficult independents without major minor party backing get ballot access, publicity stunt nothing  ', '   removed   ', '  filing deadline already passed many states, majority remaining filing deadlines coming due next 2-4 weeks. ,  kanye would collect tens thousands signatures states gain ballot access, less month it. ,  fucking publicity stunt.  ', '  actually no. ,  given gary johnson helped clinton least 4-5 states.  ', '  people would either vote trump, libertarians, fucking mickey mouse voting kanye, vote all. ,  black man voting kanye going voting democrat anyways. ,  going get fucking noi hotep vote nothing more.  ', '  think people voting biden anyway going come vote joke.  ', '  buy petition signatures like guys buy twitter ig followers  ', '  1) buy petition signatures, collect online, lengthy in-person process. ,  states mentioned require tens thousands certified signatures, require signatures people registered vote. ,  sorry, see happening states. ,  2) fuck going switch votes biden kanye? ,  nobody, he\\\\ going  take votes  anyone except maybe tiny percentage trump-supporting black men.  ', '  stand black lives. ,  stands divide black folk allow white supremacists win, white supremacists love black folk sing dance.  ', '  done black lives recent president. ,  historic black colleges, opportunity zones, criminal reform, record low unemployment.  ', '  white guy, course.  ', '  white dude lol  ', '  agree  ', '  kanye donated democrats last election. ,  research. ,  used trump free innocent black people prison  ', '  friends stick together.  ', '  kanye isn’t career politician like biden. ,  rather him. ,  half people don’t even like biden, he’s alright. ,  kanye special. ,  can’t stop youth. ,  kanye 2020 baby    think reasons cuz there’s plenty. ,  abroad train kanye 2020. ,  edit: lots boomers lol. ,  kanye 2020  ', '  trump biden. ,  friends biden fans kanye ran. ,  something came together upon. ,  kanye 2020, love sides. ,  announced it’s something everybody support re-unite sides political spectrum  ', '  fuck him.  ', '  well i’m medically trained make diagnosis i’ll take onboard. ,  wonder random character run next land free. ,  really hope guys vote kermit frog. ,  ☕️  ', '  shame. ,  bipolar difficult illness live best days.  ', '  says lot shit.  ', '  stream consciousness rant oval...that next level cray.  ', '  didn’t act like pretending gave full interview detailing struggles trump supporter. ,  https://youtu.be/rzxpjcwqyig  final minute best part.  ', '  hear saying, agree would necessarily trying win. ,  however, write-in campaigns pretty much useless, long ballots, damage could would limited. ,  bigger deal serious getting ballot gop tries help ratfuck democrats.  ', '  billionaire...  ', '  ....and every fucking one women mentioned accomplished qualified. ,  ironic attempt making point obviously perceive clever clearly outs one people needs check themselves.  ', '  told, please correct wrong, older members black community secured comfortable lifestyle essentially integrated status quo.  ', '  i’m not, isn’t like biden racist either  ', '  trump voters seemingly surprised  djt father racially profiled tenants?  ', '  mhmm underestimate american populace. ,  campaigns inner cities brings biden crime bill stance segregation, damage.  ', '  “he’s jackass,” - president barack obama 2009  ', '  fair, trump understands little black voters. ,  they’re base.  ', '  mean, complete meme doesnt hurt run prez nowadays  ', '  incomplete meme.  ', '  larger ones could would cost $20-30 signature point.  ', '  unfortunately think so. ,  filing deadline independent candidates later candidates  https://ballotpedia.org/deadline_to_run_for_president#independent_candidates  ', '  uncle house, hth  ', '  german know  diversity  black community america? ,  pray tell  quoted diversity you\\\\ obviously using bad faith  sides  w/e want bullshit  ', '  stop trying control kanye  ', '  why’d jump immediately white guy told run?  ', '  kanye hasn’t loved trump while. ,  latest song released isn’t pro-trump. ,  don’t think it’s trump ploy, it’s likely ego thing.  ', '  doesn’t really...at least don’t *think* point...  ', '  well i’m obviously gonna push back idea kanye wouldn’t attention ego lol anyone knows ye knows exactly shit. ,  knew pro trump shit nothing else you’d opinion  ', '  elon always joking around twitter. ,  kanye always saying something something outrageous album drop. ,  really isn’t deep yet it’s got people losing shit acting like black people vote whoever skin colour look candidates first.  ', '  cares attention anything. ,  don\\\\ doubt may also want help trump get elected though, especially elon\\\\  take red pill  nonsense. ,  shame even conversation.  ', '  always bunch extra shit lol, that’s kanye. ,  technically doesn’t need anything get shitload attention. ,  cos he’s kanye  ', '  kanye always says something crazy get publicity album drop. ,  don’t seem know well someone claims “kanye kanye”  ', '  it’s completely different. ,  1. ,  actually running would different trump wouldn’t two big parties. ,  2. ,  isn’t actually running tweet gain media attention album drop.  ', '  trump ran major party nomination. ,  obtuse.  ', '  it’s completely different. ,  1. ,  \\\\u2060if actually running would different trump wouldn’t two big parties. ,  2. ,  \\\\u2060he isn’t actually running tweet gain media attention album drop.  ', '  yeah does. ,  wouldn’t worry isn’t going end running. ,  don’t think friendly trump anymore listen latest sing it’s something trump would like.  ', '  want make bet kanye actually running president?  ', '  yes. ,  do. ,  it’s got.  ', '  /s  ', '  fucking trainwreck  ', '  zero chance runs it’s publicity new album every time honest wouldn’t cause dummys like always make work.  ', '  kanye like many black folk socially conservative biden.  ', '  sorry think 2020 presidential election fucking joke musician troll way sell albums. ,  getting trump office way important bullshit like this.  ', '  hobbit.  ', '  yes.  ', '  puts in. ,  yes.  ', '  i’m 18 adult, friends college kids voting him. ,  kanye2020  ', '  hopes another clown looking spotlight moved face wife ass. ,  me.  ', '  didn’t  ', '  hard believe celebrity who’s professional wrestler could involved kayfabe? ,  kanye playing character. ,  don’t believe watch smaller scale interviews. ,  he’s competent perceptive hell.  ', '  lol tens millions dollars debt recently last year? ,  mind boggles thats sure  ', '  mentally ill. kompromat required.  ', '   deleted   ', '  yes thats terrifying. ,  i’m american sad innocent people going die things get better there. ,  also hopeful things inevitably get better there. ,  forests grow back healthier, lush fire; america see growth humanity fires burn out.  ', '  good news reality amount people like dsa twitter far  ', '  trumps candidacy, look got us.  ', '  thought trump publicly stunt.  ', '  seems nice democratic  ', '  well true all.  ', '  looks like  6 states (https://ballotpedia.org/deadline_to_run_for_president) deadline already passed.  ', '  wow wait know that. ,  mean traitor black people. ,  people still buying songs then!! ,  !  ', '  literally sent goerge floyds daughter college marched streets. ,  appointed black woman design director new clothing brand. ,  talks limiting black black crime time. ,  stop trying paint kanye someone doesnt care black people  ', '  >record low unemployment. ,  lmao know high unemployment now? ,  come time capsule?  ', '  guys suggested stand black lives. ,  would great things said. ,  wanted divide black people allow white supremacists win, would circumstance kanye good deeds suggested.  ', '  spouting worst fucking takes today.  ', '  seen career politician oval office like. ,  want normalcy.  ', '  ah yes, career politicians president, go surgery insist procedure done janitor front desk receptionist  fuck  ', '  quite people like biden actually. ,  seen pandemic politics career -- trump impotent leader one be, clear inexperience preventing administration effective.  ', '  publicity stunt going reunite anything.  ', '  baby yoda/bob ross painting 2024  ', '  like saying running president.  ', '  out... he’s dropping new album soon wants get major attention.  ', '  really don’t want entertain idea kanye running, run write-in campaign, needs take away votes select states dramatically shift race trump. ,  points away biden cost election.  ', '  yes much cash easily liquidated? ,  ross perot spent insane amounts money bid presidency. ,  easy run campaign. ,  need people, offices whole organization. ,  kanye already shot foot wearing maga hat meeting trump. ,  serious would imagine get blitzed ads showing photo over. ,  kanye hyping stupid album.  ', '  comical considering joe lead intent pick qualified vp. ,  instead opted virtue signal sate base stating vp would fact minority., seems would joe biden needs check based standard.  ', '  think giving super eloquent convincing stump speeches populations actually vote? ,  black people overwhelmingly supported biden primaries despite things beaten death. ,  reason believe change. ,  older black people also biggest bloc support actually vote; fairly obvious switching vote biden.  ', '  hell mixed message would though. ,  wanted segregation endorsed crime bill, running platform reform police served directly first black us president. ,  something damning antiquated bills stances kanye wants damage.  ', '  answer made even less sense  ', '  public knowledge kanye visited white house meet trump meeting amicable. ,  time met. ,  simple  white guy told  like you\\\\ insinuating. ,  would definitely support trump kanye enter race, unlikely would be.  ', '  poster linked article probably typing. ,  kinda looks like still   https://www.businessinsider.com/kanye-west-signals-hell-vote-for-donald-trump-in-2020-2020-4  ', '  real feelings he’s fucking crazy. ,  meds crazy. ,  won’t many states ballots, it’s late game. ,  side note: i’m done elon musk too, he’s fucking crazy kanye.  ', '  what? ,  call me?  ', '  no, saying sure wrong. ,  plausible explanations, outside yeezy team know true motivation.  ', '  no. ,  not. ,  exist incredibly large amounts. ,  even voting sake, voting doesnt motivate people. ,  picking lesser two evils isnt true choice. ,  refuse vote trump biden. ,  literally enable system sucks much voting less evil. ,  based know. ,  fucking insane moment remind people bound choice absolutely choice. ,  concept giving child two choices damn well knowing choices guarentee will. ,  it\\\\ political equivalent  yes . ,  sorry wont slave fucking system. ,  matter hard fucks me. ,  #kyane2020  ', '  nobody two brain cells rub together wasting vote write-in candidate, even get enough signatures.  ', '  won’t end running album drops tweet forgotten about. ,  going end disappointed electing joe fucking biden doesn’t magically save world.  ', '  jelly monster  ', '  18... big shocker. ,  18 voted bush jr. i’ve since pulled head ass, hope friends.  ', '  voting keep trump wh then. ,  kanye 0% chance winning, pulling votes biden help trump  voting want equal vote trump  makes trump supporter  ', '  wrong. ,  part album rollout  ', '  trump ran major party nomination. ,  obtuse.  ', '  trump ran major party nomination. ,  obtuse.  ', '  undemocratic someone collect petition voter signatures run office? ,  isn\\\\  democratic  definition?  ', '  say kanye 2020 prove arent racist  ', '  37 states filing deadline july august.  ', '  know traitor. ,  white man could harm black people, would wrong despite black. ,  word traitor apply. ,  would using popularity take away votes serious candidacy, one 2020.  ', '  >why people still buying songs then!!! ,  kanye makes decent music kanye make decent human.  ', '  18 year olds affected another trump term  ', '  nasopharyngeal swab senate 2022  ', '  looking possible impact could serious. ,  record, think all.  ', '  trump 77,000 votes 3 states. ,  margins matter. ,  even chops 1-2% help win electoral college. ,  also, runs m4a & free college platform get progressives. ,  yes black people vote black people. ,  knew people voted obama 2008 black. ,  also knew people voted hillary wanted see 1st woman president.  ', '  god new york, you’re fucking sheltered can’t work means.  ', '  poster meant  house n-word   uncle t*m   say words sure get caught auto-ban filter.  ', '  racial slurs  ', '  maybe true. ,  maybe not. ,  treat kanye mind case-to-case situation, mind change lot. ,  &#x200b;    https://www.okayplayer.com/music/kanye-west-make-america-great-again-hat-glc-the-red-pill-podcast-with-van-lathan.html (https://www.okayplayer.com/music/kanye-west-make-america-great-again-hat-glc-the-red-pill-podcast-with-van-lathan.html)  ', '  won’t even run album drops forgotten tweeted  ', '  lol imagine labeling every person crazy differing views, especially they;re ultra successful. ,  youre crazy one bro  ', '  don’t think even knows true motivations tbh  ', '  know people said exact shit trump right? ,  fuck joke candidates, times serious this.  ', '  always people higher/upper class write throwaway candidates?  ', '  absolutely not.  ', '  hope right man.  ', '  know kanye isn’t going big two parties run (which isn’t) would completely different trump. ,  times serious? ,  one can’t wait trump lose nothing change expect maybe reddit news page isn’t filled stuff trump.  ', '   ']\n"
     ]
    }
   ],
   "source": [
    "stop = stopwords.words('english')\n",
    "temp = []\n",
    "for element in stop:\n",
    "    temp.append(\" \" + element + \" \")\n",
    "#     print(element)\n",
    "# print(stop)\n",
    "stop = temp\n",
    "print(stop)\n",
    "\n",
    "#custom\n",
    "Remove= [' and ',' the ',' is ',' this ',' a ', '\\n', '[', ']', \"'\", \"\\\\n\", '\"']\n",
    "Remove= Remove + stop\n",
    "\n",
    "data = pd.read_csv('reddit.csv', error_bad_lines=False);\n",
    "# We only need the Headlines text column from the data\n",
    "\n",
    "# data_text['index'] = data_text.index\n",
    "data_text = []\n",
    "for key, value in data[['text']].T.to_dict().items():\n",
    "    value['text'] = value['text'].lower()\n",
    "    \n",
    "    for rep in Remove:\n",
    "        value['text']=value['text'].replace(rep, \" \")\n",
    "        \n",
    "    if len(value['text']) <=512:\n",
    "        data_text.append(value['text'])\n",
    "\n",
    "# for element in data_text:\n",
    "#     for thing in Remove:\n",
    "#         element = element.replace(thing,\"\")\n",
    "\n",
    "\n",
    "\n",
    "# data = data_text..tolist()\n",
    "# data = data.replace(\"\\n\",\" \")\n",
    "# data = data.replace(\"[\",\" \")\n",
    "# \n",
    "# data = data.replace(\"]\",\" \")\n",
    "# data = data.replace(\"]\",\" \")\n",
    "# data = data.apply(lambda x: [item for item in x if item not in stop])\n",
    "# data = data.apply(lambda x: [item for item in x if item not in Remove])\n",
    "# data = data.replace(Remove,\"\")\n",
    "\n",
    "# print (data)\n",
    "print(data_text)\n",
    "\n",
    "\n",
    "\n"
   ]
  },
  {
   "cell_type": "code",
   "execution_count": 6,
   "metadata": {
    "collapsed": true
   },
   "outputs": [],
   "source": [
    "# print(stop)\n"
   ]
  },
  {
   "cell_type": "code",
   "execution_count": 7,
   "metadata": {
    "collapsed": true
   },
   "outputs": [],
   "source": [
    "\n",
    "\n",
    "# data['text']\n",
    "# temp = [] \n",
    "# for key, value in data.T.to_dict().items():\n",
    "# #     print(element)\n",
    "#     if len(value['text']) <= 512:\n",
    "#         temp.append(value)\n",
    "    \n",
    "# temp\n",
    "\n",
    "with open(\"RedditText.txt\", \"w\") as output:\n",
    "    for element in data_text:\n",
    "        output.write(element + \"\\n\")\n"
   ]
  },
  {
   "cell_type": "code",
   "execution_count": 8,
   "metadata": {},
   "outputs": [
    {
     "name": "stdout",
     "output_type": "stream",
     "text": [
      "1\n",
      "  reality tv gone far.  \n",
      "  endorsed elon! ,  .. funny!  \n",
      "   deleted   \n",
      "  trump 100% told to sway black vote biden  \n",
      "   distraction (https://hips.hearstapps.com/hmg-prod.s3.amazonaws.com/images/president-elect-donald-trump-and-kanye-west-stand-together-news-photo-1586966279.jpg?resize=768:*)  \n",
      "  everyone laughing like everyone laughed trump first announced  \n",
      "  what’s gambit? ,  water young black vote biden?  \n",
      "  another loser wants trump publicity stunt. ,  prior album release.  \n",
      "  literally going go way vote him.  \n",
      "  hero need!  \n",
      "  hate year.  \n",
      "  kanye great he’s clown  \n",
      "  shit. ,  imagine kanye president..  i’ll take trump.  \n",
      "  fuck point. ,  also fuck kardashians.  \n",
      "  well stole 40 year old white hipster vote biden.  \n",
      "  entirely designed draw black vote young vote away biden help trump.  \n",
      "  say voting traitor-in-chief. ,   kanye west signals vote donald trump 2020:  know voting  (https://www.businessinsider.com/kanye-west-signals-hell-vote-for-donald-trump-in-2020-2020-4)  \n",
      "  cynical ploy hopes pulling minority votes democrats help boy trump? ,  thinks so.  \n",
      "  seems like worst time something like this. ,  best it’s extremely short-sighted kanye, worst pro-trump play take biden’s african-american voters. ,  really fan like kanye  \n",
      "  call late registration  \n",
      "  great another hollywood rich guy thinks qualified lead country. ,  considering entered race 4ish months election clearly serious becoming president.  \n",
      "  gonna fuck biden. ,  hate kanye even now.  \n",
      "  timeline? ,  act like didn’t happen completely ignore it?  \n",
      "  🌹 twitter’s new favorite candidate 🙄🙄  \n",
      "  *you know kaitlin jenner going vp. ,  *  \n",
      "  least means matter biden isn’t getting elected🤷🏽\\u200d♂️  \n",
      "  i’m curious see news handles this. ,  blew trying properly cover celebrity politics 2016 trump, i’m interested see learned anything time around  \n",
      "  gonna ballot states, even serious.  \n",
      "  troll?  \n",
      "  absolute moron.  \n",
      "  vote kanye vote trump.  \n",
      "  always stupid shit attention.  \n",
      "  miss old kanye.....  \n",
      "  i’m voting kanye biden let’s gooo. ,  found friends group chat, everybody hyped now. ,  many go vote kanye biden!  \n",
      "  *this* close fucking give timeline. ,  thankfully, go anywhere.  \n",
      "  fucking moron.  \n",
      "  ah, finally check something 2020 bingo card  \n",
      "  joke, right? ,  swear takes votes away biden get 4 years shitshow!  \n",
      "  isn’t kanye still slightly mentally ill? ,  matter trump voted clearly 100% visibly mentally unstable, maybe even mentioned prior getting office way campaign.  \n",
      "  think till august run third party candidate? ,  yeah isn’t distraction 🤦\\u200d♂️  \n",
      "  things kanye needs lot meds ever elusive humility.  \n",
      "  maybe marry another kardashian,why  \n",
      "  gave country benefit doubt. ,  2020 changed that. ,  genuinely hate country now. ,  joke.  \n",
      "  like kanye, ridiculous. ,  don’t want anybody else diverting votes people really take charge office  \n",
      "  kanye trump fan. ,  intended help trump. ,  people absolutely waste votes kanye west. ,  many young minority voters make difference.  \n",
      "  america world come  \n",
      "  bad idea. ,  country doesn’t want third party let alone third party candidate.  \n",
      "  even serious, highly, highly doubt, pretty much time. ,  try put together whole campaign quick try get ballots, passed to. ,  unless willing spend bloomberg-type money right now, publicity stunt. ,   see filing dates ballot, scroll  independent candidates. ,    (https://ballotpedia.org/important_dates_in_the_2020_presidential_race) deadline already passed nc, tx, ny, nm, me, in. ,  mi, ok, sc, fl close less 2 weeks. ,  163 ev already table states mostly close august.  \n",
      "  needs signatures every state get ballot certain dates. ,  doubt organization people collect signatures every state. ,  think publicity stunt next album release.  \n",
      "  pretty obvious (and desperate) ploy negate biden’s black vote.  \n",
      "  better run independent lmao  \n",
      "  damn it! ,  probably end taking votes away vermin supreme definitely year  \n",
      "  well fortunately lot appearing presidential ballot declaring candidacy twitter. ,  kanye go sleep tonight happy attention gotten today, rest us go sleep knowing actually appear ballots anywhere.  \n",
      "  like need another idiot office.  \n",
      "  racist ignorant assume black people vote black face ballot. ,  really need check yourselves.  \n",
      "  yeah hate  \n",
      "  come pointless write-in votes  \n",
      "  lol. ,  announcement age well jesus king.  \n",
      "  hes said year half now. ,  clearly happening.  \n",
      "  fuck  \n",
      "  future first ladies keep getting trashier trashier  \n",
      "  got vote o7  \n",
      "  fucking guy.  \n",
      "  go back ignoring kanye  \n",
      "  somehow puts trump biden november, country deserves every shitty, stupid thing happens it.  \n",
      "  guys promise even though kanye suggested months ago would still vote trump lot happened since plus ton evidence came might’ve faking support prison reform. ,  much doubt kanye hurting face order steal votes biden trump. ,  enough theory. ,  likely he’s album hype. ,  also needs realized politics complete shitshow.  \n",
      "  no.  \n",
      "  would 100% hand election trump. ,  cost trump zero voters cost biden enough matter. ,  huge vanity play going fuck minorities, marginalized, what’s left middle class american general public 4  years however many years take country recover.  \n",
      "  successful bloomberg.  \n",
      "  thank yeezus 🙏  \n",
      "  yeah also biden best weapon get black vote : obama. ,  kanye west nothing compared obama comes popularity overall among african american voters.  \n",
      "  appreciate fact doesn’t shock anyone? ,  like last year would’ve lost minds 2020 we’re like “yeah makes sense, it’s weird, whatever”  \n",
      "  lmao. ,  know hard get ballot state independent candidate? ,  filing deadlines states already closing lot places. ,  methinks vanity project strategy organization it, probably real thing. ,  lol bye.  \n",
      "  um way look would run trump... buddies anymore?  \n",
      "  wants trump win insane reason.  \n",
      "  president what?  \n",
      "  no.  \n",
      "  fuck shit. ,  trump high floor far base. ,  low 40’s. ,  take even couple points biden’s vote  write candidate battleground states seeing 4 years trump. ,  young people already enthused vote biden despicable.  \n",
      "  say every presidential election?  \n",
      "  looks like trump asked buddy favor.  \n",
      "   got fucking kidding me.  \n",
      "   removed   \n",
      "  could, clear, talk this. ,  could engage particular tweet/story. ,  saying engage. ,  want to. ,  think people sometimes forget another option. ,  also, new yorker called it: https://twitter.com/newyorker/status/1279593485583159296  \n",
      "   crickets chirping   \n",
      "  want die.  \n",
      "  get it, there’s next chance someone **isn’t** democrat republican would win american politics, kanye’s probably going either fail hard, give accolades look back on, likely subvert votes would’ve went joe biden / greens & libertarians, giving donald trump easier chance re-election. ,  really hope political system reform future give someone else chance, it’s already uphill battle you’d extremely wealthy hand “pocket” lobbyists / big $ order feasible chance early part race.  \n",
      "  man looks like villains taking masks right now.  \n",
      "  wish run green candidate. ,  people worried need understand running evangelical christian. ,  know take votes from. ,  might run right ronald reagan. ,  hell, could actually win!  \n",
      "  bingo card really getting crowded point.  \n",
      "  it’s 2020. ,  course  \n",
      "  wait, get christian gop vote? ,  guy talking born christian, putting entire album jesus, white guy?  \n",
      "  finally. ,  /s  \n",
      "   \n",
      "  signs end civilization. ,  sad see political discourse ruined degraded nonsense celebrities yet again.  \n",
      "  huge kanye stan here. ,  man...  \n",
      "  hard pass.  \n",
      "  jesus walks, kanye runs. ,  #ye2020  \n",
      "  anyone flirts idea kanye detract substantial amount black voters biden base, clearly black community.  \n",
      "  somebody give pills.  \n",
      "  /r/the_ye  \n",
      "  dwayne mountain dew elizondo camacho 2020  \n",
      "  king shit  \n",
      "  wow. ,  way strip black american votes biden. ,  good job cunning republican strategists.  \n",
      "  everyone saying splitting black vote, think actually gonna split shitposter vote. ,  feel like 40% trump voters would flip kanye musk  \n",
      "  fucking idiot, must psych meds again.  \n",
      "  god i’m ready timeline end. ,  honestly. ,  go 2021 done shit now?  \n",
      "  or, watching cable news reading 4th july, reached singularity surreality?  \n",
      "  fact people even little concerned really shows (justifiably) low opinion many american voters.  \n",
      "  fuck kanye.  \n",
      "  think reality tv entertainment disqualify one becoming president. ,  look misery “celebrities” brought country.  \n",
      "  mad dash pull youth black vote away biden. ,  guy straight maga hat said slavery choice.  \n",
      "  ...does really think divide black vote trump?  \n",
      "  y’all could bernie get kanye ye2020  \n",
      "  i’m voting kanye none mfers change mind  \n",
      "  kanye obviously  feels *crazy* subgroup voters lack representation.  \n",
      "  seems like ordered trump, would understand bad kanye hated black people last years.  \n",
      "  go fuck yourself, 2020. ,  happening.  \n",
      "  one man power. ,  warned us.  \n",
      "  ok quality tweet kanye plans get ballot? ,  no? ,  thought  \n",
      "  make america cray  \n",
      "  yeezy preezy  \n",
      "  oh great, lets 2 rich narcissistic celebrities running office time splitting vote better contender.  \n",
      "  he’s trying sell album guys nice.  \n",
      "  bizarre surreal elected him.  \n",
      "  man said know dont like either choice  \n",
      "  2020 rang, says half over.  \n",
      "  gotta register vote 😳  \n",
      "  fucking puke  \n",
      "  sure helps hurts trump. ,  lots crazies would voted trump switch kanye, bet won’t make much difference.  \n",
      "  gives shit, stop giving moron attention  \n",
      "  never thought trump would win racist narcissist white house. ,  would never think kanye could win would bipolar narcissist white house. ,  wouldn’t long find he’s also racist end. ,  end times here.  \n",
      "  much trump/gopers damaged country? ,  much  \n",
      "  united states america meme  \n",
      "  finally saviour arrived  \n",
      "  it’s like haven’t learned anything past 4 years ignorant, inexperienced celebrity president country  \n",
      "  might well get celebrities run. ,  hey, make tv show it. ,  beyonce, kanye, oprah, annoying asshole like gilbert gottfried, others. ,  judged wisconsin farmer.  \n",
      "  elon wants trump win. ,  matter much philanthropist makes be, another rich asshole, rich assholes prospered trump massive tax cuts essentially free money government. ,  believe people narrow-minded stan posts memes watches pewdiepie.  \n",
      "  > still better candidate trump. ,  probably worked plan together... running independent, vote vote taken away biden.  \n",
      "  one hardcore narcissist shitty next.  \n",
      "   deleted   \n",
      "  i’m black, black person tell feel biden, specifically said “if don’t vote you’re black”?  \n",
      "   removed   \n",
      "  *black celebrity massive ego talking running president literally ever runs president*  ah yes, must white guy told  \n",
      "  want keep higher earner corporate tax cuts  \n",
      "  didn’t. ,  kanye 100% wants publicity new album tweets running president  \n",
      "  well young vote. ,  absolute biggest worry.  \n",
      "  won’t split narcissist vote hurt trump?  \n",
      "  fucking hate timeline 2020.  \n",
      "   deleted   \n",
      "  kanye stopped supporting trump 2 years ago  \n",
      "  like 30 rock jack hires tracy dissuade black voters.  \n",
      "  anyone announce. ,  let see gets state ballots.  \n",
      "  god fucking spare lol.  \n",
      "  gambit material sacrificed positional advantage. ,  sacrifice here?  \n",
      "  got new album dropping...  \n",
      "  probably publicity stunt we’ll see far takes it. ,  wants get name media album might announce drop week. ,  course might actually long haul scarier.  \n",
      "  you’re willing admit it? ,  sad.  \n",
      "  stay drugs  \n",
      "  fuck why? ,  another trump bootlicker burgeoise mf.  \n",
      "  never gonna vote anyway. ,  don’t give good shit country.  \n",
      "   deleted   \n",
      "  >literally going waste vote  fify  \n",
      "  too. ,  fuck 2020.  \n",
      "  fuck. ,  goddamn. ,  wanna expatriate.  \n",
      "  year summed sentence  \n",
      "  125,000+ americans dead covid fucking idiot thinks perfect time run troll campaign would help continue distatorous administration. ,  fuck 2020  \n",
      "  everything stake, love see televised debate trump kanye.  \n",
      "  attempt split vote biden, right? ,  winner bolton, someone write trump biden :(  \n",
      "  seen wife?  \n",
      "  thank you. ,  thoughts exactly  \n",
      "  always sucked.  \n",
      "  miss old kanye, straight go kanye chop soul kanye, set goals kanye  \n",
      "  yeah saying much tho... ,  take inanimate carbon rod donnie  \n",
      "  cares, would entertaining president  \n",
      "  likely.  \n",
      "  40 year old hipsters listen gen-x crap. ,  kanye millennial phenomenon.  \n",
      "  it’s designed way probably opposite lol  50 year black church-goers aren’t voting kanye biden. ,  black conservatives would vote trump would probably vote kanye tho.  \n",
      "  time saddle michelle obama biden vp get shit show with.  \n",
      "  vote trump.  \n",
      "  things could correct. ,  wants vote trump *and* run siphon votes guarantee trump victory.  \n",
      "  no. ,  said  know i\\ voting . ,  know anything kanye west, pretty clear saying plans voting kanye west  \n",
      "   wow (https://youtu.be/chcuzo-o0to)  \n",
      "  thinks beez right.  \n",
      "  kim publicly said “pro-trump” get wrongfully prisoned inmates free.  \n",
      "  sure isn’t joke?  \n",
      "  trump isn’t boy. ,  revealed george floyd protests sucking trump get people prison shouldn’t there.  \n",
      "  yep  active measures  ratfucking written  \n",
      "  would minority voters simply vote kanye type voters?  \n",
      "  think(big disclaimer there) kanye actually quoted saying wore maga hats way gain friendship trump used friendship free innocent black people jailed wrongful convictions.  \n",
      "  jokes him, white people like stuff too.  \n",
      "   deleted   \n",
      "  stop liking him. ,  wants help trump trump corruptly help him.  \n",
      "  kanye fucking idiot people stop paying attention him.  \n",
      "  either way, dick move kanye.  \n",
      "  lmao get out!  \n",
      "  kanye campaign beautiful dark twisted fantasy.  \n",
      "  likely even make ballot states, any. ,  doubt talked even next week.  \n",
      "  requires media learned lesson 2016. ,  front pages tomorrow.  \n",
      "  course is, hate democrats anyone  \n",
      "  glee i’ve seen erupt timeline disgusting. ,  horseshoe theory fucking real  \n",
      "  keep dreaming pal.  \n",
      "  thank god.  \n",
      "  learned jill stein last time, takes thousand votes handful states.  \n",
      "  feel like people might dumb enough write  \n",
      "  nonzero amount people still throw vote away write kanye, people places like wisconsin florida  \n",
      "  makes say that? ,  seems like states require tens thousands signatures get ballot. ,  nothing rich crazy person can’t accomplish  \n",
      "  thanks logic time. ,  nobody tell kanye.  \n",
      "  black stands black life, trump supports.  \n",
      "  wait, get christian gop vote? ,  guy talking born christian, putting entire album jesus, white guy?  \n",
      "  know he’s maga, know values already.  \n",
      "  vote kanye vote suicide  \n",
      "  literally t.  \n",
      "  wants help trump.  \n",
      "  chop soul kayne, set goals kayne. ,  hate new kanye....  \n",
      "  internet research agency calling people work early today, see  \n",
      "  yeah terrible idea.  \n",
      "  someone posting trump subreddits want pretend walking away biden?  \n",
      "  entire reason it.  \n",
      "  slightly understatement. ,  kanye broken beyond repair.  \n",
      "  bipolar extreme.  \n",
      "  said pretended like trump  get people prison.   \n",
      "  everything said right. ,  approaching question serious winning. ,  not. ,  serious drawing votes biden help preferred candidate, trump. ,  actually even need ballot that. ,  get write-ins. ,  also get lot publicity, may ultimately use promote trump.  \n",
      "  even so, really fucking irresponsible.  \n",
      "  may end write candidate. ,  needs serious money organizing get signatures end ballot. ,  damn narcissistic thinks taken seriously.  \n",
      "  last time ordered vermin supreme barely rat it. ,  disappointing, taco bell.  \n",
      "  ironic considering joe biden said vp pick absolutely minority.  \n",
      "  think serious either. ,  feasibly build organization rest states. ,  needs tens thousands workers. ,  spend ungodly sum money think stomach for. ,  going come pocket. ,  national committee help fundraise.  \n",
      "  mentally ill. ,  which, list reasons trump supporter, logical one think of.  \n",
      "  ~163 ec votes basically already play him. ,  impossible win.  \n",
      "  heard gop thinks tucker carlson going run 2024?  \n",
      "  figure that? ,  heard voter registration spikes arising protests.  \n",
      "  there’s definitely going black turn biden trump. ,  one reasons democrats found biden nomination inciting african americans supported democratic candidate running (mostly obama’s vp)  \n",
      "  younger ones us really enthused him. ,  parents grandparents adore  least experience. ,  fr none friends family thats age likes  \n",
      "  lol. ,  saying biden racist face racist nationalist person ever elected office?  \n",
      "  >black voters favor biden trump overwhelming margin (89% 7%). ,  per  pew research polling (https://www.pewresearch.org/politics/2020/06/30/publics-mood-turns-grim-trump-trails-biden-on-most-personal-traits-major-issues/)  \n",
      "  jon must understand biden vp first ever african american us president. ,  well liked president that. ,  cannot get better endorsement obama trying secure black vote. ,  kanye musical genius also complete meme. ,  people understand easily impressionable teenagers poor people idolize wealthy rappers.  \n",
      "  mean, late game, even get ballot every state?  \n",
      "  pardon ignorance; could tell  hn   ut  stand for?  \n",
      "   deleted   \n",
      "  kanye’s lost lot goodwill past years. ,  want get back meds stop goddam crazy goddam time.  \n",
      "  yeah feel like shaun king close hated.  \n",
      "  what’s ut?  \n",
      "  think tend underestimate amount politically uninformed voters (i talking everyone - black people). ,  australian, know tonnes people would vote someone like kanye funny joke, underestimate ability kanye take votes away dems.  \n",
      "  acronyms went right head  \n",
      "  except kanye loves trump, would reason run 2020?  \n",
      "  recently stated support trump. ,  https://www.businessinsider.com/kanye-west-signals-hell-vote-for-donald-trump-in-2020-2020-4  \n",
      "  normally agree sentiment kanye huge trump supporter exactly something trumps handlers (ie foreign actors) would suggest kanye  \n",
      "  guy like 9 platinum albums row. ,  fact elon endorsed him, fuckery foot here.  \n",
      "  said going run 2016 agree kanye known say wild things press right drops album shoes  \n",
      "  kanye kanye. ,  need pull stunt like fake presidential run hype album. ,  arguably top 5 famous living artists world. ,  donald trump circa 2016 talking here.  \n",
      "  last time someone ran 100% publicity ended president.  \n",
      "   deleted   \n",
      "  new album coming out? ,  feel much better another one obvious pr stunts new album. ,  im worried attempt gop buddy trump pull votes biden.  \n",
      "   mean kanye went full maga (https://pbs.twimg.com/media/ecicquvuyaauw8t?format=jpg&name=small). ,  seems super transparent trying dilute biden numbers black people.  \n",
      "  enough literal dumbasses voting harambe 2016. ,  gigantic loser move kanye.  \n",
      "  may underhandedly racist comment read reddit.  \n",
      "  get write-in candidate, need thousands signatures *each state* even qualify that.  \n",
      "  sanity  \n",
      "  rate? ,  yes.  \n",
      "  stil think voting helps lol. ,  elite rich assholes.  \n",
      "  even remotely racist? ,  ?  \n",
      "  racist??? ,  wtf?? ,  ?  \n",
      "  rather waste vote participate system built evil. ,  fuck yes, wont complacent give government vote. ,  fucking hate system everyone involved.  \n",
      "  what? ,  fantastic news. ,  zero chance takes single vote biden.  \n",
      "  looking back fondly 2019...  \n",
      "  it’s publicity album don’t aneurism  \n",
      "  bro biden win kanye runs good choice lol  \n",
      "  incoherent vs incoherent.  \n",
      "  course is. ,  chance wins late democrats accept replacing trump.  \n",
      "  why, greater clown?  \n",
      "  true  \n",
      "  that’s exactly got us shit we’re right now.  \n",
      "  it’s entertainment fucking clown. ,  it’s people lives. ,  go watch reality tv want entertained. ,  leave politics adults.  \n",
      "  50 year old black voters remember families locked biden definitely voting  \n",
      "  yeah... right. ,  responded, realized kanye wants steal votes biden throw election traitor chief  \n",
      "  thinks wrong  \n",
      "  bullshit guy went full maga. ,  come back full maga  \n",
      "  sure, jan.  \n",
      "  perhaps, point care much giving maga hat wearers benefit doubt.  \n",
      "  fill  joke presidents  century.  \n",
      "  worse joke. ,  fuck joke candidates, country burning time bullshit like this.  \n",
      "  sure hope  \n",
      "  lol mean kanye maga love fit moment pretended woke order make money protests.  \n",
      "  got kanye?  \n",
      "  really it’s young people might voted biden simply don’t like trump, write kanye’s name. ,  remember harambe?  \n",
      "  point mainly young people don’t like trump might biden, write kanye’s name. ,  thus 4 years donnie  \n",
      "  white conservatives still sticking trump still bad leftists  \n",
      "  *really* hope comment doesn’t end /r/agedlikemilk year.  \n",
      "  independent, deadline states sometime august require thousand signatures. ,  think could easily make ballot states really wanted to. ,  https://ballotpedia.org/ballot_access_for_presidential_candidates  \n",
      "  thats becouse authoritarian current conservatives, realized yet  \n",
      "  oh man sure tell one that, nothing pisses fact lol.  \n",
      "  states make especially difficult independents without major minor party backing get ballot access, publicity stunt nothing  \n",
      "   removed   \n",
      "  filing deadline already passed many states, majority remaining filing deadlines coming due next 2-4 weeks. ,  kanye would collect tens thousands signatures states gain ballot access, less month it. ,  fucking publicity stunt.  \n",
      "  actually no. ,  given gary johnson helped clinton least 4-5 states.  \n",
      "  people would either vote trump, libertarians, fucking mickey mouse voting kanye, vote all. ,  black man voting kanye going voting democrat anyways. ,  going get fucking noi hotep vote nothing more.  \n",
      "  think people voting biden anyway going come vote joke.  \n",
      "  buy petition signatures like guys buy twitter ig followers  \n",
      "  1) buy petition signatures, collect online, lengthy in-person process. ,  states mentioned require tens thousands certified signatures, require signatures people registered vote. ,  sorry, see happening states. ,  2) fuck going switch votes biden kanye? ,  nobody, he\\ going  take votes  anyone except maybe tiny percentage trump-supporting black men.  \n",
      "  stand black lives. ,  stands divide black folk allow white supremacists win, white supremacists love black folk sing dance.  \n",
      "  done black lives recent president. ,  historic black colleges, opportunity zones, criminal reform, record low unemployment.  \n",
      "  white guy, course.  \n",
      "  white dude lol  \n",
      "  agree  \n",
      "  kanye donated democrats last election. ,  research. ,  used trump free innocent black people prison  \n",
      "  friends stick together.  \n",
      "  kanye isn’t career politician like biden. ,  rather him. ,  half people don’t even like biden, he’s alright. ,  kanye special. ,  can’t stop youth. ,  kanye 2020 baby    think reasons cuz there’s plenty. ,  abroad train kanye 2020. ,  edit: lots boomers lol. ,  kanye 2020  \n",
      "  trump biden. ,  friends biden fans kanye ran. ,  something came together upon. ,  kanye 2020, love sides. ,  announced it’s something everybody support re-unite sides political spectrum  \n",
      "  fuck him.  \n",
      "  well i’m medically trained make diagnosis i’ll take onboard. ,  wonder random character run next land free. ,  really hope guys vote kermit frog. ,  ☕️  \n",
      "  shame. ,  bipolar difficult illness live best days.  \n",
      "  says lot shit.  \n",
      "  stream consciousness rant oval...that next level cray.  \n",
      "  didn’t act like pretending gave full interview detailing struggles trump supporter. ,  https://youtu.be/rzxpjcwqyig  final minute best part.  \n",
      "  hear saying, agree would necessarily trying win. ,  however, write-in campaigns pretty much useless, long ballots, damage could would limited. ,  bigger deal serious getting ballot gop tries help ratfuck democrats.  \n",
      "  billionaire...  \n",
      "  ....and every fucking one women mentioned accomplished qualified. ,  ironic attempt making point obviously perceive clever clearly outs one people needs check themselves.  \n",
      "  told, please correct wrong, older members black community secured comfortable lifestyle essentially integrated status quo.  \n",
      "  i’m not, isn’t like biden racist either  \n",
      "  trump voters seemingly surprised  djt father racially profiled tenants?  \n",
      "  mhmm underestimate american populace. ,  campaigns inner cities brings biden crime bill stance segregation, damage.  \n",
      "  “he’s jackass,” - president barack obama 2009  \n",
      "  fair, trump understands little black voters. ,  they’re base.  \n",
      "  mean, complete meme doesnt hurt run prez nowadays  \n",
      "  incomplete meme.  \n",
      "  larger ones could would cost $20-30 signature point.  \n",
      "  unfortunately think so. ,  filing deadline independent candidates later candidates  https://ballotpedia.org/deadline_to_run_for_president#independent_candidates  \n",
      "  uncle house, hth  \n",
      "  german know  diversity  black community america? ,  pray tell  quoted diversity you\\ obviously using bad faith  sides  w/e want bullshit  \n",
      "  stop trying control kanye  \n",
      "  why’d jump immediately white guy told run?  \n",
      "  kanye hasn’t loved trump while. ,  latest song released isn’t pro-trump. ,  don’t think it’s trump ploy, it’s likely ego thing.  \n",
      "  doesn’t really...at least don’t *think* point...  \n",
      "  well i’m obviously gonna push back idea kanye wouldn’t attention ego lol anyone knows ye knows exactly shit. ,  knew pro trump shit nothing else you’d opinion  \n",
      "  elon always joking around twitter. ,  kanye always saying something something outrageous album drop. ,  really isn’t deep yet it’s got people losing shit acting like black people vote whoever skin colour look candidates first.  \n",
      "  cares attention anything. ,  don\\ doubt may also want help trump get elected though, especially elon\\  take red pill  nonsense. ,  shame even conversation.  \n",
      "  always bunch extra shit lol, that’s kanye. ,  technically doesn’t need anything get shitload attention. ,  cos he’s kanye  \n",
      "  kanye always says something crazy get publicity album drop. ,  don’t seem know well someone claims “kanye kanye”  \n",
      "  it’s completely different. ,  1. ,  actually running would different trump wouldn’t two big parties. ,  2. ,  isn’t actually running tweet gain media attention album drop.  \n",
      "  trump ran major party nomination. ,  obtuse.  \n",
      "  it’s completely different. ,  1. ,  \\u2060if actually running would different trump wouldn’t two big parties. ,  2. ,  \\u2060he isn’t actually running tweet gain media attention album drop.  \n",
      "  yeah does. ,  wouldn’t worry isn’t going end running. ,  don’t think friendly trump anymore listen latest sing it’s something trump would like.  \n",
      "  want make bet kanye actually running president?  \n",
      "  yes. ,  do. ,  it’s got.  \n",
      "  /s  \n",
      "  fucking trainwreck  \n",
      "  zero chance runs it’s publicity new album every time honest wouldn’t cause dummys like always make work.  \n",
      "  kanye like many black folk socially conservative biden.  \n",
      "  sorry think 2020 presidential election fucking joke musician troll way sell albums. ,  getting trump office way important bullshit like this.  \n",
      "  hobbit.  \n",
      "  yes.  \n",
      "  puts in. ,  yes.  \n",
      "  i’m 18 adult, friends college kids voting him. ,  kanye2020  \n",
      "  hopes another clown looking spotlight moved face wife ass. ,  me.  \n",
      "  didn’t  \n",
      "  hard believe celebrity who’s professional wrestler could involved kayfabe? ,  kanye playing character. ,  don’t believe watch smaller scale interviews. ,  he’s competent perceptive hell.  \n",
      "  lol tens millions dollars debt recently last year? ,  mind boggles thats sure  \n",
      "  mentally ill. kompromat required.  \n",
      "   deleted   \n",
      "  yes thats terrifying. ,  i’m american sad innocent people going die things get better there. ,  also hopeful things inevitably get better there. ,  forests grow back healthier, lush fire; america see growth humanity fires burn out.  \n",
      "  good news reality amount people like dsa twitter far  \n",
      "  trumps candidacy, look got us.  \n",
      "  thought trump publicly stunt.  \n",
      "  seems nice democratic  \n",
      "  well true all.  \n",
      "  looks like  6 states (https://ballotpedia.org/deadline_to_run_for_president) deadline already passed.  \n",
      "  wow wait know that. ,  mean traitor black people. ,  people still buying songs then!! ,  !  \n",
      "  literally sent goerge floyds daughter college marched streets. ,  appointed black woman design director new clothing brand. ,  talks limiting black black crime time. ,  stop trying paint kanye someone doesnt care black people  \n",
      "  >record low unemployment. ,  lmao know high unemployment now? ,  come time capsule?  \n",
      "  guys suggested stand black lives. ,  would great things said. ,  wanted divide black people allow white supremacists win, would circumstance kanye good deeds suggested.  \n",
      "  spouting worst fucking takes today.  \n",
      "  seen career politician oval office like. ,  want normalcy.  \n",
      "  ah yes, career politicians president, go surgery insist procedure done janitor front desk receptionist  fuck  \n",
      "  quite people like biden actually. ,  seen pandemic politics career -- trump impotent leader one be, clear inexperience preventing administration effective.  \n",
      "  publicity stunt going reunite anything.  \n",
      "  baby yoda/bob ross painting 2024  \n",
      "  like saying running president.  \n",
      "  out... he’s dropping new album soon wants get major attention.  \n",
      "  really don’t want entertain idea kanye running, run write-in campaign, needs take away votes select states dramatically shift race trump. ,  points away biden cost election.  \n",
      "  yes much cash easily liquidated? ,  ross perot spent insane amounts money bid presidency. ,  easy run campaign. ,  need people, offices whole organization. ,  kanye already shot foot wearing maga hat meeting trump. ,  serious would imagine get blitzed ads showing photo over. ,  kanye hyping stupid album.  \n",
      "  comical considering joe lead intent pick qualified vp. ,  instead opted virtue signal sate base stating vp would fact minority., seems would joe biden needs check based standard.  \n",
      "  think giving super eloquent convincing stump speeches populations actually vote? ,  black people overwhelmingly supported biden primaries despite things beaten death. ,  reason believe change. ,  older black people also biggest bloc support actually vote; fairly obvious switching vote biden.  \n",
      "  hell mixed message would though. ,  wanted segregation endorsed crime bill, running platform reform police served directly first black us president. ,  something damning antiquated bills stances kanye wants damage.  \n",
      "  answer made even less sense  \n",
      "  public knowledge kanye visited white house meet trump meeting amicable. ,  time met. ,  simple  white guy told  like you\\ insinuating. ,  would definitely support trump kanye enter race, unlikely would be.  \n",
      "  poster linked article probably typing. ,  kinda looks like still   https://www.businessinsider.com/kanye-west-signals-hell-vote-for-donald-trump-in-2020-2020-4  \n",
      "  real feelings he’s fucking crazy. ,  meds crazy. ,  won’t many states ballots, it’s late game. ,  side note: i’m done elon musk too, he’s fucking crazy kanye.  \n",
      "  what? ,  call me?  \n",
      "  no, saying sure wrong. ,  plausible explanations, outside yeezy team know true motivation.  \n",
      "  no. ,  not. ,  exist incredibly large amounts. ,  even voting sake, voting doesnt motivate people. ,  picking lesser two evils isnt true choice. ,  refuse vote trump biden. ,  literally enable system sucks much voting less evil. ,  based know. ,  fucking insane moment remind people bound choice absolutely choice. ,  concept giving child two choices damn well knowing choices guarentee will. ,  it\\ political equivalent  yes . ,  sorry wont slave fucking system. ,  matter hard fucks me. ,  #kyane2020  \n",
      "  nobody two brain cells rub together wasting vote write-in candidate, even get enough signatures.  \n",
      "  won’t end running album drops tweet forgotten about. ,  going end disappointed electing joe fucking biden doesn’t magically save world.  \n",
      "  jelly monster  \n",
      "  18... big shocker. ,  18 voted bush jr. i’ve since pulled head ass, hope friends.  \n",
      "  voting keep trump wh then. ,  kanye 0% chance winning, pulling votes biden help trump  voting want equal vote trump  makes trump supporter  \n",
      "  wrong. ,  part album rollout  \n",
      "  trump ran major party nomination. ,  obtuse.  \n",
      "  trump ran major party nomination. ,  obtuse.  \n",
      "  undemocratic someone collect petition voter signatures run office? ,  isn\\  democratic  definition?  \n",
      "  say kanye 2020 prove arent racist  \n",
      "  37 states filing deadline july august.  \n",
      "  know traitor. ,  white man could harm black people, would wrong despite black. ,  word traitor apply. ,  would using popularity take away votes serious candidacy, one 2020.  \n",
      "  >why people still buying songs then!!! ,  kanye makes decent music kanye make decent human.  \n",
      "  18 year olds affected another trump term  \n",
      "  nasopharyngeal swab senate 2022  \n",
      "  looking possible impact could serious. ,  record, think all.  \n",
      "  trump 77,000 votes 3 states. ,  margins matter. ,  even chops 1-2% help win electoral college. ,  also, runs m4a & free college platform get progressives. ,  yes black people vote black people. ,  knew people voted obama 2008 black. ,  also knew people voted hillary wanted see 1st woman president.  \n",
      "  god new york, you’re fucking sheltered can’t work means.  \n",
      "  poster meant  house n-word   uncle t*m   say words sure get caught auto-ban filter.  \n",
      "  racial slurs  \n",
      "  maybe true. ,  maybe not. ,  treat kanye mind case-to-case situation, mind change lot. ,  &#x200b;    https://www.okayplayer.com/music/kanye-west-make-america-great-again-hat-glc-the-red-pill-podcast-with-van-lathan.html (https://www.okayplayer.com/music/kanye-west-make-america-great-again-hat-glc-the-red-pill-podcast-with-van-lathan.html)  \n",
      "  won’t even run album drops forgotten tweeted  \n",
      "  lol imagine labeling every person crazy differing views, especially they;re ultra successful. ,  youre crazy one bro  \n",
      "  don’t think even knows true motivations tbh  \n",
      "  know people said exact shit trump right? ,  fuck joke candidates, times serious this.  \n",
      "  always people higher/upper class write throwaway candidates?  \n",
      "  absolutely not.  \n",
      "  hope right man.  \n",
      "  know kanye isn’t going big two parties run (which isn’t) would completely different trump. ,  times serious? ,  one can’t wait trump lose nothing change expect maybe reddit news page isn’t filled stuff trump.  \n",
      "   \n"
     ]
    }
   ],
   "source": [
    "%%bash \n",
    "# ls\n",
    "cat RedditText.txt"
   ]
  },
  {
   "cell_type": "code",
   "execution_count": 9,
   "metadata": {
    "colab": {
     "base_uri": "https://localhost:8080/",
     "height": 52
    },
    "colab_type": "code",
    "id": "IMnymRDLe0hi",
    "outputId": "4d26476f-e6b5-475a-a0c1-41b6fcdc041a"
   },
   "outputs": [
    {
     "name": "stdout",
     "output_type": "stream",
     "text": [
      "CPU times: user 2.11 s, sys: 613 ms, total: 2.72 s\n",
      "Wall time: 141 ms\n"
     ]
    }
   ],
   "source": [
    "%%time \n",
    "from pathlib import Path\n",
    "\n",
    "from tokenizers import ByteLevelBPETokenizer\n",
    "\n",
    "paths = [str(x) for x in Path(\".\").glob(\"**/*.txt\")]\n",
    "\n",
    "# Initialize a tokenizer\n",
    "tokenizer = ByteLevelBPETokenizer()\n",
    "\n",
    "# Customize training\n",
    "tokenizer.train(files=paths, vocab_size=52_000, min_frequency=2, special_tokens=[\n",
    "    \"<s>\",\n",
    "    \"<pad>\",\n",
    "    \"</s>\",\n",
    "    \"<unk>\",\n",
    "    \"<mask>\",\n",
    "])"
   ]
  },
  {
   "cell_type": "markdown",
   "metadata": {
    "colab_type": "text",
    "id": "6Ei7bqpRf1LH"
   },
   "source": [
    "Now let's save files to disk"
   ]
  },
  {
   "cell_type": "code",
   "execution_count": 10,
   "metadata": {
    "colab": {
     "base_uri": "https://localhost:8080/",
     "height": 34
    },
    "colab_type": "code",
    "id": "EIS-irI0f32P",
    "outputId": "e86c4a24-eb65-4f0a-aa58-ed1931a05ac9"
   },
   "outputs": [
    {
     "data": {
      "text/plain": [
       "['RedditText/vocab.json', 'RedditText/merges.txt']"
      ]
     },
     "execution_count": 10,
     "metadata": {},
     "output_type": "execute_result"
    }
   ],
   "source": [
    "!rm -rf RedditText\n",
    "!mkdir RedditText\n",
    "tokenizer.save_model(\"RedditText\")"
   ]
  },
  {
   "cell_type": "markdown",
   "metadata": {
    "colab_type": "text",
    "id": "lOOfYSuQhSqT"
   },
   "source": [
    "🔥🔥 Wow, that was fast! ⚡️🔥\n",
    "\n",
    "We now have both a `vocab.json`, which is a list of the most frequent tokens ranked by frequency, and a `merges.txt` list of merges.\n",
    "\n",
    "Here’s  how you can use it in `tokenizers`, including handling the RoBERTa special tokens – of course, you’ll also be able to use it directly from `transformers`.\n"
   ]
  },
  {
   "cell_type": "code",
   "execution_count": 12,
   "metadata": {
    "colab": {},
    "colab_type": "code",
    "id": "hO5M3vrAhcuj"
   },
   "outputs": [
    {
     "ename": "NameError",
     "evalue": "name 'BertProcessing' is not defined",
     "output_type": "error",
     "traceback": [
      "\u001b[0;31m---------------------------------------------------------------------------\u001b[0m",
      "\u001b[0;31mNameError\u001b[0m                                 Traceback (most recent call last)",
      "\u001b[0;32m<ipython-input-12-1374043cd7c9>\u001b[0m in \u001b[0;36m<module>\u001b[0;34m\u001b[0m\n\u001b[0;32m----> 1\u001b[0;31m tokenizer._tokenizer.post_processor = BertProcessing(\n\u001b[0m\u001b[1;32m      2\u001b[0m     \u001b[0;34m(\u001b[0m\u001b[0;34m\"</s>\"\u001b[0m\u001b[0;34m,\u001b[0m \u001b[0mtokenizer\u001b[0m\u001b[0;34m.\u001b[0m\u001b[0mtoken_to_id\u001b[0m\u001b[0;34m(\u001b[0m\u001b[0;34m\"</s>\"\u001b[0m\u001b[0;34m)\u001b[0m\u001b[0;34m)\u001b[0m\u001b[0;34m,\u001b[0m\u001b[0;34m\u001b[0m\u001b[0;34m\u001b[0m\u001b[0m\n\u001b[1;32m      3\u001b[0m     \u001b[0;34m(\u001b[0m\u001b[0;34m\"<s>\"\u001b[0m\u001b[0;34m,\u001b[0m \u001b[0mtokenizer\u001b[0m\u001b[0;34m.\u001b[0m\u001b[0mtoken_to_id\u001b[0m\u001b[0;34m(\u001b[0m\u001b[0;34m\"<s>\"\u001b[0m\u001b[0;34m)\u001b[0m\u001b[0;34m)\u001b[0m\u001b[0;34m,\u001b[0m\u001b[0;34m\u001b[0m\u001b[0;34m\u001b[0m\u001b[0m\n\u001b[1;32m      4\u001b[0m )\n\u001b[1;32m      5\u001b[0m \u001b[0mtokenizer\u001b[0m\u001b[0;34m.\u001b[0m\u001b[0menable_truncation\u001b[0m\u001b[0;34m(\u001b[0m\u001b[0mmax_length\u001b[0m\u001b[0;34m=\u001b[0m\u001b[0;36m512\u001b[0m\u001b[0;34m)\u001b[0m\u001b[0;34m\u001b[0m\u001b[0;34m\u001b[0m\u001b[0m\n",
      "\u001b[0;31mNameError\u001b[0m: name 'BertProcessing' is not defined"
     ]
    }
   ],
   "source": [
    "tokenizer._tokenizer.post_processor = BertProcessing(\n",
    "    (\"</s>\", tokenizer.token_to_id(\"</s>\")),\n",
    "    (\"<s>\", tokenizer.token_to_id(\"<s>\")),\n",
    ")\n",
    "tokenizer.enable_truncation(max_length=512)"
   ]
  },
  {
   "cell_type": "code",
   "execution_count": 13,
   "metadata": {
    "colab": {},
    "colab_type": "code",
    "collapsed": true,
    "id": "tKVWB8WShT-z"
   },
   "outputs": [],
   "source": [
    "from tokenizers.implementations import ByteLevelBPETokenizer\n",
    "from tokenizers.processors import BertProcessing\n",
    "\n",
    "\n",
    "tokenizer = ByteLevelBPETokenizer(\n",
    "    \"./RedditText/vocab.json\",\n",
    "    \"./RedditText/merges.txt\",\n",
    ")"
   ]
  },
  {
   "cell_type": "markdown",
   "metadata": {
    "colab_type": "text",
    "id": "WQpUC_CDhnWW"
   },
   "source": [
    "## 3. Train a language model from scratch\n",
    "\n",
    "**Update:** This section follows along the [`run_language_modeling.py`](https://github.com/huggingface/transformers/blob/master/examples/language-modeling/run_language_modeling.py) script, using our new [`Trainer`](https://github.com/huggingface/transformers/blob/master/src/transformers/trainer.py) directly. Feel free to pick the approach you like best.\n",
    "\n",
    "> We’ll train a RoBERTa-like model, which is a BERT-like with a couple of changes (check the [documentation](https://huggingface.co/transformers/model_doc/roberta.html) for more details).\n",
    "\n",
    "As the model is BERT-like, we’ll train it on a task of *Masked language modeling*, i.e. the predict how to fill arbitrary tokens that we randomly mask in the dataset. This is taken care of by the example script.\n"
   ]
  },
  {
   "cell_type": "code",
   "execution_count": 14,
   "metadata": {
    "colab": {
     "base_uri": "https://localhost:8080/",
     "height": 318
    },
    "colab_type": "code",
    "id": "kD140sFjh0LQ",
    "outputId": "0bab1f9e-bf7a-4f13-82d3-07fe5866ce78"
   },
   "outputs": [
    {
     "name": "stdout",
     "output_type": "stream",
     "text": [
      "Sat Aug  1 23:12:29 2020       \r\n",
      "+-----------------------------------------------------------------------------+\r\n",
      "| NVIDIA-SMI 440.33.01    Driver Version: 440.33.01    CUDA Version: 10.2     |\r\n",
      "|-------------------------------+----------------------+----------------------+\r\n",
      "| GPU  Name        Persistence-M| Bus-Id        Disp.A | Volatile Uncorr. ECC |\r\n",
      "| Fan  Temp  Perf  Pwr:Usage/Cap|         Memory-Usage | GPU-Util  Compute M. |\r\n",
      "|===============================+======================+======================|\r\n",
      "|   0  Tesla K80           Off  | 00000000:06:00.0 Off |                    0 |\r\n",
      "| N/A   67C    P0    60W / 149W |      0MiB / 11441MiB |      0%      Default |\r\n",
      "+-------------------------------+----------------------+----------------------+\r\n",
      "|   1  Tesla K80           Off  | 00000000:07:00.0 Off |                    0 |\r\n",
      "| N/A   48C    P0    72W / 149W |      0MiB / 11441MiB |     99%      Default |\r\n",
      "+-------------------------------+----------------------+----------------------+\r\n",
      "                                                                               \r\n",
      "+-----------------------------------------------------------------------------+\r\n",
      "| Processes:                                                       GPU Memory |\r\n",
      "|  GPU       PID   Type   Process name                             Usage      |\r\n",
      "|=============================================================================|\r\n",
      "|  No running processes found                                                 |\r\n",
      "+-----------------------------------------------------------------------------+\r\n"
     ]
    }
   ],
   "source": [
    "# Check that we have a GPU\n",
    "!nvidia-smi"
   ]
  },
  {
   "cell_type": "code",
   "execution_count": 15,
   "metadata": {
    "colab": {
     "base_uri": "https://localhost:8080/",
     "height": 34
    },
    "colab_type": "code",
    "id": "VNZZs-r6iKAV",
    "outputId": "c8404d6c-7662-4240-c8da-ee89edfaf51b"
   },
   "outputs": [
    {
     "data": {
      "text/plain": [
       "True"
      ]
     },
     "execution_count": 15,
     "metadata": {},
     "output_type": "execute_result"
    }
   ],
   "source": [
    "# Check that PyTorch sees it\n",
    "import torch\n",
    "torch.cuda.is_available()"
   ]
  },
  {
   "cell_type": "markdown",
   "metadata": {
    "colab_type": "text",
    "id": "u0qQzgrBi1OX"
   },
   "source": [
    "### We'll define the following config for the model"
   ]
  },
  {
   "cell_type": "code",
   "execution_count": 16,
   "metadata": {
    "colab": {},
    "colab_type": "code",
    "collapsed": true,
    "id": "LTXXutqeDzPi"
   },
   "outputs": [],
   "source": [
    "from transformers import RobertaConfig\n",
    "\n",
    "config = RobertaConfig(\n",
    "    vocab_size=52_000,\n",
    "    max_position_embeddings=514,\n",
    "    num_attention_heads=12,\n",
    "    num_hidden_layers=6,\n",
    "    type_vocab_size=1,\n",
    ")"
   ]
  },
  {
   "cell_type": "markdown",
   "metadata": {
    "colab_type": "text",
    "id": "yAwQ82JiE5pi"
   },
   "source": [
    "Now let's re-create our tokenizer in transformers"
   ]
  },
  {
   "cell_type": "code",
   "execution_count": 17,
   "metadata": {
    "colab": {},
    "colab_type": "code",
    "collapsed": true,
    "id": "4keFBUjQFOD1"
   },
   "outputs": [],
   "source": [
    "from transformers import RobertaTokenizerFast\n",
    "\n",
    "tokenizer = RobertaTokenizerFast.from_pretrained(\"./RedditText\", max_len=512)"
   ]
  },
  {
   "cell_type": "markdown",
   "metadata": {
    "colab_type": "text",
    "id": "6yNCw-3hFv9h"
   },
   "source": [
    "Finally let's initialize our model.\n",
    "\n",
    "**Important:**\n",
    "\n",
    "As we are training from scratch, we only initialize from a config, not from an existing pretrained model or checkpoint."
   ]
  },
  {
   "cell_type": "code",
   "execution_count": 18,
   "metadata": {
    "collapsed": true
   },
   "outputs": [],
   "source": [
    "from transformers import RobertaForMaskedLM\n",
    "\n",
    "model = RobertaForMaskedLM(config=config)"
   ]
  },
  {
   "cell_type": "code",
   "execution_count": 19,
   "metadata": {
    "colab": {
     "base_uri": "https://localhost:8080/",
     "height": 34
    },
    "colab_type": "code",
    "id": "jU6JhBSTKiaM",
    "outputId": "35879a60-2915-4894-f702-2d649cfa398a"
   },
   "outputs": [
    {
     "data": {
      "text/plain": [
       "84095008"
      ]
     },
     "execution_count": 19,
     "metadata": {},
     "output_type": "execute_result"
    }
   ],
   "source": [
    "model.num_parameters()\n",
    "# => 84 million parameters"
   ]
  },
  {
   "cell_type": "markdown",
   "metadata": {
    "colab_type": "text",
    "id": "jBtUHRMliOLM"
   },
   "source": [
    "### Now let's build our training Dataset\n",
    "\n",
    "We'll build our dataset by applying our tokenizer to our text file.\n",
    "\n",
    "Here, as we only have one text file, we don't even need to customize our `Dataset`. We'll just use the `LineByLineDataset` out-of-the-box."
   ]
  },
  {
   "cell_type": "code",
   "execution_count": 20,
   "metadata": {
    "colab": {
     "base_uri": "https://localhost:8080/",
     "height": 52
    },
    "colab_type": "code",
    "id": "GlvP_A-THEEl",
    "outputId": "e0510a33-7937-4a04-fa1c-d4e20b758bb2"
   },
   "outputs": [
    {
     "name": "stdout",
     "output_type": "stream",
     "text": [
      "CPU times: user 576 ms, sys: 55.7 ms, total: 631 ms\n",
      "Wall time: 26.2 ms\n"
     ]
    }
   ],
   "source": [
    "%%time\n",
    "from transformers import LineByLineTextDataset\n",
    "\n",
    "dataset = LineByLineTextDataset(\n",
    "    tokenizer=tokenizer,\n",
    "    file_path=\"RedditText.txt\",\n",
    "    block_size=64,\n",
    ")"
   ]
  },
  {
   "cell_type": "markdown",
   "metadata": {
    "colab_type": "text",
    "id": "hDLs73HcIHk5"
   },
   "source": [
    "Like in the [`run_language_modeling.py`](https://github.com/huggingface/transformers/blob/master/examples/language-modeling/run_language_modeling.py) script, we need to define a data_collator.\n",
    "\n",
    "This is just a small helper that will help us batch different samples of the dataset together into an object that PyTorch knows how to perform backprop on."
   ]
  },
  {
   "cell_type": "code",
   "execution_count": 21,
   "metadata": {
    "colab": {},
    "colab_type": "code",
    "collapsed": true,
    "id": "zTgWPa9Dipk2"
   },
   "outputs": [],
   "source": [
    "from transformers import DataCollatorForLanguageModeling\n",
    "\n",
    "data_collator = DataCollatorForLanguageModeling(\n",
    "    tokenizer=tokenizer, mlm=True, mlm_probability=0.15\n",
    ")"
   ]
  },
  {
   "cell_type": "markdown",
   "metadata": {
    "colab_type": "text",
    "id": "ri2BIQKqjfHm"
   },
   "source": [
    "### Finally, we are all set to initialize our Trainer"
   ]
  },
  {
   "cell_type": "code",
   "execution_count": 22,
   "metadata": {
    "colab": {},
    "colab_type": "code",
    "collapsed": true,
    "id": "YpvnFFmZJD-N"
   },
   "outputs": [],
   "source": [
    "from transformers import Trainer, TrainingArguments\n",
    "\n",
    "training_args = TrainingArguments(\n",
    "    output_dir=\"./EsperBERTo\",\n",
    "    overwrite_output_dir=True,\n",
    "    num_train_epochs=40,\n",
    "    per_gpu_train_batch_size=64,\n",
    "    save_steps=10_000,\n",
    "    save_total_limit=2,\n",
    ")\n",
    "\n",
    "trainer = Trainer(\n",
    "    model=model,\n",
    "    args=training_args,\n",
    "    data_collator=data_collator,\n",
    "    train_dataset=dataset,\n",
    "    prediction_loss_only=True,\n",
    ")"
   ]
  },
  {
   "cell_type": "markdown",
   "metadata": {
    "colab_type": "text",
    "id": "o6sASa36Nf-N"
   },
   "source": [
    "### Start training"
   ]
  },
  {
   "cell_type": "code",
   "execution_count": 23,
   "metadata": {
    "colab": {
     "base_uri": "https://localhost:8080/",
     "height": 738,
     "referenced_widgets": [
      "a58a66392b644b1384661e850c077a6c",
      "a491e8caa0a048beb3b5259f14eb233f",
      "837c9ddc3d594e088891874560c646b8",
      "dbf50873d62c4ba39321faefbed0cca5",
      "40bf955ba0284e84b198da6be8654219",
      "fe20a8dae6e84628b5076d02183090f5",
      "93b3f9eae3cb4e3e859cf456e3547c6d",
      "6feb10aeb43147e6aba028d065947ae8",
      "0989d41a4da24e9ebff377e02127642c",
      "42c6061ef7e44f179db5a6e3551c0f17",
      "d295dd80550447d88da0f04ce36a22ff",
      "04e7e6d291da49d5816dc98a2904e95c",
      "e7d8c3a4fecd40778e32966b29ea65a1",
      "016d7c8318f742c1943464b08232a510",
      "8388e9da9da4492c98c19235ca5fc1b5",
      "39c23c6a972b419eb2eeeebafeaedc22"
     ]
    },
    "colab_type": "code",
    "id": "VmaHZXzmkNtJ",
    "outputId": "a19880cb-bcc6-4885-bf24-c2c6d0f56d1e"
   },
   "outputs": [
    {
     "name": "stderr",
     "output_type": "stream",
     "text": [
      "Using deprecated `--per_gpu_train_batch_size` argument which will be removed in a future version. Using `--per_device_train_batch_size` is preferred.\n",
      "Using deprecated `--per_gpu_train_batch_size` argument which will be removed in a future version. Using `--per_device_train_batch_size` is preferred.\n"
     ]
    },
    {
     "data": {
      "application/vnd.jupyter.widget-view+json": {
       "model_id": "6ec8950c1bbc43b7a53b0d097b621e80",
       "version_major": 2,
       "version_minor": 0
      },
      "text/plain": [
       "HBox(children=(FloatProgress(value=0.0, description='Epoch', max=40.0, style=ProgressStyle(description_width='…"
      ]
     },
     "metadata": {},
     "output_type": "display_data"
    },
    {
     "data": {
      "application/vnd.jupyter.widget-view+json": {
       "model_id": "fff1cb01328048cba02c63ac035983d8",
       "version_major": 2,
       "version_minor": 0
      },
      "text/plain": [
       "HBox(children=(FloatProgress(value=0.0, description='Iteration', max=4.0, style=ProgressStyle(description_widt…"
      ]
     },
     "metadata": {},
     "output_type": "display_data"
    },
    {
     "name": "stderr",
     "output_type": "stream",
     "text": [
      "/home/taylor/anaconda3/lib/python3.7/site-packages/torch/nn/parallel/_functions.py:61: UserWarning: Was asked to gather along dimension 0, but all input tensors were scalars; will instead unsqueeze and return a vector.\n",
      "  warnings.warn('Was asked to gather along dimension 0, but all '\n"
     ]
    },
    {
     "name": "stdout",
     "output_type": "stream",
     "text": [
      "\n"
     ]
    },
    {
     "data": {
      "application/vnd.jupyter.widget-view+json": {
       "model_id": "d10c74ea779440729f2de3f38a8803fc",
       "version_major": 2,
       "version_minor": 0
      },
      "text/plain": [
       "HBox(children=(FloatProgress(value=0.0, description='Iteration', max=4.0, style=ProgressStyle(description_widt…"
      ]
     },
     "metadata": {},
     "output_type": "display_data"
    },
    {
     "name": "stdout",
     "output_type": "stream",
     "text": [
      "\n"
     ]
    },
    {
     "data": {
      "application/vnd.jupyter.widget-view+json": {
       "model_id": "93924780608a4a0e80ea10d104a6a137",
       "version_major": 2,
       "version_minor": 0
      },
      "text/plain": [
       "HBox(children=(FloatProgress(value=0.0, description='Iteration', max=4.0, style=ProgressStyle(description_widt…"
      ]
     },
     "metadata": {},
     "output_type": "display_data"
    },
    {
     "name": "stdout",
     "output_type": "stream",
     "text": [
      "\n"
     ]
    },
    {
     "data": {
      "application/vnd.jupyter.widget-view+json": {
       "model_id": "2a9109547cb0495c8e9fe8071d136a6d",
       "version_major": 2,
       "version_minor": 0
      },
      "text/plain": [
       "HBox(children=(FloatProgress(value=0.0, description='Iteration', max=4.0, style=ProgressStyle(description_widt…"
      ]
     },
     "metadata": {},
     "output_type": "display_data"
    },
    {
     "name": "stdout",
     "output_type": "stream",
     "text": [
      "\n"
     ]
    },
    {
     "data": {
      "application/vnd.jupyter.widget-view+json": {
       "model_id": "a66a5cc6d72a4edbb6bff88f711ccc90",
       "version_major": 2,
       "version_minor": 0
      },
      "text/plain": [
       "HBox(children=(FloatProgress(value=0.0, description='Iteration', max=4.0, style=ProgressStyle(description_widt…"
      ]
     },
     "metadata": {},
     "output_type": "display_data"
    },
    {
     "name": "stdout",
     "output_type": "stream",
     "text": [
      "\n"
     ]
    },
    {
     "data": {
      "application/vnd.jupyter.widget-view+json": {
       "model_id": "88b87ae2d86d4f02902ef9bb23730bc1",
       "version_major": 2,
       "version_minor": 0
      },
      "text/plain": [
       "HBox(children=(FloatProgress(value=0.0, description='Iteration', max=4.0, style=ProgressStyle(description_widt…"
      ]
     },
     "metadata": {},
     "output_type": "display_data"
    },
    {
     "name": "stdout",
     "output_type": "stream",
     "text": [
      "\n"
     ]
    },
    {
     "data": {
      "application/vnd.jupyter.widget-view+json": {
       "model_id": "0fe516ef4646420796df2d1a91989251",
       "version_major": 2,
       "version_minor": 0
      },
      "text/plain": [
       "HBox(children=(FloatProgress(value=0.0, description='Iteration', max=4.0, style=ProgressStyle(description_widt…"
      ]
     },
     "metadata": {},
     "output_type": "display_data"
    },
    {
     "name": "stdout",
     "output_type": "stream",
     "text": [
      "\n"
     ]
    },
    {
     "data": {
      "application/vnd.jupyter.widget-view+json": {
       "model_id": "6bec2a94778943d2a99ae6762d89ea84",
       "version_major": 2,
       "version_minor": 0
      },
      "text/plain": [
       "HBox(children=(FloatProgress(value=0.0, description='Iteration', max=4.0, style=ProgressStyle(description_widt…"
      ]
     },
     "metadata": {},
     "output_type": "display_data"
    },
    {
     "name": "stdout",
     "output_type": "stream",
     "text": [
      "\n"
     ]
    },
    {
     "data": {
      "application/vnd.jupyter.widget-view+json": {
       "model_id": "2412781447694f0a96f4c5e97f5e6afb",
       "version_major": 2,
       "version_minor": 0
      },
      "text/plain": [
       "HBox(children=(FloatProgress(value=0.0, description='Iteration', max=4.0, style=ProgressStyle(description_widt…"
      ]
     },
     "metadata": {},
     "output_type": "display_data"
    },
    {
     "name": "stdout",
     "output_type": "stream",
     "text": [
      "\n"
     ]
    },
    {
     "data": {
      "application/vnd.jupyter.widget-view+json": {
       "model_id": "a0f622ea62454102ba6036e5a4934c5f",
       "version_major": 2,
       "version_minor": 0
      },
      "text/plain": [
       "HBox(children=(FloatProgress(value=0.0, description='Iteration', max=4.0, style=ProgressStyle(description_widt…"
      ]
     },
     "metadata": {},
     "output_type": "display_data"
    },
    {
     "name": "stdout",
     "output_type": "stream",
     "text": [
      "\n"
     ]
    },
    {
     "data": {
      "application/vnd.jupyter.widget-view+json": {
       "model_id": "b32222870eda4eff942651e2bbcd28a5",
       "version_major": 2,
       "version_minor": 0
      },
      "text/plain": [
       "HBox(children=(FloatProgress(value=0.0, description='Iteration', max=4.0, style=ProgressStyle(description_widt…"
      ]
     },
     "metadata": {},
     "output_type": "display_data"
    },
    {
     "name": "stdout",
     "output_type": "stream",
     "text": [
      "\n"
     ]
    },
    {
     "data": {
      "application/vnd.jupyter.widget-view+json": {
       "model_id": "980c0bc610954e9991d035374fcb0083",
       "version_major": 2,
       "version_minor": 0
      },
      "text/plain": [
       "HBox(children=(FloatProgress(value=0.0, description='Iteration', max=4.0, style=ProgressStyle(description_widt…"
      ]
     },
     "metadata": {},
     "output_type": "display_data"
    },
    {
     "name": "stdout",
     "output_type": "stream",
     "text": [
      "\n"
     ]
    },
    {
     "data": {
      "application/vnd.jupyter.widget-view+json": {
       "model_id": "a8f9207e26ca46cb8bdef2d8377bc9a2",
       "version_major": 2,
       "version_minor": 0
      },
      "text/plain": [
       "HBox(children=(FloatProgress(value=0.0, description='Iteration', max=4.0, style=ProgressStyle(description_widt…"
      ]
     },
     "metadata": {},
     "output_type": "display_data"
    },
    {
     "name": "stdout",
     "output_type": "stream",
     "text": [
      "\n"
     ]
    },
    {
     "data": {
      "application/vnd.jupyter.widget-view+json": {
       "model_id": "684c0ab15b384642871c0bb684ca66a9",
       "version_major": 2,
       "version_minor": 0
      },
      "text/plain": [
       "HBox(children=(FloatProgress(value=0.0, description='Iteration', max=4.0, style=ProgressStyle(description_widt…"
      ]
     },
     "metadata": {},
     "output_type": "display_data"
    },
    {
     "name": "stdout",
     "output_type": "stream",
     "text": [
      "\n"
     ]
    },
    {
     "data": {
      "application/vnd.jupyter.widget-view+json": {
       "model_id": "44ae5d3f3ca94490a3b5c7370b10a418",
       "version_major": 2,
       "version_minor": 0
      },
      "text/plain": [
       "HBox(children=(FloatProgress(value=0.0, description='Iteration', max=4.0, style=ProgressStyle(description_widt…"
      ]
     },
     "metadata": {},
     "output_type": "display_data"
    },
    {
     "name": "stdout",
     "output_type": "stream",
     "text": [
      "\n"
     ]
    },
    {
     "data": {
      "application/vnd.jupyter.widget-view+json": {
       "model_id": "fb3af18ca2f04a58aba9c21e5e15744e",
       "version_major": 2,
       "version_minor": 0
      },
      "text/plain": [
       "HBox(children=(FloatProgress(value=0.0, description='Iteration', max=4.0, style=ProgressStyle(description_widt…"
      ]
     },
     "metadata": {},
     "output_type": "display_data"
    },
    {
     "name": "stdout",
     "output_type": "stream",
     "text": [
      "\n"
     ]
    },
    {
     "data": {
      "application/vnd.jupyter.widget-view+json": {
       "model_id": "36c12493f7104ee08b7b38240e96cdeb",
       "version_major": 2,
       "version_minor": 0
      },
      "text/plain": [
       "HBox(children=(FloatProgress(value=0.0, description='Iteration', max=4.0, style=ProgressStyle(description_widt…"
      ]
     },
     "metadata": {},
     "output_type": "display_data"
    },
    {
     "name": "stdout",
     "output_type": "stream",
     "text": [
      "\n"
     ]
    },
    {
     "data": {
      "application/vnd.jupyter.widget-view+json": {
       "model_id": "b126571641ef47cf9c2e6a96d8569e71",
       "version_major": 2,
       "version_minor": 0
      },
      "text/plain": [
       "HBox(children=(FloatProgress(value=0.0, description='Iteration', max=4.0, style=ProgressStyle(description_widt…"
      ]
     },
     "metadata": {},
     "output_type": "display_data"
    },
    {
     "name": "stdout",
     "output_type": "stream",
     "text": [
      "\n"
     ]
    },
    {
     "data": {
      "application/vnd.jupyter.widget-view+json": {
       "model_id": "e32a0b663bb548aebbd3633cf90a7f50",
       "version_major": 2,
       "version_minor": 0
      },
      "text/plain": [
       "HBox(children=(FloatProgress(value=0.0, description='Iteration', max=4.0, style=ProgressStyle(description_widt…"
      ]
     },
     "metadata": {},
     "output_type": "display_data"
    },
    {
     "name": "stdout",
     "output_type": "stream",
     "text": [
      "\n"
     ]
    },
    {
     "data": {
      "application/vnd.jupyter.widget-view+json": {
       "model_id": "02123aff154646f4a144a086dad005c6",
       "version_major": 2,
       "version_minor": 0
      },
      "text/plain": [
       "HBox(children=(FloatProgress(value=0.0, description='Iteration', max=4.0, style=ProgressStyle(description_widt…"
      ]
     },
     "metadata": {},
     "output_type": "display_data"
    },
    {
     "name": "stdout",
     "output_type": "stream",
     "text": [
      "\n"
     ]
    },
    {
     "data": {
      "application/vnd.jupyter.widget-view+json": {
       "model_id": "9a83016155974303bda3458c203a8340",
       "version_major": 2,
       "version_minor": 0
      },
      "text/plain": [
       "HBox(children=(FloatProgress(value=0.0, description='Iteration', max=4.0, style=ProgressStyle(description_widt…"
      ]
     },
     "metadata": {},
     "output_type": "display_data"
    },
    {
     "name": "stdout",
     "output_type": "stream",
     "text": [
      "\n"
     ]
    },
    {
     "data": {
      "application/vnd.jupyter.widget-view+json": {
       "model_id": "7b613323da9c48849be26503a575ad1d",
       "version_major": 2,
       "version_minor": 0
      },
      "text/plain": [
       "HBox(children=(FloatProgress(value=0.0, description='Iteration', max=4.0, style=ProgressStyle(description_widt…"
      ]
     },
     "metadata": {},
     "output_type": "display_data"
    },
    {
     "name": "stdout",
     "output_type": "stream",
     "text": [
      "\n"
     ]
    },
    {
     "data": {
      "application/vnd.jupyter.widget-view+json": {
       "model_id": "28245ac4614f45af81ed43c4f1c40dc1",
       "version_major": 2,
       "version_minor": 0
      },
      "text/plain": [
       "HBox(children=(FloatProgress(value=0.0, description='Iteration', max=4.0, style=ProgressStyle(description_widt…"
      ]
     },
     "metadata": {},
     "output_type": "display_data"
    },
    {
     "name": "stdout",
     "output_type": "stream",
     "text": [
      "\n"
     ]
    },
    {
     "data": {
      "application/vnd.jupyter.widget-view+json": {
       "model_id": "e0e55b4254424ebcb667fc630cfeeb47",
       "version_major": 2,
       "version_minor": 0
      },
      "text/plain": [
       "HBox(children=(FloatProgress(value=0.0, description='Iteration', max=4.0, style=ProgressStyle(description_widt…"
      ]
     },
     "metadata": {},
     "output_type": "display_data"
    },
    {
     "name": "stdout",
     "output_type": "stream",
     "text": [
      "\n"
     ]
    },
    {
     "data": {
      "application/vnd.jupyter.widget-view+json": {
       "model_id": "c7d438a6bbcb4184ae859896dde83f77",
       "version_major": 2,
       "version_minor": 0
      },
      "text/plain": [
       "HBox(children=(FloatProgress(value=0.0, description='Iteration', max=4.0, style=ProgressStyle(description_widt…"
      ]
     },
     "metadata": {},
     "output_type": "display_data"
    },
    {
     "name": "stdout",
     "output_type": "stream",
     "text": [
      "\n"
     ]
    },
    {
     "data": {
      "application/vnd.jupyter.widget-view+json": {
       "model_id": "e7b788310b0b41df8dd6374abf4ef430",
       "version_major": 2,
       "version_minor": 0
      },
      "text/plain": [
       "HBox(children=(FloatProgress(value=0.0, description='Iteration', max=4.0, style=ProgressStyle(description_widt…"
      ]
     },
     "metadata": {},
     "output_type": "display_data"
    },
    {
     "name": "stdout",
     "output_type": "stream",
     "text": [
      "\n"
     ]
    },
    {
     "data": {
      "application/vnd.jupyter.widget-view+json": {
       "model_id": "a7a17aadf30042f5833839a71524d5d3",
       "version_major": 2,
       "version_minor": 0
      },
      "text/plain": [
       "HBox(children=(FloatProgress(value=0.0, description='Iteration', max=4.0, style=ProgressStyle(description_widt…"
      ]
     },
     "metadata": {},
     "output_type": "display_data"
    },
    {
     "name": "stdout",
     "output_type": "stream",
     "text": [
      "\n"
     ]
    },
    {
     "data": {
      "application/vnd.jupyter.widget-view+json": {
       "model_id": "4e8f7ca261e348a694f22afd5a51f4da",
       "version_major": 2,
       "version_minor": 0
      },
      "text/plain": [
       "HBox(children=(FloatProgress(value=0.0, description='Iteration', max=4.0, style=ProgressStyle(description_widt…"
      ]
     },
     "metadata": {},
     "output_type": "display_data"
    },
    {
     "name": "stdout",
     "output_type": "stream",
     "text": [
      "\n"
     ]
    },
    {
     "data": {
      "application/vnd.jupyter.widget-view+json": {
       "model_id": "86939a6fd04e4f5b8626175f01e5ce15",
       "version_major": 2,
       "version_minor": 0
      },
      "text/plain": [
       "HBox(children=(FloatProgress(value=0.0, description='Iteration', max=4.0, style=ProgressStyle(description_widt…"
      ]
     },
     "metadata": {},
     "output_type": "display_data"
    },
    {
     "name": "stdout",
     "output_type": "stream",
     "text": [
      "\n"
     ]
    },
    {
     "data": {
      "application/vnd.jupyter.widget-view+json": {
       "model_id": "46622bad45004ecdaf96c665ba46b9cb",
       "version_major": 2,
       "version_minor": 0
      },
      "text/plain": [
       "HBox(children=(FloatProgress(value=0.0, description='Iteration', max=4.0, style=ProgressStyle(description_widt…"
      ]
     },
     "metadata": {},
     "output_type": "display_data"
    },
    {
     "name": "stdout",
     "output_type": "stream",
     "text": [
      "\n"
     ]
    },
    {
     "data": {
      "application/vnd.jupyter.widget-view+json": {
       "model_id": "bfed5a1f88174499ad3b21a635555c4f",
       "version_major": 2,
       "version_minor": 0
      },
      "text/plain": [
       "HBox(children=(FloatProgress(value=0.0, description='Iteration', max=4.0, style=ProgressStyle(description_widt…"
      ]
     },
     "metadata": {},
     "output_type": "display_data"
    },
    {
     "name": "stdout",
     "output_type": "stream",
     "text": [
      "\n"
     ]
    },
    {
     "data": {
      "application/vnd.jupyter.widget-view+json": {
       "model_id": "3b236dcb1bd14a9b9f251a5cb342af80",
       "version_major": 2,
       "version_minor": 0
      },
      "text/plain": [
       "HBox(children=(FloatProgress(value=0.0, description='Iteration', max=4.0, style=ProgressStyle(description_widt…"
      ]
     },
     "metadata": {},
     "output_type": "display_data"
    },
    {
     "name": "stdout",
     "output_type": "stream",
     "text": [
      "\n"
     ]
    },
    {
     "data": {
      "application/vnd.jupyter.widget-view+json": {
       "model_id": "ccd161e8a0fe47b7bce4bcd8742e5993",
       "version_major": 2,
       "version_minor": 0
      },
      "text/plain": [
       "HBox(children=(FloatProgress(value=0.0, description='Iteration', max=4.0, style=ProgressStyle(description_widt…"
      ]
     },
     "metadata": {},
     "output_type": "display_data"
    },
    {
     "name": "stdout",
     "output_type": "stream",
     "text": [
      "\n"
     ]
    },
    {
     "data": {
      "application/vnd.jupyter.widget-view+json": {
       "model_id": "c01bfa16e3e94066895d155a6ff324e5",
       "version_major": 2,
       "version_minor": 0
      },
      "text/plain": [
       "HBox(children=(FloatProgress(value=0.0, description='Iteration', max=4.0, style=ProgressStyle(description_widt…"
      ]
     },
     "metadata": {},
     "output_type": "display_data"
    },
    {
     "name": "stdout",
     "output_type": "stream",
     "text": [
      "\n"
     ]
    },
    {
     "data": {
      "application/vnd.jupyter.widget-view+json": {
       "model_id": "439e12d6d39e4e9bb73bd7b66d656131",
       "version_major": 2,
       "version_minor": 0
      },
      "text/plain": [
       "HBox(children=(FloatProgress(value=0.0, description='Iteration', max=4.0, style=ProgressStyle(description_widt…"
      ]
     },
     "metadata": {},
     "output_type": "display_data"
    },
    {
     "name": "stdout",
     "output_type": "stream",
     "text": [
      "\n"
     ]
    },
    {
     "data": {
      "application/vnd.jupyter.widget-view+json": {
       "model_id": "b1cbc9bb47e146ee9545999b687366b2",
       "version_major": 2,
       "version_minor": 0
      },
      "text/plain": [
       "HBox(children=(FloatProgress(value=0.0, description='Iteration', max=4.0, style=ProgressStyle(description_widt…"
      ]
     },
     "metadata": {},
     "output_type": "display_data"
    },
    {
     "name": "stdout",
     "output_type": "stream",
     "text": [
      "\n"
     ]
    },
    {
     "data": {
      "application/vnd.jupyter.widget-view+json": {
       "model_id": "4f4410770857435aa4006eb930647bca",
       "version_major": 2,
       "version_minor": 0
      },
      "text/plain": [
       "HBox(children=(FloatProgress(value=0.0, description='Iteration', max=4.0, style=ProgressStyle(description_widt…"
      ]
     },
     "metadata": {},
     "output_type": "display_data"
    },
    {
     "name": "stdout",
     "output_type": "stream",
     "text": [
      "\n"
     ]
    },
    {
     "data": {
      "application/vnd.jupyter.widget-view+json": {
       "model_id": "91aca303860d4d60822f68f2b085ce32",
       "version_major": 2,
       "version_minor": 0
      },
      "text/plain": [
       "HBox(children=(FloatProgress(value=0.0, description='Iteration', max=4.0, style=ProgressStyle(description_widt…"
      ]
     },
     "metadata": {},
     "output_type": "display_data"
    },
    {
     "name": "stdout",
     "output_type": "stream",
     "text": [
      "\n"
     ]
    },
    {
     "data": {
      "application/vnd.jupyter.widget-view+json": {
       "model_id": "b85906a41fbd4e1cafceb5950a27ca49",
       "version_major": 2,
       "version_minor": 0
      },
      "text/plain": [
       "HBox(children=(FloatProgress(value=0.0, description='Iteration', max=4.0, style=ProgressStyle(description_widt…"
      ]
     },
     "metadata": {},
     "output_type": "display_data"
    },
    {
     "name": "stdout",
     "output_type": "stream",
     "text": [
      "\n"
     ]
    },
    {
     "data": {
      "application/vnd.jupyter.widget-view+json": {
       "model_id": "d31425ef07244b1fab85e30e4bdd5a68",
       "version_major": 2,
       "version_minor": 0
      },
      "text/plain": [
       "HBox(children=(FloatProgress(value=0.0, description='Iteration', max=4.0, style=ProgressStyle(description_widt…"
      ]
     },
     "metadata": {},
     "output_type": "display_data"
    },
    {
     "name": "stdout",
     "output_type": "stream",
     "text": [
      "\n",
      "\n",
      "CPU times: user 3min 43s, sys: 2min 5s, total: 5min 48s\n",
      "Wall time: 3min 10s\n"
     ]
    },
    {
     "data": {
      "text/plain": [
       "TrainOutput(global_step=160, training_loss=7.3459084063768385)"
      ]
     },
     "execution_count": 23,
     "metadata": {},
     "output_type": "execute_result"
    }
   ],
   "source": [
    "%%time\n",
    "trainer.train()"
   ]
  },
  {
   "cell_type": "markdown",
   "metadata": {
    "colab_type": "text",
    "id": "_ZkooHz1-_2h"
   },
   "source": [
    "#### 🎉 Save final model (+ tokenizer + config) to disk"
   ]
  },
  {
   "cell_type": "code",
   "execution_count": 24,
   "metadata": {
    "colab": {},
    "colab_type": "code",
    "collapsed": true,
    "id": "QDNgPls7_l13"
   },
   "outputs": [],
   "source": [
    "trainer.save_model(\"./EsperBERTo\")"
   ]
  },
  {
   "cell_type": "code",
   "execution_count": 25,
   "metadata": {},
   "outputs": [
    {
     "data": {
      "text/plain": [
       "('./EsperBERTo/vocab.json',\n",
       " './EsperBERTo/merges.txt',\n",
       " './EsperBERTo/special_tokens_map.json',\n",
       " './EsperBERTo/added_tokens.json')"
      ]
     },
     "execution_count": 25,
     "metadata": {},
     "output_type": "execute_result"
    }
   ],
   "source": [
    "tokenizer.save_pretrained(\"./EsperBERTo\")"
   ]
  },
  {
   "cell_type": "markdown",
   "metadata": {
    "colab_type": "text",
    "id": "d0caceCy_p1-"
   },
   "source": [
    "## 4. Check that the LM actually trained"
   ]
  },
  {
   "cell_type": "markdown",
   "metadata": {
    "colab_type": "text",
    "id": "iIQJ8ND_AEhl"
   },
   "source": [
    "Aside from looking at the training and eval losses going down, the easiest way to check whether our language model is learning anything interesting is via the `FillMaskPipeline`.\n",
    "\n",
    "Pipelines are simple wrappers around tokenizers and models, and the 'fill-mask' one will let you input a sequence containing a masked token (here, `<mask>`) and return a list of the most probable filled sequences, with their probabilities.\n",
    "\n"
   ]
  },
  {
   "cell_type": "code",
   "execution_count": 26,
   "metadata": {
    "colab": {},
    "colab_type": "code",
    "id": "ltXgXyCbAJLY"
   },
   "outputs": [
    {
     "name": "stderr",
     "output_type": "stream",
     "text": [
      "/home/taylor/anaconda3/lib/python3.7/site-packages/transformers/modeling_auto.py:805: FutureWarning: The class `AutoModelWithLMHead` is deprecated and will be removed in a future version. Please use `AutoModelForCausalLM` for causal language models, `AutoModelForMaskedLM` for masked language models and `AutoModelForSeq2SeqLM` for encoder-decoder models.\n",
      "  FutureWarning,\n"
     ]
    }
   ],
   "source": [
    "from transformers import pipeline\n",
    "\n",
    "fill_mask = pipeline(\n",
    "    \"fill-mask\",\n",
    "    model=\"./EsperBERTo\",\n",
    "    tokenizer=\"./EsperBERTo\"\n",
    ")"
   ]
  },
  {
   "cell_type": "code",
   "execution_count": 27,
   "metadata": {
    "colab": {
     "base_uri": "https://localhost:8080/",
     "height": 283
    },
    "colab_type": "code",
    "id": "UIvgZ3S6AO0z",
    "outputId": "5f3d2f00-abdc-44a9-9c1b-75e3ec328576"
   },
   "outputs": [
    {
     "data": {
      "text/plain": [
       "[{'sequence': '<s>I will vote for.</s>',\n",
       "  'score': 0.0688648372888565,\n",
       "  'token': 225,\n",
       "  'token_str': 'Ġ'},\n",
       " {'sequence': '<s>I will vote for..</s>',\n",
       "  'score': 0.050017476081848145,\n",
       "  'token': 18,\n",
       "  'token_str': '.'},\n",
       " {'sequence': '<s>I will vote for,.</s>',\n",
       "  'score': 0.04943490028381348,\n",
       "  'token': 281,\n",
       "  'token_str': 'Ġ,'},\n",
       " {'sequence': '<s>I will vote for,.</s>',\n",
       "  'score': 0.02165216952562332,\n",
       "  'token': 16,\n",
       "  'token_str': ','},\n",
       " {'sequence': '<s>I will vote for .</s>',\n",
       "  'score': 0.011918372474610806,\n",
       "  'token': 271,\n",
       "  'token_str': 'ĠĠ'}]"
      ]
     },
     "execution_count": 27,
     "metadata": {},
     "output_type": "execute_result"
    }
   ],
   "source": [
    "# The sun <mask>.\n",
    "# =>\n",
    "\n",
    "fill_mask(\"I will vote for <mask>.\")"
   ]
  },
  {
   "cell_type": "markdown",
   "metadata": {
    "colab_type": "text",
    "id": "i0qCyyhNAWZi"
   },
   "source": [
    "Ok, simple syntax/grammar works. Let’s try a slightly more interesting prompt:\n",
    "\n"
   ]
  },
  {
   "cell_type": "code",
   "execution_count": 29,
   "metadata": {
    "colab": {
     "base_uri": "https://localhost:8080/",
     "height": 283
    },
    "colab_type": "code",
    "id": "YZ9HSQxAAbme",
    "outputId": "aabfeedc-b1d0-4837-b01d-cd42726a5a3d"
   },
   "outputs": [
    {
     "data": {
      "text/plain": [
       "[{'sequence': '<s>  West</s>',\n",
       "  'score': 0.9562067985534668,\n",
       "  'token': 225,\n",
       "  'token_str': 'Ġ'},\n",
       " {'sequence': '<s>   West</s>',\n",
       "  'score': 0.00018933345563709736,\n",
       "  'token': 271,\n",
       "  'token_str': 'ĠĠ'},\n",
       " {'sequence': '<s>. West</s>',\n",
       "  'score': 0.00010488053521839902,\n",
       "  'token': 18,\n",
       "  'token_str': '.'},\n",
       " {'sequence': '<s>, West</s>',\n",
       "  'score': 0.0001039215421769768,\n",
       "  'token': 16,\n",
       "  'token_str': ','},\n",
       " {'sequence': '<s>’ West</s>',\n",
       "  'score': 7.487100810976699e-05,\n",
       "  'token': 322,\n",
       "  'token_str': 'âĢĻ'}]"
      ]
     },
     "execution_count": 29,
     "metadata": {},
     "output_type": "execute_result"
    }
   ],
   "source": [
    "fill_mask(\"<mask> West\")\n",
    "\n",
    "# This is the beginning of a beautiful <mask>.\n",
    "# =>"
   ]
  }
 ],
 "metadata": {
  "accelerator": "GPU",
  "colab": {
   "collapsed_sections": [],
   "include_colab_link": true,
   "machine_shape": "hm",
   "name": "01_how-to-train.ipynb",
   "provenance": [],
   "toc_visible": true
  },
  "kernelspec": {
   "display_name": "Python 3",
   "language": "python",
   "name": "python3"
  },
  "language_info": {
   "codemirror_mode": {
    "name": "ipython",
    "version": 3
   },
   "file_extension": ".py",
   "mimetype": "text/x-python",
   "name": "python",
   "nbconvert_exporter": "python",
   "pygments_lexer": "ipython3",
   "version": "3.6.3"
  },
  "widgets": {
   "application/vnd.jupyter.widget-state+json": {
    "016d7c8318f742c1943464b08232a510": {
     "model_module": "@jupyter-widgets/base",
     "model_name": "LayoutModel",
     "state": {
      "_model_module": "@jupyter-widgets/base",
      "_model_module_version": "1.2.0",
      "_model_name": "LayoutModel",
      "_view_count": null,
      "_view_module": "@jupyter-widgets/base",
      "_view_module_version": "1.2.0",
      "_view_name": "LayoutView",
      "align_content": null,
      "align_items": null,
      "align_self": null,
      "border": null,
      "bottom": null,
      "display": null,
      "flex": null,
      "flex_flow": null,
      "grid_area": null,
      "grid_auto_columns": null,
      "grid_auto_flow": null,
      "grid_auto_rows": null,
      "grid_column": null,
      "grid_gap": null,
      "grid_row": null,
      "grid_template_areas": null,
      "grid_template_columns": null,
      "grid_template_rows": null,
      "height": null,
      "justify_content": null,
      "justify_items": null,
      "left": null,
      "margin": null,
      "max_height": null,
      "max_width": null,
      "min_height": null,
      "min_width": null,
      "object_fit": null,
      "object_position": null,
      "order": null,
      "overflow": null,
      "overflow_x": null,
      "overflow_y": null,
      "padding": null,
      "right": null,
      "top": null,
      "visibility": null,
      "width": null
     }
    },
    "04e7e6d291da49d5816dc98a2904e95c": {
     "model_module": "@jupyter-widgets/controls",
     "model_name": "HTMLModel",
     "state": {
      "_dom_classes": [],
      "_model_module": "@jupyter-widgets/controls",
      "_model_module_version": "1.5.0",
      "_model_name": "HTMLModel",
      "_view_count": null,
      "_view_module": "@jupyter-widgets/controls",
      "_view_module_version": "1.5.0",
      "_view_name": "HTMLView",
      "description": "",
      "description_tooltip": null,
      "layout": "IPY_MODEL_39c23c6a972b419eb2eeeebafeaedc22",
      "placeholder": "​",
      "style": "IPY_MODEL_8388e9da9da4492c98c19235ca5fc1b5",
      "value": " 15228/15228 [2:46:46&lt;00:00,  1.52it/s]"
     }
    },
    "0989d41a4da24e9ebff377e02127642c": {
     "model_module": "@jupyter-widgets/controls",
     "model_name": "HBoxModel",
     "state": {
      "_dom_classes": [],
      "_model_module": "@jupyter-widgets/controls",
      "_model_module_version": "1.5.0",
      "_model_name": "HBoxModel",
      "_view_count": null,
      "_view_module": "@jupyter-widgets/controls",
      "_view_module_version": "1.5.0",
      "_view_name": "HBoxView",
      "box_style": "",
      "children": [
       "IPY_MODEL_d295dd80550447d88da0f04ce36a22ff",
       "IPY_MODEL_04e7e6d291da49d5816dc98a2904e95c"
      ],
      "layout": "IPY_MODEL_42c6061ef7e44f179db5a6e3551c0f17"
     }
    },
    "39c23c6a972b419eb2eeeebafeaedc22": {
     "model_module": "@jupyter-widgets/base",
     "model_name": "LayoutModel",
     "state": {
      "_model_module": "@jupyter-widgets/base",
      "_model_module_version": "1.2.0",
      "_model_name": "LayoutModel",
      "_view_count": null,
      "_view_module": "@jupyter-widgets/base",
      "_view_module_version": "1.2.0",
      "_view_name": "LayoutView",
      "align_content": null,
      "align_items": null,
      "align_self": null,
      "border": null,
      "bottom": null,
      "display": null,
      "flex": null,
      "flex_flow": null,
      "grid_area": null,
      "grid_auto_columns": null,
      "grid_auto_flow": null,
      "grid_auto_rows": null,
      "grid_column": null,
      "grid_gap": null,
      "grid_row": null,
      "grid_template_areas": null,
      "grid_template_columns": null,
      "grid_template_rows": null,
      "height": null,
      "justify_content": null,
      "justify_items": null,
      "left": null,
      "margin": null,
      "max_height": null,
      "max_width": null,
      "min_height": null,
      "min_width": null,
      "object_fit": null,
      "object_position": null,
      "order": null,
      "overflow": null,
      "overflow_x": null,
      "overflow_y": null,
      "padding": null,
      "right": null,
      "top": null,
      "visibility": null,
      "width": null
     }
    },
    "40bf955ba0284e84b198da6be8654219": {
     "model_module": "@jupyter-widgets/controls",
     "model_name": "ProgressStyleModel",
     "state": {
      "_model_module": "@jupyter-widgets/controls",
      "_model_module_version": "1.5.0",
      "_model_name": "ProgressStyleModel",
      "_view_count": null,
      "_view_module": "@jupyter-widgets/base",
      "_view_module_version": "1.2.0",
      "_view_name": "StyleView",
      "bar_color": null,
      "description_width": "initial"
     }
    },
    "42c6061ef7e44f179db5a6e3551c0f17": {
     "model_module": "@jupyter-widgets/base",
     "model_name": "LayoutModel",
     "state": {
      "_model_module": "@jupyter-widgets/base",
      "_model_module_version": "1.2.0",
      "_model_name": "LayoutModel",
      "_view_count": null,
      "_view_module": "@jupyter-widgets/base",
      "_view_module_version": "1.2.0",
      "_view_name": "LayoutView",
      "align_content": null,
      "align_items": null,
      "align_self": null,
      "border": null,
      "bottom": null,
      "display": null,
      "flex": null,
      "flex_flow": null,
      "grid_area": null,
      "grid_auto_columns": null,
      "grid_auto_flow": null,
      "grid_auto_rows": null,
      "grid_column": null,
      "grid_gap": null,
      "grid_row": null,
      "grid_template_areas": null,
      "grid_template_columns": null,
      "grid_template_rows": null,
      "height": null,
      "justify_content": null,
      "justify_items": null,
      "left": null,
      "margin": null,
      "max_height": null,
      "max_width": null,
      "min_height": null,
      "min_width": null,
      "object_fit": null,
      "object_position": null,
      "order": null,
      "overflow": null,
      "overflow_x": null,
      "overflow_y": null,
      "padding": null,
      "right": null,
      "top": null,
      "visibility": null,
      "width": null
     }
    },
    "6feb10aeb43147e6aba028d065947ae8": {
     "model_module": "@jupyter-widgets/base",
     "model_name": "LayoutModel",
     "state": {
      "_model_module": "@jupyter-widgets/base",
      "_model_module_version": "1.2.0",
      "_model_name": "LayoutModel",
      "_view_count": null,
      "_view_module": "@jupyter-widgets/base",
      "_view_module_version": "1.2.0",
      "_view_name": "LayoutView",
      "align_content": null,
      "align_items": null,
      "align_self": null,
      "border": null,
      "bottom": null,
      "display": null,
      "flex": null,
      "flex_flow": null,
      "grid_area": null,
      "grid_auto_columns": null,
      "grid_auto_flow": null,
      "grid_auto_rows": null,
      "grid_column": null,
      "grid_gap": null,
      "grid_row": null,
      "grid_template_areas": null,
      "grid_template_columns": null,
      "grid_template_rows": null,
      "height": null,
      "justify_content": null,
      "justify_items": null,
      "left": null,
      "margin": null,
      "max_height": null,
      "max_width": null,
      "min_height": null,
      "min_width": null,
      "object_fit": null,
      "object_position": null,
      "order": null,
      "overflow": null,
      "overflow_x": null,
      "overflow_y": null,
      "padding": null,
      "right": null,
      "top": null,
      "visibility": null,
      "width": null
     }
    },
    "837c9ddc3d594e088891874560c646b8": {
     "model_module": "@jupyter-widgets/controls",
     "model_name": "FloatProgressModel",
     "state": {
      "_dom_classes": [],
      "_model_module": "@jupyter-widgets/controls",
      "_model_module_version": "1.5.0",
      "_model_name": "FloatProgressModel",
      "_view_count": null,
      "_view_module": "@jupyter-widgets/controls",
      "_view_module_version": "1.5.0",
      "_view_name": "ProgressView",
      "bar_style": "success",
      "description": "Epoch: 100%",
      "description_tooltip": null,
      "layout": "IPY_MODEL_fe20a8dae6e84628b5076d02183090f5",
      "max": 1,
      "min": 0,
      "orientation": "horizontal",
      "style": "IPY_MODEL_40bf955ba0284e84b198da6be8654219",
      "value": 1
     }
    },
    "8388e9da9da4492c98c19235ca5fc1b5": {
     "model_module": "@jupyter-widgets/controls",
     "model_name": "DescriptionStyleModel",
     "state": {
      "_model_module": "@jupyter-widgets/controls",
      "_model_module_version": "1.5.0",
      "_model_name": "DescriptionStyleModel",
      "_view_count": null,
      "_view_module": "@jupyter-widgets/base",
      "_view_module_version": "1.2.0",
      "_view_name": "StyleView",
      "description_width": ""
     }
    },
    "93b3f9eae3cb4e3e859cf456e3547c6d": {
     "model_module": "@jupyter-widgets/controls",
     "model_name": "DescriptionStyleModel",
     "state": {
      "_model_module": "@jupyter-widgets/controls",
      "_model_module_version": "1.5.0",
      "_model_name": "DescriptionStyleModel",
      "_view_count": null,
      "_view_module": "@jupyter-widgets/base",
      "_view_module_version": "1.2.0",
      "_view_name": "StyleView",
      "description_width": ""
     }
    },
    "a491e8caa0a048beb3b5259f14eb233f": {
     "model_module": "@jupyter-widgets/base",
     "model_name": "LayoutModel",
     "state": {
      "_model_module": "@jupyter-widgets/base",
      "_model_module_version": "1.2.0",
      "_model_name": "LayoutModel",
      "_view_count": null,
      "_view_module": "@jupyter-widgets/base",
      "_view_module_version": "1.2.0",
      "_view_name": "LayoutView",
      "align_content": null,
      "align_items": null,
      "align_self": null,
      "border": null,
      "bottom": null,
      "display": null,
      "flex": null,
      "flex_flow": null,
      "grid_area": null,
      "grid_auto_columns": null,
      "grid_auto_flow": null,
      "grid_auto_rows": null,
      "grid_column": null,
      "grid_gap": null,
      "grid_row": null,
      "grid_template_areas": null,
      "grid_template_columns": null,
      "grid_template_rows": null,
      "height": null,
      "justify_content": null,
      "justify_items": null,
      "left": null,
      "margin": null,
      "max_height": null,
      "max_width": null,
      "min_height": null,
      "min_width": null,
      "object_fit": null,
      "object_position": null,
      "order": null,
      "overflow": null,
      "overflow_x": null,
      "overflow_y": null,
      "padding": null,
      "right": null,
      "top": null,
      "visibility": null,
      "width": null
     }
    },
    "a58a66392b644b1384661e850c077a6c": {
     "model_module": "@jupyter-widgets/controls",
     "model_name": "HBoxModel",
     "state": {
      "_dom_classes": [],
      "_model_module": "@jupyter-widgets/controls",
      "_model_module_version": "1.5.0",
      "_model_name": "HBoxModel",
      "_view_count": null,
      "_view_module": "@jupyter-widgets/controls",
      "_view_module_version": "1.5.0",
      "_view_name": "HBoxView",
      "box_style": "",
      "children": [
       "IPY_MODEL_837c9ddc3d594e088891874560c646b8",
       "IPY_MODEL_dbf50873d62c4ba39321faefbed0cca5"
      ],
      "layout": "IPY_MODEL_a491e8caa0a048beb3b5259f14eb233f"
     }
    },
    "d295dd80550447d88da0f04ce36a22ff": {
     "model_module": "@jupyter-widgets/controls",
     "model_name": "FloatProgressModel",
     "state": {
      "_dom_classes": [],
      "_model_module": "@jupyter-widgets/controls",
      "_model_module_version": "1.5.0",
      "_model_name": "FloatProgressModel",
      "_view_count": null,
      "_view_module": "@jupyter-widgets/controls",
      "_view_module_version": "1.5.0",
      "_view_name": "ProgressView",
      "bar_style": "success",
      "description": "Iteration: 100%",
      "description_tooltip": null,
      "layout": "IPY_MODEL_016d7c8318f742c1943464b08232a510",
      "max": 15228,
      "min": 0,
      "orientation": "horizontal",
      "style": "IPY_MODEL_e7d8c3a4fecd40778e32966b29ea65a1",
      "value": 15228
     }
    },
    "dbf50873d62c4ba39321faefbed0cca5": {
     "model_module": "@jupyter-widgets/controls",
     "model_name": "HTMLModel",
     "state": {
      "_dom_classes": [],
      "_model_module": "@jupyter-widgets/controls",
      "_model_module_version": "1.5.0",
      "_model_name": "HTMLModel",
      "_view_count": null,
      "_view_module": "@jupyter-widgets/controls",
      "_view_module_version": "1.5.0",
      "_view_name": "HTMLView",
      "description": "",
      "description_tooltip": null,
      "layout": "IPY_MODEL_6feb10aeb43147e6aba028d065947ae8",
      "placeholder": "​",
      "style": "IPY_MODEL_93b3f9eae3cb4e3e859cf456e3547c6d",
      "value": " 1/1 [2:46:46&lt;00:00, 10006.17s/it]"
     }
    },
    "e7d8c3a4fecd40778e32966b29ea65a1": {
     "model_module": "@jupyter-widgets/controls",
     "model_name": "ProgressStyleModel",
     "state": {
      "_model_module": "@jupyter-widgets/controls",
      "_model_module_version": "1.5.0",
      "_model_name": "ProgressStyleModel",
      "_view_count": null,
      "_view_module": "@jupyter-widgets/base",
      "_view_module_version": "1.2.0",
      "_view_name": "StyleView",
      "bar_color": null,
      "description_width": "initial"
     }
    },
    "fe20a8dae6e84628b5076d02183090f5": {
     "model_module": "@jupyter-widgets/base",
     "model_name": "LayoutModel",
     "state": {
      "_model_module": "@jupyter-widgets/base",
      "_model_module_version": "1.2.0",
      "_model_name": "LayoutModel",
      "_view_count": null,
      "_view_module": "@jupyter-widgets/base",
      "_view_module_version": "1.2.0",
      "_view_name": "LayoutView",
      "align_content": null,
      "align_items": null,
      "align_self": null,
      "border": null,
      "bottom": null,
      "display": null,
      "flex": null,
      "flex_flow": null,
      "grid_area": null,
      "grid_auto_columns": null,
      "grid_auto_flow": null,
      "grid_auto_rows": null,
      "grid_column": null,
      "grid_gap": null,
      "grid_row": null,
      "grid_template_areas": null,
      "grid_template_columns": null,
      "grid_template_rows": null,
      "height": null,
      "justify_content": null,
      "justify_items": null,
      "left": null,
      "margin": null,
      "max_height": null,
      "max_width": null,
      "min_height": null,
      "min_width": null,
      "object_fit": null,
      "object_position": null,
      "order": null,
      "overflow": null,
      "overflow_x": null,
      "overflow_y": null,
      "padding": null,
      "right": null,
      "top": null,
      "visibility": null,
      "width": null
     }
    }
   }
  }
 },
 "nbformat": 4,
 "nbformat_minor": 1
}
